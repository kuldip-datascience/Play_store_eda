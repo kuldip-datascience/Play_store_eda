{
  "nbformat": 4,
  "nbformat_minor": 0,
  "metadata": {
    "colab": {
      "provenance": [],
      "collapsed_sections": [
        "_7J70L7WKhL7",
        "jqLrCJntKu_1",
        "QVu2kmxd7BGn",
        "vw42xryhOZ_v",
        "qNVU7JoCTS5l",
        "yrLy-Lepoys1",
        "ZwG0ts_RnSum",
        "ix4H8NTnAjHV"
      ],
      "mount_file_id": "1UcO6tzWvRb4H9ovTuOKI4tdZr9rYgUxq",
      "authorship_tag": "ABX9TyMyf15aJlE5V2mnqDPpjgx0",
      "include_colab_link": true
    },
    "kernelspec": {
      "name": "python3",
      "display_name": "Python 3"
    },
    "language_info": {
      "name": "python"
    }
  },
  "cells": [
    {
      "cell_type": "markdown",
      "metadata": {
        "id": "view-in-github",
        "colab_type": "text"
      },
      "source": [
        "<a href=\"https://colab.research.google.com/github/kuldip-datascience/Play_store_eda/blob/main/Kuldip_parmar.ipynb\" target=\"_parent\"><img src=\"https://colab.research.google.com/assets/colab-badge.svg\" alt=\"Open In Colab\"/></a>"
      ]
    },
    {
      "cell_type": "markdown",
      "source": [
        "# **1) IMPORTED LIBRARIES**"
      ],
      "metadata": {
        "id": "_7J70L7WKhL7"
      }
    },
    {
      "cell_type": "code",
      "execution_count": 2,
      "metadata": {
        "id": "IK3VwtSR6x_u"
      },
      "outputs": [],
      "source": [
        "import pandas as pd\n",
        "import numpy as np"
      ]
    },
    {
      "cell_type": "markdown",
      "source": [
        "# **2) LOAD DATASET INTO PANDAS**"
      ],
      "metadata": {
        "id": "jqLrCJntKu_1"
      }
    },
    {
      "cell_type": "code",
      "source": [
        "play_store=pd.read_csv('/content/drive/MyDrive/Capstone Projects/play-store review/Copy of Play Store Data.csv')"
      ],
      "metadata": {
        "id": "-hDuNoIFK4YH"
      },
      "execution_count": 3,
      "outputs": []
    },
    {
      "cell_type": "markdown",
      "source": [
        "# **3) ANALYSIS OF DATASET**\n",
        "\n"
      ],
      "metadata": {
        "id": "QVu2kmxd7BGn"
      }
    },
    {
      "cell_type": "markdown",
      "source": [
        "**3.1 - We will understand first the columns and rows and the information associated within.**"
      ],
      "metadata": {
        "id": "0G9d7G0CKWi3"
      }
    },
    {
      "cell_type": "code",
      "source": [
        "# now we check the complete dataset\n",
        "play_store.head().T"
      ],
      "metadata": {
        "id": "pu-SUcb8_lel",
        "colab": {
          "base_uri": "https://localhost:8080/",
          "height": 0
        },
        "outputId": "06905aad-d751-405b-bc6f-2823343a1262"
      },
      "execution_count": 4,
      "outputs": [
        {
          "output_type": "execute_result",
          "data": {
            "text/plain": [
              "                                                             0  \\\n",
              "App             Photo Editor & Candy Camera & Grid & ScrapBook   \n",
              "Category                                        ART_AND_DESIGN   \n",
              "Rating                                                     4.1   \n",
              "Reviews                                                    159   \n",
              "Size                                                       19M   \n",
              "Installs                                               10,000+   \n",
              "Type                                                      Free   \n",
              "Price                                                        0   \n",
              "Content Rating                                        Everyone   \n",
              "Genres                                            Art & Design   \n",
              "Last Updated                                   January 7, 2018   \n",
              "Current Ver                                              1.0.0   \n",
              "Android Ver                                       4.0.3 and up   \n",
              "\n",
              "                                        1  \\\n",
              "App                   Coloring book moana   \n",
              "Category                   ART_AND_DESIGN   \n",
              "Rating                                3.9   \n",
              "Reviews                               967   \n",
              "Size                                  14M   \n",
              "Installs                         500,000+   \n",
              "Type                                 Free   \n",
              "Price                                   0   \n",
              "Content Rating                   Everyone   \n",
              "Genres          Art & Design;Pretend Play   \n",
              "Last Updated             January 15, 2018   \n",
              "Current Ver                         2.0.0   \n",
              "Android Ver                  4.0.3 and up   \n",
              "\n",
              "                                                                2  \\\n",
              "App             U Launcher Lite – FREE Live Cool Themes, Hide ...   \n",
              "Category                                           ART_AND_DESIGN   \n",
              "Rating                                                        4.7   \n",
              "Reviews                                                     87510   \n",
              "Size                                                         8.7M   \n",
              "Installs                                               5,000,000+   \n",
              "Type                                                         Free   \n",
              "Price                                                           0   \n",
              "Content Rating                                           Everyone   \n",
              "Genres                                               Art & Design   \n",
              "Last Updated                                       August 1, 2018   \n",
              "Current Ver                                                 1.2.4   \n",
              "Android Ver                                          4.0.3 and up   \n",
              "\n",
              "                                    3                                      4  \n",
              "App             Sketch - Draw & Paint  Pixel Draw - Number Art Coloring Book  \n",
              "Category               ART_AND_DESIGN                         ART_AND_DESIGN  \n",
              "Rating                            4.5                                    4.3  \n",
              "Reviews                        215644                                    967  \n",
              "Size                              25M                                   2.8M  \n",
              "Installs                  50,000,000+                               100,000+  \n",
              "Type                             Free                                   Free  \n",
              "Price                               0                                      0  \n",
              "Content Rating                   Teen                               Everyone  \n",
              "Genres                   Art & Design                Art & Design;Creativity  \n",
              "Last Updated             June 8, 2018                          June 20, 2018  \n",
              "Current Ver        Varies with device                                    1.1  \n",
              "Android Ver                4.2 and up                             4.4 and up  "
            ],
            "text/html": [
              "\n",
              "  <div id=\"df-5aa1c052-94bb-448f-822b-34c9b943e3ff\">\n",
              "    <div class=\"colab-df-container\">\n",
              "      <div>\n",
              "<style scoped>\n",
              "    .dataframe tbody tr th:only-of-type {\n",
              "        vertical-align: middle;\n",
              "    }\n",
              "\n",
              "    .dataframe tbody tr th {\n",
              "        vertical-align: top;\n",
              "    }\n",
              "\n",
              "    .dataframe thead th {\n",
              "        text-align: right;\n",
              "    }\n",
              "</style>\n",
              "<table border=\"1\" class=\"dataframe\">\n",
              "  <thead>\n",
              "    <tr style=\"text-align: right;\">\n",
              "      <th></th>\n",
              "      <th>0</th>\n",
              "      <th>1</th>\n",
              "      <th>2</th>\n",
              "      <th>3</th>\n",
              "      <th>4</th>\n",
              "    </tr>\n",
              "  </thead>\n",
              "  <tbody>\n",
              "    <tr>\n",
              "      <th>App</th>\n",
              "      <td>Photo Editor &amp; Candy Camera &amp; Grid &amp; ScrapBook</td>\n",
              "      <td>Coloring book moana</td>\n",
              "      <td>U Launcher Lite – FREE Live Cool Themes, Hide ...</td>\n",
              "      <td>Sketch - Draw &amp; Paint</td>\n",
              "      <td>Pixel Draw - Number Art Coloring Book</td>\n",
              "    </tr>\n",
              "    <tr>\n",
              "      <th>Category</th>\n",
              "      <td>ART_AND_DESIGN</td>\n",
              "      <td>ART_AND_DESIGN</td>\n",
              "      <td>ART_AND_DESIGN</td>\n",
              "      <td>ART_AND_DESIGN</td>\n",
              "      <td>ART_AND_DESIGN</td>\n",
              "    </tr>\n",
              "    <tr>\n",
              "      <th>Rating</th>\n",
              "      <td>4.1</td>\n",
              "      <td>3.9</td>\n",
              "      <td>4.7</td>\n",
              "      <td>4.5</td>\n",
              "      <td>4.3</td>\n",
              "    </tr>\n",
              "    <tr>\n",
              "      <th>Reviews</th>\n",
              "      <td>159</td>\n",
              "      <td>967</td>\n",
              "      <td>87510</td>\n",
              "      <td>215644</td>\n",
              "      <td>967</td>\n",
              "    </tr>\n",
              "    <tr>\n",
              "      <th>Size</th>\n",
              "      <td>19M</td>\n",
              "      <td>14M</td>\n",
              "      <td>8.7M</td>\n",
              "      <td>25M</td>\n",
              "      <td>2.8M</td>\n",
              "    </tr>\n",
              "    <tr>\n",
              "      <th>Installs</th>\n",
              "      <td>10,000+</td>\n",
              "      <td>500,000+</td>\n",
              "      <td>5,000,000+</td>\n",
              "      <td>50,000,000+</td>\n",
              "      <td>100,000+</td>\n",
              "    </tr>\n",
              "    <tr>\n",
              "      <th>Type</th>\n",
              "      <td>Free</td>\n",
              "      <td>Free</td>\n",
              "      <td>Free</td>\n",
              "      <td>Free</td>\n",
              "      <td>Free</td>\n",
              "    </tr>\n",
              "    <tr>\n",
              "      <th>Price</th>\n",
              "      <td>0</td>\n",
              "      <td>0</td>\n",
              "      <td>0</td>\n",
              "      <td>0</td>\n",
              "      <td>0</td>\n",
              "    </tr>\n",
              "    <tr>\n",
              "      <th>Content Rating</th>\n",
              "      <td>Everyone</td>\n",
              "      <td>Everyone</td>\n",
              "      <td>Everyone</td>\n",
              "      <td>Teen</td>\n",
              "      <td>Everyone</td>\n",
              "    </tr>\n",
              "    <tr>\n",
              "      <th>Genres</th>\n",
              "      <td>Art &amp; Design</td>\n",
              "      <td>Art &amp; Design;Pretend Play</td>\n",
              "      <td>Art &amp; Design</td>\n",
              "      <td>Art &amp; Design</td>\n",
              "      <td>Art &amp; Design;Creativity</td>\n",
              "    </tr>\n",
              "    <tr>\n",
              "      <th>Last Updated</th>\n",
              "      <td>January 7, 2018</td>\n",
              "      <td>January 15, 2018</td>\n",
              "      <td>August 1, 2018</td>\n",
              "      <td>June 8, 2018</td>\n",
              "      <td>June 20, 2018</td>\n",
              "    </tr>\n",
              "    <tr>\n",
              "      <th>Current Ver</th>\n",
              "      <td>1.0.0</td>\n",
              "      <td>2.0.0</td>\n",
              "      <td>1.2.4</td>\n",
              "      <td>Varies with device</td>\n",
              "      <td>1.1</td>\n",
              "    </tr>\n",
              "    <tr>\n",
              "      <th>Android Ver</th>\n",
              "      <td>4.0.3 and up</td>\n",
              "      <td>4.0.3 and up</td>\n",
              "      <td>4.0.3 and up</td>\n",
              "      <td>4.2 and up</td>\n",
              "      <td>4.4 and up</td>\n",
              "    </tr>\n",
              "  </tbody>\n",
              "</table>\n",
              "</div>\n",
              "      <button class=\"colab-df-convert\" onclick=\"convertToInteractive('df-5aa1c052-94bb-448f-822b-34c9b943e3ff')\"\n",
              "              title=\"Convert this dataframe to an interactive table.\"\n",
              "              style=\"display:none;\">\n",
              "        \n",
              "  <svg xmlns=\"http://www.w3.org/2000/svg\" height=\"24px\"viewBox=\"0 0 24 24\"\n",
              "       width=\"24px\">\n",
              "    <path d=\"M0 0h24v24H0V0z\" fill=\"none\"/>\n",
              "    <path d=\"M18.56 5.44l.94 2.06.94-2.06 2.06-.94-2.06-.94-.94-2.06-.94 2.06-2.06.94zm-11 1L8.5 8.5l.94-2.06 2.06-.94-2.06-.94L8.5 2.5l-.94 2.06-2.06.94zm10 10l.94 2.06.94-2.06 2.06-.94-2.06-.94-.94-2.06-.94 2.06-2.06.94z\"/><path d=\"M17.41 7.96l-1.37-1.37c-.4-.4-.92-.59-1.43-.59-.52 0-1.04.2-1.43.59L10.3 9.45l-7.72 7.72c-.78.78-.78 2.05 0 2.83L4 21.41c.39.39.9.59 1.41.59.51 0 1.02-.2 1.41-.59l7.78-7.78 2.81-2.81c.8-.78.8-2.07 0-2.86zM5.41 20L4 18.59l7.72-7.72 1.47 1.35L5.41 20z\"/>\n",
              "  </svg>\n",
              "      </button>\n",
              "      \n",
              "  <style>\n",
              "    .colab-df-container {\n",
              "      display:flex;\n",
              "      flex-wrap:wrap;\n",
              "      gap: 12px;\n",
              "    }\n",
              "\n",
              "    .colab-df-convert {\n",
              "      background-color: #E8F0FE;\n",
              "      border: none;\n",
              "      border-radius: 50%;\n",
              "      cursor: pointer;\n",
              "      display: none;\n",
              "      fill: #1967D2;\n",
              "      height: 32px;\n",
              "      padding: 0 0 0 0;\n",
              "      width: 32px;\n",
              "    }\n",
              "\n",
              "    .colab-df-convert:hover {\n",
              "      background-color: #E2EBFA;\n",
              "      box-shadow: 0px 1px 2px rgba(60, 64, 67, 0.3), 0px 1px 3px 1px rgba(60, 64, 67, 0.15);\n",
              "      fill: #174EA6;\n",
              "    }\n",
              "\n",
              "    [theme=dark] .colab-df-convert {\n",
              "      background-color: #3B4455;\n",
              "      fill: #D2E3FC;\n",
              "    }\n",
              "\n",
              "    [theme=dark] .colab-df-convert:hover {\n",
              "      background-color: #434B5C;\n",
              "      box-shadow: 0px 1px 3px 1px rgba(0, 0, 0, 0.15);\n",
              "      filter: drop-shadow(0px 1px 2px rgba(0, 0, 0, 0.3));\n",
              "      fill: #FFFFFF;\n",
              "    }\n",
              "  </style>\n",
              "\n",
              "      <script>\n",
              "        const buttonEl =\n",
              "          document.querySelector('#df-5aa1c052-94bb-448f-822b-34c9b943e3ff button.colab-df-convert');\n",
              "        buttonEl.style.display =\n",
              "          google.colab.kernel.accessAllowed ? 'block' : 'none';\n",
              "\n",
              "        async function convertToInteractive(key) {\n",
              "          const element = document.querySelector('#df-5aa1c052-94bb-448f-822b-34c9b943e3ff');\n",
              "          const dataTable =\n",
              "            await google.colab.kernel.invokeFunction('convertToInteractive',\n",
              "                                                     [key], {});\n",
              "          if (!dataTable) return;\n",
              "\n",
              "          const docLinkHtml = 'Like what you see? Visit the ' +\n",
              "            '<a target=\"_blank\" href=https://colab.research.google.com/notebooks/data_table.ipynb>data table notebook</a>'\n",
              "            + ' to learn more about interactive tables.';\n",
              "          element.innerHTML = '';\n",
              "          dataTable['output_type'] = 'display_data';\n",
              "          await google.colab.output.renderOutput(dataTable, element);\n",
              "          const docLink = document.createElement('div');\n",
              "          docLink.innerHTML = docLinkHtml;\n",
              "          element.appendChild(docLink);\n",
              "        }\n",
              "      </script>\n",
              "    </div>\n",
              "  </div>\n",
              "  "
            ]
          },
          "metadata": {},
          "execution_count": 4
        }
      ]
    },
    {
      "cell_type": "code",
      "source": [
        "# first we get the summary of dataset playstore\n",
        "play_store.info()\n",
        "\n",
        "# dataset has 13 columns and 10841 rows with null values in some columns "
      ],
      "metadata": {
        "colab": {
          "base_uri": "https://localhost:8080/"
        },
        "id": "4Neva7zv7-PY",
        "outputId": "9679c316-4b70-4855-ef11-0a3d66e23ef7"
      },
      "execution_count": 5,
      "outputs": [
        {
          "output_type": "stream",
          "name": "stdout",
          "text": [
            "<class 'pandas.core.frame.DataFrame'>\n",
            "RangeIndex: 10841 entries, 0 to 10840\n",
            "Data columns (total 13 columns):\n",
            " #   Column          Non-Null Count  Dtype  \n",
            "---  ------          --------------  -----  \n",
            " 0   App             10841 non-null  object \n",
            " 1   Category        10841 non-null  object \n",
            " 2   Rating          9367 non-null   float64\n",
            " 3   Reviews         10841 non-null  object \n",
            " 4   Size            10841 non-null  object \n",
            " 5   Installs        10841 non-null  object \n",
            " 6   Type            10840 non-null  object \n",
            " 7   Price           10841 non-null  object \n",
            " 8   Content Rating  10840 non-null  object \n",
            " 9   Genres          10841 non-null  object \n",
            " 10  Last Updated    10841 non-null  object \n",
            " 11  Current Ver     10833 non-null  object \n",
            " 12  Android Ver     10838 non-null  object \n",
            "dtypes: float64(1), object(12)\n",
            "memory usage: 1.1+ MB\n"
          ]
        }
      ]
    },
    {
      "cell_type": "markdown",
      "source": [
        "\n",
        "\n",
        "**3.2 - Description of dataset**\n",
        "\n",
        "\n"
      ],
      "metadata": {
        "id": "o4SXecBALl_h"
      }
    },
    {
      "cell_type": "code",
      "source": [
        "play_store.describe()"
      ],
      "metadata": {
        "colab": {
          "base_uri": "https://localhost:8080/",
          "height": 0
        },
        "id": "aQfwo7naLuCr",
        "outputId": "72dcf12c-17dd-44eb-c909-9674abe17f69"
      },
      "execution_count": 6,
      "outputs": [
        {
          "output_type": "execute_result",
          "data": {
            "text/plain": [
              "            Rating\n",
              "count  9367.000000\n",
              "mean      4.193338\n",
              "std       0.537431\n",
              "min       1.000000\n",
              "25%       4.000000\n",
              "50%       4.300000\n",
              "75%       4.500000\n",
              "max      19.000000"
            ],
            "text/html": [
              "\n",
              "  <div id=\"df-25927d10-d503-41f6-9e37-9d73b38cd6a7\">\n",
              "    <div class=\"colab-df-container\">\n",
              "      <div>\n",
              "<style scoped>\n",
              "    .dataframe tbody tr th:only-of-type {\n",
              "        vertical-align: middle;\n",
              "    }\n",
              "\n",
              "    .dataframe tbody tr th {\n",
              "        vertical-align: top;\n",
              "    }\n",
              "\n",
              "    .dataframe thead th {\n",
              "        text-align: right;\n",
              "    }\n",
              "</style>\n",
              "<table border=\"1\" class=\"dataframe\">\n",
              "  <thead>\n",
              "    <tr style=\"text-align: right;\">\n",
              "      <th></th>\n",
              "      <th>Rating</th>\n",
              "    </tr>\n",
              "  </thead>\n",
              "  <tbody>\n",
              "    <tr>\n",
              "      <th>count</th>\n",
              "      <td>9367.000000</td>\n",
              "    </tr>\n",
              "    <tr>\n",
              "      <th>mean</th>\n",
              "      <td>4.193338</td>\n",
              "    </tr>\n",
              "    <tr>\n",
              "      <th>std</th>\n",
              "      <td>0.537431</td>\n",
              "    </tr>\n",
              "    <tr>\n",
              "      <th>min</th>\n",
              "      <td>1.000000</td>\n",
              "    </tr>\n",
              "    <tr>\n",
              "      <th>25%</th>\n",
              "      <td>4.000000</td>\n",
              "    </tr>\n",
              "    <tr>\n",
              "      <th>50%</th>\n",
              "      <td>4.300000</td>\n",
              "    </tr>\n",
              "    <tr>\n",
              "      <th>75%</th>\n",
              "      <td>4.500000</td>\n",
              "    </tr>\n",
              "    <tr>\n",
              "      <th>max</th>\n",
              "      <td>19.000000</td>\n",
              "    </tr>\n",
              "  </tbody>\n",
              "</table>\n",
              "</div>\n",
              "      <button class=\"colab-df-convert\" onclick=\"convertToInteractive('df-25927d10-d503-41f6-9e37-9d73b38cd6a7')\"\n",
              "              title=\"Convert this dataframe to an interactive table.\"\n",
              "              style=\"display:none;\">\n",
              "        \n",
              "  <svg xmlns=\"http://www.w3.org/2000/svg\" height=\"24px\"viewBox=\"0 0 24 24\"\n",
              "       width=\"24px\">\n",
              "    <path d=\"M0 0h24v24H0V0z\" fill=\"none\"/>\n",
              "    <path d=\"M18.56 5.44l.94 2.06.94-2.06 2.06-.94-2.06-.94-.94-2.06-.94 2.06-2.06.94zm-11 1L8.5 8.5l.94-2.06 2.06-.94-2.06-.94L8.5 2.5l-.94 2.06-2.06.94zm10 10l.94 2.06.94-2.06 2.06-.94-2.06-.94-.94-2.06-.94 2.06-2.06.94z\"/><path d=\"M17.41 7.96l-1.37-1.37c-.4-.4-.92-.59-1.43-.59-.52 0-1.04.2-1.43.59L10.3 9.45l-7.72 7.72c-.78.78-.78 2.05 0 2.83L4 21.41c.39.39.9.59 1.41.59.51 0 1.02-.2 1.41-.59l7.78-7.78 2.81-2.81c.8-.78.8-2.07 0-2.86zM5.41 20L4 18.59l7.72-7.72 1.47 1.35L5.41 20z\"/>\n",
              "  </svg>\n",
              "      </button>\n",
              "      \n",
              "  <style>\n",
              "    .colab-df-container {\n",
              "      display:flex;\n",
              "      flex-wrap:wrap;\n",
              "      gap: 12px;\n",
              "    }\n",
              "\n",
              "    .colab-df-convert {\n",
              "      background-color: #E8F0FE;\n",
              "      border: none;\n",
              "      border-radius: 50%;\n",
              "      cursor: pointer;\n",
              "      display: none;\n",
              "      fill: #1967D2;\n",
              "      height: 32px;\n",
              "      padding: 0 0 0 0;\n",
              "      width: 32px;\n",
              "    }\n",
              "\n",
              "    .colab-df-convert:hover {\n",
              "      background-color: #E2EBFA;\n",
              "      box-shadow: 0px 1px 2px rgba(60, 64, 67, 0.3), 0px 1px 3px 1px rgba(60, 64, 67, 0.15);\n",
              "      fill: #174EA6;\n",
              "    }\n",
              "\n",
              "    [theme=dark] .colab-df-convert {\n",
              "      background-color: #3B4455;\n",
              "      fill: #D2E3FC;\n",
              "    }\n",
              "\n",
              "    [theme=dark] .colab-df-convert:hover {\n",
              "      background-color: #434B5C;\n",
              "      box-shadow: 0px 1px 3px 1px rgba(0, 0, 0, 0.15);\n",
              "      filter: drop-shadow(0px 1px 2px rgba(0, 0, 0, 0.3));\n",
              "      fill: #FFFFFF;\n",
              "    }\n",
              "  </style>\n",
              "\n",
              "      <script>\n",
              "        const buttonEl =\n",
              "          document.querySelector('#df-25927d10-d503-41f6-9e37-9d73b38cd6a7 button.colab-df-convert');\n",
              "        buttonEl.style.display =\n",
              "          google.colab.kernel.accessAllowed ? 'block' : 'none';\n",
              "\n",
              "        async function convertToInteractive(key) {\n",
              "          const element = document.querySelector('#df-25927d10-d503-41f6-9e37-9d73b38cd6a7');\n",
              "          const dataTable =\n",
              "            await google.colab.kernel.invokeFunction('convertToInteractive',\n",
              "                                                     [key], {});\n",
              "          if (!dataTable) return;\n",
              "\n",
              "          const docLinkHtml = 'Like what you see? Visit the ' +\n",
              "            '<a target=\"_blank\" href=https://colab.research.google.com/notebooks/data_table.ipynb>data table notebook</a>'\n",
              "            + ' to learn more about interactive tables.';\n",
              "          element.innerHTML = '';\n",
              "          dataTable['output_type'] = 'display_data';\n",
              "          await google.colab.output.renderOutput(dataTable, element);\n",
              "          const docLink = document.createElement('div');\n",
              "          docLink.innerHTML = docLinkHtml;\n",
              "          element.appendChild(docLink);\n",
              "        }\n",
              "      </script>\n",
              "    </div>\n",
              "  </div>\n",
              "  "
            ]
          },
          "metadata": {},
          "execution_count": 6
        }
      ]
    },
    {
      "cell_type": "markdown",
      "source": [
        "\n",
        "\n",
        "**3.3 - Available columns are there in dataset**\n",
        "\n"
      ],
      "metadata": {
        "id": "yqaqzQ7xLzQm"
      }
    },
    {
      "cell_type": "code",
      "source": [
        "play_store.columns"
      ],
      "metadata": {
        "colab": {
          "base_uri": "https://localhost:8080/"
        },
        "id": "F2A2qa9vLyqG",
        "outputId": "259f0df4-e891-463f-b386-97426a7853b7"
      },
      "execution_count": 7,
      "outputs": [
        {
          "output_type": "execute_result",
          "data": {
            "text/plain": [
              "Index(['App', 'Category', 'Rating', 'Reviews', 'Size', 'Installs', 'Type',\n",
              "       'Price', 'Content Rating', 'Genres', 'Last Updated', 'Current Ver',\n",
              "       'Android Ver'],\n",
              "      dtype='object')"
            ]
          },
          "metadata": {},
          "execution_count": 7
        }
      ]
    },
    {
      "cell_type": "markdown",
      "source": [
        "# **4) DATA CLEANING AND FILL MISSING DATA** "
      ],
      "metadata": {
        "id": "vw42xryhOZ_v"
      }
    },
    {
      "cell_type": "markdown",
      "source": [
        "\n",
        "**4.0.1 - Let's first find Null values presented in each column.**\n",
        "\n"
      ],
      "metadata": {
        "id": "rQSC2FKCVmwK"
      }
    },
    {
      "cell_type": "code",
      "source": [
        "# play_store.shape[0]\n",
        "# null_value_check=pd.dataframe(\"\")\n",
        "\n",
        "NaN_Checker = pd.DataFrame({\"Total Values\": play_store.shape[0] , \"No of NaN values\":play_store.isnull().sum() })\n",
        "NaN_Checker.sort_values(\"No of NaN values\" , ascending = False)"
      ],
      "metadata": {
        "id": "bIKPLU_tV46d",
        "colab": {
          "base_uri": "https://localhost:8080/",
          "height": 457
        },
        "outputId": "3ed35754-b362-4bda-8fe9-8a47a1668b3f"
      },
      "execution_count": 8,
      "outputs": [
        {
          "output_type": "execute_result",
          "data": {
            "text/plain": [
              "                Total Values  No of NaN values\n",
              "Rating                 10841              1474\n",
              "Current Ver            10841                 8\n",
              "Android Ver            10841                 3\n",
              "Type                   10841                 1\n",
              "Content Rating         10841                 1\n",
              "App                    10841                 0\n",
              "Category               10841                 0\n",
              "Reviews                10841                 0\n",
              "Size                   10841                 0\n",
              "Installs               10841                 0\n",
              "Price                  10841                 0\n",
              "Genres                 10841                 0\n",
              "Last Updated           10841                 0"
            ],
            "text/html": [
              "\n",
              "  <div id=\"df-8b852058-b8f4-4507-8285-c1afd6b293c3\">\n",
              "    <div class=\"colab-df-container\">\n",
              "      <div>\n",
              "<style scoped>\n",
              "    .dataframe tbody tr th:only-of-type {\n",
              "        vertical-align: middle;\n",
              "    }\n",
              "\n",
              "    .dataframe tbody tr th {\n",
              "        vertical-align: top;\n",
              "    }\n",
              "\n",
              "    .dataframe thead th {\n",
              "        text-align: right;\n",
              "    }\n",
              "</style>\n",
              "<table border=\"1\" class=\"dataframe\">\n",
              "  <thead>\n",
              "    <tr style=\"text-align: right;\">\n",
              "      <th></th>\n",
              "      <th>Total Values</th>\n",
              "      <th>No of NaN values</th>\n",
              "    </tr>\n",
              "  </thead>\n",
              "  <tbody>\n",
              "    <tr>\n",
              "      <th>Rating</th>\n",
              "      <td>10841</td>\n",
              "      <td>1474</td>\n",
              "    </tr>\n",
              "    <tr>\n",
              "      <th>Current Ver</th>\n",
              "      <td>10841</td>\n",
              "      <td>8</td>\n",
              "    </tr>\n",
              "    <tr>\n",
              "      <th>Android Ver</th>\n",
              "      <td>10841</td>\n",
              "      <td>3</td>\n",
              "    </tr>\n",
              "    <tr>\n",
              "      <th>Type</th>\n",
              "      <td>10841</td>\n",
              "      <td>1</td>\n",
              "    </tr>\n",
              "    <tr>\n",
              "      <th>Content Rating</th>\n",
              "      <td>10841</td>\n",
              "      <td>1</td>\n",
              "    </tr>\n",
              "    <tr>\n",
              "      <th>App</th>\n",
              "      <td>10841</td>\n",
              "      <td>0</td>\n",
              "    </tr>\n",
              "    <tr>\n",
              "      <th>Category</th>\n",
              "      <td>10841</td>\n",
              "      <td>0</td>\n",
              "    </tr>\n",
              "    <tr>\n",
              "      <th>Reviews</th>\n",
              "      <td>10841</td>\n",
              "      <td>0</td>\n",
              "    </tr>\n",
              "    <tr>\n",
              "      <th>Size</th>\n",
              "      <td>10841</td>\n",
              "      <td>0</td>\n",
              "    </tr>\n",
              "    <tr>\n",
              "      <th>Installs</th>\n",
              "      <td>10841</td>\n",
              "      <td>0</td>\n",
              "    </tr>\n",
              "    <tr>\n",
              "      <th>Price</th>\n",
              "      <td>10841</td>\n",
              "      <td>0</td>\n",
              "    </tr>\n",
              "    <tr>\n",
              "      <th>Genres</th>\n",
              "      <td>10841</td>\n",
              "      <td>0</td>\n",
              "    </tr>\n",
              "    <tr>\n",
              "      <th>Last Updated</th>\n",
              "      <td>10841</td>\n",
              "      <td>0</td>\n",
              "    </tr>\n",
              "  </tbody>\n",
              "</table>\n",
              "</div>\n",
              "      <button class=\"colab-df-convert\" onclick=\"convertToInteractive('df-8b852058-b8f4-4507-8285-c1afd6b293c3')\"\n",
              "              title=\"Convert this dataframe to an interactive table.\"\n",
              "              style=\"display:none;\">\n",
              "        \n",
              "  <svg xmlns=\"http://www.w3.org/2000/svg\" height=\"24px\"viewBox=\"0 0 24 24\"\n",
              "       width=\"24px\">\n",
              "    <path d=\"M0 0h24v24H0V0z\" fill=\"none\"/>\n",
              "    <path d=\"M18.56 5.44l.94 2.06.94-2.06 2.06-.94-2.06-.94-.94-2.06-.94 2.06-2.06.94zm-11 1L8.5 8.5l.94-2.06 2.06-.94-2.06-.94L8.5 2.5l-.94 2.06-2.06.94zm10 10l.94 2.06.94-2.06 2.06-.94-2.06-.94-.94-2.06-.94 2.06-2.06.94z\"/><path d=\"M17.41 7.96l-1.37-1.37c-.4-.4-.92-.59-1.43-.59-.52 0-1.04.2-1.43.59L10.3 9.45l-7.72 7.72c-.78.78-.78 2.05 0 2.83L4 21.41c.39.39.9.59 1.41.59.51 0 1.02-.2 1.41-.59l7.78-7.78 2.81-2.81c.8-.78.8-2.07 0-2.86zM5.41 20L4 18.59l7.72-7.72 1.47 1.35L5.41 20z\"/>\n",
              "  </svg>\n",
              "      </button>\n",
              "      \n",
              "  <style>\n",
              "    .colab-df-container {\n",
              "      display:flex;\n",
              "      flex-wrap:wrap;\n",
              "      gap: 12px;\n",
              "    }\n",
              "\n",
              "    .colab-df-convert {\n",
              "      background-color: #E8F0FE;\n",
              "      border: none;\n",
              "      border-radius: 50%;\n",
              "      cursor: pointer;\n",
              "      display: none;\n",
              "      fill: #1967D2;\n",
              "      height: 32px;\n",
              "      padding: 0 0 0 0;\n",
              "      width: 32px;\n",
              "    }\n",
              "\n",
              "    .colab-df-convert:hover {\n",
              "      background-color: #E2EBFA;\n",
              "      box-shadow: 0px 1px 2px rgba(60, 64, 67, 0.3), 0px 1px 3px 1px rgba(60, 64, 67, 0.15);\n",
              "      fill: #174EA6;\n",
              "    }\n",
              "\n",
              "    [theme=dark] .colab-df-convert {\n",
              "      background-color: #3B4455;\n",
              "      fill: #D2E3FC;\n",
              "    }\n",
              "\n",
              "    [theme=dark] .colab-df-convert:hover {\n",
              "      background-color: #434B5C;\n",
              "      box-shadow: 0px 1px 3px 1px rgba(0, 0, 0, 0.15);\n",
              "      filter: drop-shadow(0px 1px 2px rgba(0, 0, 0, 0.3));\n",
              "      fill: #FFFFFF;\n",
              "    }\n",
              "  </style>\n",
              "\n",
              "      <script>\n",
              "        const buttonEl =\n",
              "          document.querySelector('#df-8b852058-b8f4-4507-8285-c1afd6b293c3 button.colab-df-convert');\n",
              "        buttonEl.style.display =\n",
              "          google.colab.kernel.accessAllowed ? 'block' : 'none';\n",
              "\n",
              "        async function convertToInteractive(key) {\n",
              "          const element = document.querySelector('#df-8b852058-b8f4-4507-8285-c1afd6b293c3');\n",
              "          const dataTable =\n",
              "            await google.colab.kernel.invokeFunction('convertToInteractive',\n",
              "                                                     [key], {});\n",
              "          if (!dataTable) return;\n",
              "\n",
              "          const docLinkHtml = 'Like what you see? Visit the ' +\n",
              "            '<a target=\"_blank\" href=https://colab.research.google.com/notebooks/data_table.ipynb>data table notebook</a>'\n",
              "            + ' to learn more about interactive tables.';\n",
              "          element.innerHTML = '';\n",
              "          dataTable['output_type'] = 'display_data';\n",
              "          await google.colab.output.renderOutput(dataTable, element);\n",
              "          const docLink = document.createElement('div');\n",
              "          docLink.innerHTML = docLinkHtml;\n",
              "          element.appendChild(docLink);\n",
              "        }\n",
              "      </script>\n",
              "    </div>\n",
              "  </div>\n",
              "  "
            ]
          },
          "metadata": {},
          "execution_count": 8
        }
      ]
    },
    {
      "cell_type": "markdown",
      "source": [
        "\n",
        "\n",
        "**4.0.2 - Now, we replace some columns name which have space between their name.**\n",
        "\n"
      ],
      "metadata": {
        "id": "HdD3VKkLNOBw"
      }
    },
    {
      "cell_type": "code",
      "source": [
        "print(\"Before updating columns name :\\n\\n\",play_store.columns)"
      ],
      "metadata": {
        "id": "K1ZT-A5zSK_q",
        "colab": {
          "base_uri": "https://localhost:8080/"
        },
        "outputId": "4d771c32-2a8f-4328-90a1-708e14a09f50"
      },
      "execution_count": 9,
      "outputs": [
        {
          "output_type": "stream",
          "name": "stdout",
          "text": [
            "Before updating columns name :\n",
            "\n",
            " Index(['App', 'Category', 'Rating', 'Reviews', 'Size', 'Installs', 'Type',\n",
            "       'Price', 'Content Rating', 'Genres', 'Last Updated', 'Current Ver',\n",
            "       'Android Ver'],\n",
            "      dtype='object')\n"
          ]
        }
      ]
    },
    {
      "cell_type": "code",
      "source": [
        "play_store.columns = [col_name.replace(' ','_') for col_name in play_store.columns]\n",
        "\n",
        "print(\"After updating columns name :\\n\\n\",play_store.columns)"
      ],
      "metadata": {
        "id": "WP5P7YuANm4D",
        "colab": {
          "base_uri": "https://localhost:8080/"
        },
        "outputId": "369b3ed2-f918-4a00-ebbe-6ae7fadb465b"
      },
      "execution_count": 10,
      "outputs": [
        {
          "output_type": "stream",
          "name": "stdout",
          "text": [
            "After updating columns name :\n",
            "\n",
            " Index(['App', 'Category', 'Rating', 'Reviews', 'Size', 'Installs', 'Type',\n",
            "       'Price', 'Content_Rating', 'Genres', 'Last_Updated', 'Current_Ver',\n",
            "       'Android_Ver'],\n",
            "      dtype='object')\n"
          ]
        }
      ]
    },
    {
      "cell_type": "markdown",
      "source": [
        "\n",
        "\n",
        "**4.0.3 - Now we do some cleaning and replace null and missing values of columns one by one.**\n",
        "\n"
      ],
      "metadata": {
        "id": "UOPNnbIvOSwz"
      }
    },
    {
      "cell_type": "markdown",
      "source": [
        "# 4.1 - *Installs* Column Cleaning \n",
        "\n",
        "\n",
        "\n"
      ],
      "metadata": {
        "id": "qNVU7JoCTS5l"
      }
    },
    {
      "cell_type": "markdown",
      "source": [
        "**4.1.1 - Let's see the data**\n",
        "\n"
      ],
      "metadata": {
        "id": "ji_bgtOdIzBf"
      }
    },
    {
      "cell_type": "code",
      "source": [
        "# type of installs column\n",
        "play_store['Installs'].head()"
      ],
      "metadata": {
        "colab": {
          "base_uri": "https://localhost:8080/"
        },
        "id": "AYMLhG-eWyJX",
        "outputId": "042ac521-786d-4347-9b66-fbf31629f89c"
      },
      "execution_count": 11,
      "outputs": [
        {
          "output_type": "execute_result",
          "data": {
            "text/plain": [
              "0        10,000+\n",
              "1       500,000+\n",
              "2     5,000,000+\n",
              "3    50,000,000+\n",
              "4       100,000+\n",
              "Name: Installs, dtype: object"
            ]
          },
          "metadata": {},
          "execution_count": 11
        }
      ]
    },
    {
      "cell_type": "markdown",
      "source": [
        "\n",
        "\n",
        "> \" Install column's datatype is str , so column might have some string value let's check it \"\n",
        "\n"
      ],
      "metadata": {
        "id": "YBPNS9bqez6N"
      }
    },
    {
      "cell_type": "code",
      "source": [
        "play_store.Installs.value_counts()"
      ],
      "metadata": {
        "id": "ON_uePmZd5Af",
        "colab": {
          "base_uri": "https://localhost:8080/"
        },
        "outputId": "518298e5-9865-4caa-d42c-4412792a6f48"
      },
      "execution_count": 12,
      "outputs": [
        {
          "output_type": "execute_result",
          "data": {
            "text/plain": [
              "1,000,000+        1579\n",
              "10,000,000+       1252\n",
              "100,000+          1169\n",
              "10,000+           1054\n",
              "1,000+             907\n",
              "5,000,000+         752\n",
              "100+               719\n",
              "500,000+           539\n",
              "50,000+            479\n",
              "5,000+             477\n",
              "100,000,000+       409\n",
              "10+                386\n",
              "500+               330\n",
              "50,000,000+        289\n",
              "50+                205\n",
              "5+                  82\n",
              "500,000,000+        72\n",
              "1+                  67\n",
              "1,000,000,000+      58\n",
              "0+                  14\n",
              "0                    1\n",
              "Free                 1\n",
              "Name: Installs, dtype: int64"
            ]
          },
          "metadata": {},
          "execution_count": 12
        }
      ]
    },
    {
      "cell_type": "markdown",
      "source": [
        "\n",
        "\n",
        " **4.1.2 - Cleaning of column data**\n",
        "\n"
      ],
      "metadata": {
        "id": "eUlTX-dncn8P"
      }
    },
    {
      "cell_type": "markdown",
      "source": [
        "\n",
        "\n",
        "> As we can see there is 1 value Free and it has no meaning so drop it. \n",
        "\n"
      ],
      "metadata": {
        "id": "leXBWnCUZsxe"
      }
    },
    {
      "cell_type": "code",
      "source": [
        "play_store.drop(play_store[play_store['Installs'] == 'Free'].index, inplace = True)          # this will drop whole row in dataset so total rows becomes 10480\n",
        "\n",
        "\n",
        "play_store.Installs.value_counts()"
      ],
      "metadata": {
        "id": "Oz6dMRV7aEWb",
        "colab": {
          "base_uri": "https://localhost:8080/"
        },
        "outputId": "547e573f-ef36-4299-b481-1a033579e41d"
      },
      "execution_count": 13,
      "outputs": [
        {
          "output_type": "execute_result",
          "data": {
            "text/plain": [
              "1,000,000+        1579\n",
              "10,000,000+       1252\n",
              "100,000+          1169\n",
              "10,000+           1054\n",
              "1,000+             907\n",
              "5,000,000+         752\n",
              "100+               719\n",
              "500,000+           539\n",
              "50,000+            479\n",
              "5,000+             477\n",
              "100,000,000+       409\n",
              "10+                386\n",
              "500+               330\n",
              "50,000,000+        289\n",
              "50+                205\n",
              "5+                  82\n",
              "500,000,000+        72\n",
              "1+                  67\n",
              "1,000,000,000+      58\n",
              "0+                  14\n",
              "0                    1\n",
              "Name: Installs, dtype: int64"
            ]
          },
          "metadata": {},
          "execution_count": 13
        }
      ]
    },
    {
      "cell_type": "markdown",
      "source": [
        "\n",
        "\n",
        "> now remove  '+'  and ' , '  sign .\n",
        "\n"
      ],
      "metadata": {
        "id": "Gp4R2_Nne7P_"
      }
    },
    {
      "cell_type": "code",
      "source": [
        "#for every value changes we use map and lambda function\n",
        "play_store['Installs'] = play_store['Installs'].map(lambda x: x.replace('+' , \"\"))\n",
        "\n",
        "\n",
        "#as we can see there is ',' is making problem to convert into int so we remove it.\n",
        "play_store['Installs'] = play_store['Installs'].map(lambda x: x.replace(',' , ''))"
      ],
      "metadata": {
        "id": "195YoFrBfMc6"
      },
      "execution_count": 14,
      "outputs": []
    },
    {
      "cell_type": "markdown",
      "source": [
        "**4.1.3 -  Datatype Conversion**"
      ],
      "metadata": {
        "id": "NUIunJcFlxpa"
      }
    },
    {
      "cell_type": "code",
      "source": [
        "#changing str to int\n",
        "play_store['Installs'] = play_store['Installs'].astype(np.int64)\n",
        "\n",
        "\n",
        "#now we can see we have done cleaning and make column int64 type as well. 0\n",
        "play_store.Installs.head()"
      ],
      "metadata": {
        "id": "ftrhjsvul9uH",
        "colab": {
          "base_uri": "https://localhost:8080/"
        },
        "outputId": "48797b19-2b5f-4b4f-cc66-9904fdcc1500"
      },
      "execution_count": 15,
      "outputs": [
        {
          "output_type": "execute_result",
          "data": {
            "text/plain": [
              "0       10000\n",
              "1      500000\n",
              "2     5000000\n",
              "3    50000000\n",
              "4      100000\n",
              "Name: Installs, dtype: int64"
            ]
          },
          "metadata": {},
          "execution_count": 15
        }
      ]
    },
    {
      "cell_type": "code",
      "source": [
        "play_store.info()"
      ],
      "metadata": {
        "colab": {
          "base_uri": "https://localhost:8080/"
        },
        "id": "SSkz4sATDdEk",
        "outputId": "6f8eddca-55c3-4b14-bd57-ea978e35d432"
      },
      "execution_count": 16,
      "outputs": [
        {
          "output_type": "stream",
          "name": "stdout",
          "text": [
            "<class 'pandas.core.frame.DataFrame'>\n",
            "Int64Index: 10840 entries, 0 to 10840\n",
            "Data columns (total 13 columns):\n",
            " #   Column          Non-Null Count  Dtype  \n",
            "---  ------          --------------  -----  \n",
            " 0   App             10840 non-null  object \n",
            " 1   Category        10840 non-null  object \n",
            " 2   Rating          9366 non-null   float64\n",
            " 3   Reviews         10840 non-null  object \n",
            " 4   Size            10840 non-null  object \n",
            " 5   Installs        10840 non-null  int64  \n",
            " 6   Type            10839 non-null  object \n",
            " 7   Price           10840 non-null  object \n",
            " 8   Content_Rating  10840 non-null  object \n",
            " 9   Genres          10840 non-null  object \n",
            " 10  Last_Updated    10840 non-null  object \n",
            " 11  Current_Ver     10832 non-null  object \n",
            " 12  Android_Ver     10838 non-null  object \n",
            "dtypes: float64(1), int64(1), object(11)\n",
            "memory usage: 1.2+ MB\n"
          ]
        }
      ]
    },
    {
      "cell_type": "markdown",
      "source": [
        "# 4.2 - *Price* Column Cleaning"
      ],
      "metadata": {
        "id": "yrLy-Lepoys1"
      }
    },
    {
      "cell_type": "markdown",
      "source": [
        "\n",
        "\n",
        "**4.2.1 - Lets check the data first**\n",
        "\n"
      ],
      "metadata": {
        "id": "5k3wOWK6BU0F"
      }
    },
    {
      "cell_type": "code",
      "source": [
        "play_store['Price'].unique()"
      ],
      "metadata": {
        "id": "SIuIsRS0z6Fx",
        "colab": {
          "base_uri": "https://localhost:8080/"
        },
        "outputId": "7353f87a-4894-40d4-99fc-3c9e0fe7ef97"
      },
      "execution_count": 17,
      "outputs": [
        {
          "output_type": "execute_result",
          "data": {
            "text/plain": [
              "array(['0', '$4.99', '$3.99', '$6.99', '$1.49', '$2.99', '$7.99', '$5.99',\n",
              "       '$3.49', '$1.99', '$9.99', '$7.49', '$0.99', '$9.00', '$5.49',\n",
              "       '$10.00', '$24.99', '$11.99', '$79.99', '$16.99', '$14.99',\n",
              "       '$1.00', '$29.99', '$12.99', '$2.49', '$10.99', '$1.50', '$19.99',\n",
              "       '$15.99', '$33.99', '$74.99', '$39.99', '$3.95', '$4.49', '$1.70',\n",
              "       '$8.99', '$2.00', '$3.88', '$25.99', '$399.99', '$17.99',\n",
              "       '$400.00', '$3.02', '$1.76', '$4.84', '$4.77', '$1.61', '$2.50',\n",
              "       '$1.59', '$6.49', '$1.29', '$5.00', '$13.99', '$299.99', '$379.99',\n",
              "       '$37.99', '$18.99', '$389.99', '$19.90', '$8.49', '$1.75',\n",
              "       '$14.00', '$4.85', '$46.99', '$109.99', '$154.99', '$3.08',\n",
              "       '$2.59', '$4.80', '$1.96', '$19.40', '$3.90', '$4.59', '$15.46',\n",
              "       '$3.04', '$4.29', '$2.60', '$3.28', '$4.60', '$28.99', '$2.95',\n",
              "       '$2.90', '$1.97', '$200.00', '$89.99', '$2.56', '$30.99', '$3.61',\n",
              "       '$394.99', '$1.26', '$1.20', '$1.04'], dtype=object)"
            ]
          },
          "metadata": {},
          "execution_count": 17
        }
      ]
    },
    {
      "cell_type": "markdown",
      "source": [
        "**4.2.2 - Data cleaning and Datatype conversion**"
      ],
      "metadata": {
        "id": "YQDnKzSe7iHu"
      }
    },
    {
      "cell_type": "markdown",
      "source": [
        "\n",
        "\n",
        "> for removing $ symbol we have to convert float64 to string datatype then back to float64 for calculations.\n",
        "\n",
        "\n",
        "\n"
      ],
      "metadata": {
        "id": "xSJzX7Pg19HP"
      }
    },
    {
      "cell_type": "code",
      "source": [
        "# for remove $ we have to make column float to str.\n",
        "play_store['Price']=play_store['Price'].astype(str)\n",
        "\n",
        "\n",
        "#removing '$' from column and converting to float back.\n",
        "play_store['Price']=play_store['Price'].map(lambda x: x.replace('$' ,''))\n",
        "\n",
        "\n",
        "play_store['Price']=pd.to_numeric(play_store['Price'])"
      ],
      "metadata": {
        "id": "a5lAclkU2mc5"
      },
      "execution_count": 18,
      "outputs": []
    },
    {
      "cell_type": "markdown",
      "source": [
        "****"
      ],
      "metadata": {
        "id": "MfwBEwockh0A"
      }
    },
    {
      "cell_type": "markdown",
      "source": [
        "#4.3 - *Review* Column Cleaning\n",
        "\n",
        "\n",
        "\n",
        "\n",
        "\n"
      ],
      "metadata": {
        "id": "ZwG0ts_RnSum"
      }
    },
    {
      "cell_type": "markdown",
      "source": [
        "\n",
        "\n",
        "**4.3.1 - Check data type and value of that.**\n",
        "\n"
      ],
      "metadata": {
        "id": "Ia0FDiBhvDnm"
      }
    },
    {
      "cell_type": "code",
      "source": [
        "play_store.info()\n",
        "# as we can see there is no null/missing value exists.\n",
        "\n",
        "print('\\ndatatype of reviews column is :',play_store['Reviews'].dtype)\n",
        "# reviews datatype is object but column contains  numeric values "
      ],
      "metadata": {
        "id": "VZW-zxB7wgVy"
      },
      "execution_count": null,
      "outputs": []
    },
    {
      "cell_type": "code",
      "source": [
        "play_store['Reviews']"
      ],
      "metadata": {
        "colab": {
          "base_uri": "https://localhost:8080/"
        },
        "id": "pEDfXr4ZuP4f",
        "outputId": "8f0f5d9f-d5af-4dea-f4fc-31ca8a3ace49"
      },
      "execution_count": 59,
      "outputs": [
        {
          "output_type": "execute_result",
          "data": {
            "text/plain": [
              "0           159\n",
              "1           967\n",
              "2         87510\n",
              "3        215644\n",
              "4           967\n",
              "          ...  \n",
              "10833        44\n",
              "10834         7\n",
              "10836        38\n",
              "10837         4\n",
              "10840    398307\n",
              "Name: Reviews, Length: 7418, dtype: int64"
            ]
          },
          "metadata": {},
          "execution_count": 59
        }
      ]
    },
    {
      "cell_type": "code",
      "source": [
        "# check wether column contains any string or other types of values or not.\n",
        "lst=[i for i in play_store['Reviews'] ]\n",
        "chk=[j for j in lst if j.isalpha()]\n",
        "\n",
        "print(chk)\n",
        "print(len(chk))          # we can see here there is 10840 values/rows presented."
      ],
      "metadata": {
        "id": "km7m__u5wuSR",
        "colab": {
          "base_uri": "https://localhost:8080/",
          "height": 356
        },
        "outputId": "826c7137-4a64-46d6-de34-e131a491b39c"
      },
      "execution_count": 58,
      "outputs": [
        {
          "output_type": "error",
          "ename": "AttributeError",
          "evalue": "ignored",
          "traceback": [
            "\u001b[0;31m---------------------------------------------------------------------------\u001b[0m",
            "\u001b[0;31mAttributeError\u001b[0m                            Traceback (most recent call last)",
            "\u001b[0;32m<ipython-input-58-b9266a1323be>\u001b[0m in \u001b[0;36m<module>\u001b[0;34m\u001b[0m\n\u001b[1;32m      1\u001b[0m \u001b[0;31m# check wether column contains any string or other types of values or not.\u001b[0m\u001b[0;34m\u001b[0m\u001b[0;34m\u001b[0m\u001b[0;34m\u001b[0m\u001b[0m\n\u001b[1;32m      2\u001b[0m \u001b[0mlst\u001b[0m\u001b[0;34m=\u001b[0m\u001b[0;34m[\u001b[0m\u001b[0mi\u001b[0m \u001b[0;32mfor\u001b[0m \u001b[0mi\u001b[0m \u001b[0;32min\u001b[0m \u001b[0mplay_store\u001b[0m\u001b[0;34m[\u001b[0m\u001b[0;34m'Reviews'\u001b[0m\u001b[0;34m]\u001b[0m \u001b[0;34m]\u001b[0m\u001b[0;34m\u001b[0m\u001b[0;34m\u001b[0m\u001b[0m\n\u001b[0;32m----> 3\u001b[0;31m \u001b[0mchk\u001b[0m\u001b[0;34m=\u001b[0m\u001b[0;34m[\u001b[0m\u001b[0mj\u001b[0m \u001b[0;32mfor\u001b[0m \u001b[0mj\u001b[0m \u001b[0;32min\u001b[0m \u001b[0mlst\u001b[0m \u001b[0;32mif\u001b[0m \u001b[0mj\u001b[0m\u001b[0;34m.\u001b[0m\u001b[0misalpha\u001b[0m\u001b[0;34m(\u001b[0m\u001b[0;34m)\u001b[0m\u001b[0;34m]\u001b[0m\u001b[0;34m\u001b[0m\u001b[0;34m\u001b[0m\u001b[0m\n\u001b[0m\u001b[1;32m      4\u001b[0m \u001b[0;34m\u001b[0m\u001b[0m\n\u001b[1;32m      5\u001b[0m \u001b[0mprint\u001b[0m\u001b[0;34m(\u001b[0m\u001b[0mchk\u001b[0m\u001b[0;34m)\u001b[0m\u001b[0;34m\u001b[0m\u001b[0;34m\u001b[0m\u001b[0m\n",
            "\u001b[0;32m<ipython-input-58-b9266a1323be>\u001b[0m in \u001b[0;36m<listcomp>\u001b[0;34m(.0)\u001b[0m\n\u001b[1;32m      1\u001b[0m \u001b[0;31m# check wether column contains any string or other types of values or not.\u001b[0m\u001b[0;34m\u001b[0m\u001b[0;34m\u001b[0m\u001b[0;34m\u001b[0m\u001b[0m\n\u001b[1;32m      2\u001b[0m \u001b[0mlst\u001b[0m\u001b[0;34m=\u001b[0m\u001b[0;34m[\u001b[0m\u001b[0mi\u001b[0m \u001b[0;32mfor\u001b[0m \u001b[0mi\u001b[0m \u001b[0;32min\u001b[0m \u001b[0mplay_store\u001b[0m\u001b[0;34m[\u001b[0m\u001b[0;34m'Reviews'\u001b[0m\u001b[0;34m]\u001b[0m \u001b[0;34m]\u001b[0m\u001b[0;34m\u001b[0m\u001b[0;34m\u001b[0m\u001b[0m\n\u001b[0;32m----> 3\u001b[0;31m \u001b[0mchk\u001b[0m\u001b[0;34m=\u001b[0m\u001b[0;34m[\u001b[0m\u001b[0mj\u001b[0m \u001b[0;32mfor\u001b[0m \u001b[0mj\u001b[0m \u001b[0;32min\u001b[0m \u001b[0mlst\u001b[0m \u001b[0;32mif\u001b[0m \u001b[0mj\u001b[0m\u001b[0;34m.\u001b[0m\u001b[0misalpha\u001b[0m\u001b[0;34m(\u001b[0m\u001b[0;34m)\u001b[0m\u001b[0;34m]\u001b[0m\u001b[0;34m\u001b[0m\u001b[0;34m\u001b[0m\u001b[0m\n\u001b[0m\u001b[1;32m      4\u001b[0m \u001b[0;34m\u001b[0m\u001b[0m\n\u001b[1;32m      5\u001b[0m \u001b[0mprint\u001b[0m\u001b[0;34m(\u001b[0m\u001b[0mchk\u001b[0m\u001b[0;34m)\u001b[0m\u001b[0;34m\u001b[0m\u001b[0;34m\u001b[0m\u001b[0m\n",
            "\u001b[0;31mAttributeError\u001b[0m: 'int' object has no attribute 'isalpha'"
          ]
        }
      ]
    },
    {
      "cell_type": "markdown",
      "source": [
        "\n",
        "\n",
        "**4.3.2 - Data conversion**\n",
        "\n"
      ],
      "metadata": {
        "id": "rRr7XSGbyMZI"
      }
    },
    {
      "cell_type": "code",
      "source": [
        "play_store['Reviews'] = pd.to_numeric(play_store[\"Reviews\"])\n",
        "\n",
        "print('\\ndatatype of reviews column is :',play_store['Reviews'].dtype)"
      ],
      "metadata": {
        "colab": {
          "base_uri": "https://localhost:8080/"
        },
        "id": "HLtt-hfEyTZr",
        "outputId": "790c16ee-c01c-44b2-bcf6-ebd649e3c35b"
      },
      "execution_count": 21,
      "outputs": [
        {
          "output_type": "stream",
          "name": "stdout",
          "text": [
            "\n",
            "datatype of reviews column is : int64\n"
          ]
        }
      ]
    },
    {
      "cell_type": "markdown",
      "source": [
        "# 4.4 - *Size* Column Cleaning "
      ],
      "metadata": {
        "id": "ix4H8NTnAjHV"
      }
    },
    {
      "cell_type": "markdown",
      "source": [
        "\n",
        "\n",
        "**4.4.1 - Check datatype and values of column**\n",
        "\n"
      ],
      "metadata": {
        "id": "OiwBg4e3FI6y"
      }
    },
    {
      "cell_type": "code",
      "source": [
        "play_store['Size'].head(15).reset_index()"
      ],
      "metadata": {
        "id": "FtQTf9o-FHeO",
        "colab": {
          "base_uri": "https://localhost:8080/",
          "height": 520
        },
        "outputId": "8f1df04b-a60d-43c5-850a-579b28fe3212"
      },
      "execution_count": 22,
      "outputs": [
        {
          "output_type": "execute_result",
          "data": {
            "text/plain": [
              "    index  Size\n",
              "0       0   19M\n",
              "1       1   14M\n",
              "2       2  8.7M\n",
              "3       3   25M\n",
              "4       4  2.8M\n",
              "5       5  5.6M\n",
              "6       6   19M\n",
              "7       7   29M\n",
              "8       8   33M\n",
              "9       9  3.1M\n",
              "10     10   28M\n",
              "11     11   12M\n",
              "12     12   20M\n",
              "13     13   21M\n",
              "14     14   37M"
            ],
            "text/html": [
              "\n",
              "  <div id=\"df-7dce7eb7-22bf-4e75-9b2a-d19eeee2a596\">\n",
              "    <div class=\"colab-df-container\">\n",
              "      <div>\n",
              "<style scoped>\n",
              "    .dataframe tbody tr th:only-of-type {\n",
              "        vertical-align: middle;\n",
              "    }\n",
              "\n",
              "    .dataframe tbody tr th {\n",
              "        vertical-align: top;\n",
              "    }\n",
              "\n",
              "    .dataframe thead th {\n",
              "        text-align: right;\n",
              "    }\n",
              "</style>\n",
              "<table border=\"1\" class=\"dataframe\">\n",
              "  <thead>\n",
              "    <tr style=\"text-align: right;\">\n",
              "      <th></th>\n",
              "      <th>index</th>\n",
              "      <th>Size</th>\n",
              "    </tr>\n",
              "  </thead>\n",
              "  <tbody>\n",
              "    <tr>\n",
              "      <th>0</th>\n",
              "      <td>0</td>\n",
              "      <td>19M</td>\n",
              "    </tr>\n",
              "    <tr>\n",
              "      <th>1</th>\n",
              "      <td>1</td>\n",
              "      <td>14M</td>\n",
              "    </tr>\n",
              "    <tr>\n",
              "      <th>2</th>\n",
              "      <td>2</td>\n",
              "      <td>8.7M</td>\n",
              "    </tr>\n",
              "    <tr>\n",
              "      <th>3</th>\n",
              "      <td>3</td>\n",
              "      <td>25M</td>\n",
              "    </tr>\n",
              "    <tr>\n",
              "      <th>4</th>\n",
              "      <td>4</td>\n",
              "      <td>2.8M</td>\n",
              "    </tr>\n",
              "    <tr>\n",
              "      <th>5</th>\n",
              "      <td>5</td>\n",
              "      <td>5.6M</td>\n",
              "    </tr>\n",
              "    <tr>\n",
              "      <th>6</th>\n",
              "      <td>6</td>\n",
              "      <td>19M</td>\n",
              "    </tr>\n",
              "    <tr>\n",
              "      <th>7</th>\n",
              "      <td>7</td>\n",
              "      <td>29M</td>\n",
              "    </tr>\n",
              "    <tr>\n",
              "      <th>8</th>\n",
              "      <td>8</td>\n",
              "      <td>33M</td>\n",
              "    </tr>\n",
              "    <tr>\n",
              "      <th>9</th>\n",
              "      <td>9</td>\n",
              "      <td>3.1M</td>\n",
              "    </tr>\n",
              "    <tr>\n",
              "      <th>10</th>\n",
              "      <td>10</td>\n",
              "      <td>28M</td>\n",
              "    </tr>\n",
              "    <tr>\n",
              "      <th>11</th>\n",
              "      <td>11</td>\n",
              "      <td>12M</td>\n",
              "    </tr>\n",
              "    <tr>\n",
              "      <th>12</th>\n",
              "      <td>12</td>\n",
              "      <td>20M</td>\n",
              "    </tr>\n",
              "    <tr>\n",
              "      <th>13</th>\n",
              "      <td>13</td>\n",
              "      <td>21M</td>\n",
              "    </tr>\n",
              "    <tr>\n",
              "      <th>14</th>\n",
              "      <td>14</td>\n",
              "      <td>37M</td>\n",
              "    </tr>\n",
              "  </tbody>\n",
              "</table>\n",
              "</div>\n",
              "      <button class=\"colab-df-convert\" onclick=\"convertToInteractive('df-7dce7eb7-22bf-4e75-9b2a-d19eeee2a596')\"\n",
              "              title=\"Convert this dataframe to an interactive table.\"\n",
              "              style=\"display:none;\">\n",
              "        \n",
              "  <svg xmlns=\"http://www.w3.org/2000/svg\" height=\"24px\"viewBox=\"0 0 24 24\"\n",
              "       width=\"24px\">\n",
              "    <path d=\"M0 0h24v24H0V0z\" fill=\"none\"/>\n",
              "    <path d=\"M18.56 5.44l.94 2.06.94-2.06 2.06-.94-2.06-.94-.94-2.06-.94 2.06-2.06.94zm-11 1L8.5 8.5l.94-2.06 2.06-.94-2.06-.94L8.5 2.5l-.94 2.06-2.06.94zm10 10l.94 2.06.94-2.06 2.06-.94-2.06-.94-.94-2.06-.94 2.06-2.06.94z\"/><path d=\"M17.41 7.96l-1.37-1.37c-.4-.4-.92-.59-1.43-.59-.52 0-1.04.2-1.43.59L10.3 9.45l-7.72 7.72c-.78.78-.78 2.05 0 2.83L4 21.41c.39.39.9.59 1.41.59.51 0 1.02-.2 1.41-.59l7.78-7.78 2.81-2.81c.8-.78.8-2.07 0-2.86zM5.41 20L4 18.59l7.72-7.72 1.47 1.35L5.41 20z\"/>\n",
              "  </svg>\n",
              "      </button>\n",
              "      \n",
              "  <style>\n",
              "    .colab-df-container {\n",
              "      display:flex;\n",
              "      flex-wrap:wrap;\n",
              "      gap: 12px;\n",
              "    }\n",
              "\n",
              "    .colab-df-convert {\n",
              "      background-color: #E8F0FE;\n",
              "      border: none;\n",
              "      border-radius: 50%;\n",
              "      cursor: pointer;\n",
              "      display: none;\n",
              "      fill: #1967D2;\n",
              "      height: 32px;\n",
              "      padding: 0 0 0 0;\n",
              "      width: 32px;\n",
              "    }\n",
              "\n",
              "    .colab-df-convert:hover {\n",
              "      background-color: #E2EBFA;\n",
              "      box-shadow: 0px 1px 2px rgba(60, 64, 67, 0.3), 0px 1px 3px 1px rgba(60, 64, 67, 0.15);\n",
              "      fill: #174EA6;\n",
              "    }\n",
              "\n",
              "    [theme=dark] .colab-df-convert {\n",
              "      background-color: #3B4455;\n",
              "      fill: #D2E3FC;\n",
              "    }\n",
              "\n",
              "    [theme=dark] .colab-df-convert:hover {\n",
              "      background-color: #434B5C;\n",
              "      box-shadow: 0px 1px 3px 1px rgba(0, 0, 0, 0.15);\n",
              "      filter: drop-shadow(0px 1px 2px rgba(0, 0, 0, 0.3));\n",
              "      fill: #FFFFFF;\n",
              "    }\n",
              "  </style>\n",
              "\n",
              "      <script>\n",
              "        const buttonEl =\n",
              "          document.querySelector('#df-7dce7eb7-22bf-4e75-9b2a-d19eeee2a596 button.colab-df-convert');\n",
              "        buttonEl.style.display =\n",
              "          google.colab.kernel.accessAllowed ? 'block' : 'none';\n",
              "\n",
              "        async function convertToInteractive(key) {\n",
              "          const element = document.querySelector('#df-7dce7eb7-22bf-4e75-9b2a-d19eeee2a596');\n",
              "          const dataTable =\n",
              "            await google.colab.kernel.invokeFunction('convertToInteractive',\n",
              "                                                     [key], {});\n",
              "          if (!dataTable) return;\n",
              "\n",
              "          const docLinkHtml = 'Like what you see? Visit the ' +\n",
              "            '<a target=\"_blank\" href=https://colab.research.google.com/notebooks/data_table.ipynb>data table notebook</a>'\n",
              "            + ' to learn more about interactive tables.';\n",
              "          element.innerHTML = '';\n",
              "          dataTable['output_type'] = 'display_data';\n",
              "          await google.colab.output.renderOutput(dataTable, element);\n",
              "          const docLink = document.createElement('div');\n",
              "          docLink.innerHTML = docLinkHtml;\n",
              "          element.appendChild(docLink);\n",
              "        }\n",
              "      </script>\n",
              "    </div>\n",
              "  </div>\n",
              "  "
            ]
          },
          "metadata": {},
          "execution_count": 22
        }
      ]
    },
    {
      "cell_type": "code",
      "source": [
        "# datatype of size\n",
        "print(\"datatype of size :\",play_store['Size'].dtype,\"\\n\")\n",
        "\n",
        "# unique values presents in size column\n",
        "play_store.Size.unique()"
      ],
      "metadata": {
        "id": "FOrfICuNGGm-",
        "colab": {
          "base_uri": "https://localhost:8080/"
        },
        "outputId": "034a808d-aaaf-42da-da45-7d6460703a55"
      },
      "execution_count": 23,
      "outputs": [
        {
          "output_type": "stream",
          "name": "stdout",
          "text": [
            "datatype of size : object \n",
            "\n"
          ]
        },
        {
          "output_type": "execute_result",
          "data": {
            "text/plain": [
              "array(['19M', '14M', '8.7M', '25M', '2.8M', '5.6M', '29M', '33M', '3.1M',\n",
              "       '28M', '12M', '20M', '21M', '37M', '2.7M', '5.5M', '17M', '39M',\n",
              "       '31M', '4.2M', '7.0M', '23M', '6.0M', '6.1M', '4.6M', '9.2M',\n",
              "       '5.2M', '11M', '24M', 'Varies with device', '9.4M', '15M', '10M',\n",
              "       '1.2M', '26M', '8.0M', '7.9M', '56M', '57M', '35M', '54M', '201k',\n",
              "       '3.6M', '5.7M', '8.6M', '2.4M', '27M', '2.5M', '16M', '3.4M',\n",
              "       '8.9M', '3.9M', '2.9M', '38M', '32M', '5.4M', '18M', '1.1M',\n",
              "       '2.2M', '4.5M', '9.8M', '52M', '9.0M', '6.7M', '30M', '2.6M',\n",
              "       '7.1M', '3.7M', '22M', '7.4M', '6.4M', '3.2M', '8.2M', '9.9M',\n",
              "       '4.9M', '9.5M', '5.0M', '5.9M', '13M', '73M', '6.8M', '3.5M',\n",
              "       '4.0M', '2.3M', '7.2M', '2.1M', '42M', '7.3M', '9.1M', '55M',\n",
              "       '23k', '6.5M', '1.5M', '7.5M', '51M', '41M', '48M', '8.5M', '46M',\n",
              "       '8.3M', '4.3M', '4.7M', '3.3M', '40M', '7.8M', '8.8M', '6.6M',\n",
              "       '5.1M', '61M', '66M', '79k', '8.4M', '118k', '44M', '695k', '1.6M',\n",
              "       '6.2M', '18k', '53M', '1.4M', '3.0M', '5.8M', '3.8M', '9.6M',\n",
              "       '45M', '63M', '49M', '77M', '4.4M', '4.8M', '70M', '6.9M', '9.3M',\n",
              "       '10.0M', '8.1M', '36M', '84M', '97M', '2.0M', '1.9M', '1.8M',\n",
              "       '5.3M', '47M', '556k', '526k', '76M', '7.6M', '59M', '9.7M', '78M',\n",
              "       '72M', '43M', '7.7M', '6.3M', '334k', '34M', '93M', '65M', '79M',\n",
              "       '100M', '58M', '50M', '68M', '64M', '67M', '60M', '94M', '232k',\n",
              "       '99M', '624k', '95M', '8.5k', '41k', '292k', '11k', '80M', '1.7M',\n",
              "       '74M', '62M', '69M', '75M', '98M', '85M', '82M', '96M', '87M',\n",
              "       '71M', '86M', '91M', '81M', '92M', '83M', '88M', '704k', '862k',\n",
              "       '899k', '378k', '266k', '375k', '1.3M', '975k', '980k', '4.1M',\n",
              "       '89M', '696k', '544k', '525k', '920k', '779k', '853k', '720k',\n",
              "       '713k', '772k', '318k', '58k', '241k', '196k', '857k', '51k',\n",
              "       '953k', '865k', '251k', '930k', '540k', '313k', '746k', '203k',\n",
              "       '26k', '314k', '239k', '371k', '220k', '730k', '756k', '91k',\n",
              "       '293k', '17k', '74k', '14k', '317k', '78k', '924k', '902k', '818k',\n",
              "       '81k', '939k', '169k', '45k', '475k', '965k', '90M', '545k', '61k',\n",
              "       '283k', '655k', '714k', '93k', '872k', '121k', '322k', '1.0M',\n",
              "       '976k', '172k', '238k', '549k', '206k', '954k', '444k', '717k',\n",
              "       '210k', '609k', '308k', '705k', '306k', '904k', '473k', '175k',\n",
              "       '350k', '383k', '454k', '421k', '70k', '812k', '442k', '842k',\n",
              "       '417k', '412k', '459k', '478k', '335k', '782k', '721k', '430k',\n",
              "       '429k', '192k', '200k', '460k', '728k', '496k', '816k', '414k',\n",
              "       '506k', '887k', '613k', '243k', '569k', '778k', '683k', '592k',\n",
              "       '319k', '186k', '840k', '647k', '191k', '373k', '437k', '598k',\n",
              "       '716k', '585k', '982k', '222k', '219k', '55k', '948k', '323k',\n",
              "       '691k', '511k', '951k', '963k', '25k', '554k', '351k', '27k',\n",
              "       '82k', '208k', '913k', '514k', '551k', '29k', '103k', '898k',\n",
              "       '743k', '116k', '153k', '209k', '353k', '499k', '173k', '597k',\n",
              "       '809k', '122k', '411k', '400k', '801k', '787k', '237k', '50k',\n",
              "       '643k', '986k', '97k', '516k', '837k', '780k', '961k', '269k',\n",
              "       '20k', '498k', '600k', '749k', '642k', '881k', '72k', '656k',\n",
              "       '601k', '221k', '228k', '108k', '940k', '176k', '33k', '663k',\n",
              "       '34k', '942k', '259k', '164k', '458k', '245k', '629k', '28k',\n",
              "       '288k', '775k', '785k', '636k', '916k', '994k', '309k', '485k',\n",
              "       '914k', '903k', '608k', '500k', '54k', '562k', '847k', '957k',\n",
              "       '688k', '811k', '270k', '48k', '329k', '523k', '921k', '874k',\n",
              "       '981k', '784k', '280k', '24k', '518k', '754k', '892k', '154k',\n",
              "       '860k', '364k', '387k', '626k', '161k', '879k', '39k', '970k',\n",
              "       '170k', '141k', '160k', '144k', '143k', '190k', '376k', '193k',\n",
              "       '246k', '73k', '658k', '992k', '253k', '420k', '404k', '470k',\n",
              "       '226k', '240k', '89k', '234k', '257k', '861k', '467k', '157k',\n",
              "       '44k', '676k', '67k', '552k', '885k', '1020k', '582k', '619k'],\n",
              "      dtype=object)"
            ]
          },
          "metadata": {},
          "execution_count": 23
        }
      ]
    },
    {
      "cell_type": "markdown",
      "source": [
        "\n",
        "\n",
        "**4.4.2 - Data conversion and cleaning**\n",
        "\n"
      ],
      "metadata": {
        "id": "wsVNoxPLIpik"
      }
    },
    {
      "cell_type": "code",
      "source": [
        "# as we seen there is 1 value 'Varies with device' has no meaning so we'll replace it by nan, later we'll remove all nan from dataset\n",
        "play_store['Size']= play_store['Size'].replace('Varies with device',np.nan)"
      ],
      "metadata": {
        "id": "yRUj-36gIiH1"
      },
      "execution_count": 24,
      "outputs": []
    },
    {
      "cell_type": "code",
      "source": [
        "# there is M represents MB and K represents KB        1MB = 1024kB \n",
        "# we have to convert it into numerical value for calculation and remove M and K from it.\n",
        "\n",
        "# first we have to convert object datatype to string.\n",
        "play_store['Size'] = play_store['Size'].astype(str)    \n",
        "\n",
        "\n",
        "def mbconverter(val):\n",
        "      mb= 'M'\n",
        "      kb= 'k'\n",
        "      if mb in val:\n",
        "         mb_conv=float(val.replace(mb,''))\n",
        "         return mb_conv\n",
        "      elif kb in val:\n",
        "        kb_conv=float(val.replace(kb,''))\n",
        "        return float(kb_conv/1000)                                                 # here we converts all the kb values into mb.\n",
        "      else:\n",
        "        return val \n",
        "\n",
        "\n",
        "play_store['Size'] = play_store['Size'].apply(mbconverter).astype(np.float32)      # datatype conversion and applying function over Size column  \n",
        "\n",
        "\n",
        "# see the result\n",
        "play_store"
      ],
      "metadata": {
        "id": "RPQKkc8jF5xL",
        "colab": {
          "base_uri": "https://localhost:8080/",
          "height": 624
        },
        "outputId": "6a28ec12-0d4a-43f4-c0a2-b2a3183f22bd"
      },
      "execution_count": 25,
      "outputs": [
        {
          "output_type": "execute_result",
          "data": {
            "text/plain": [
              "                                                     App             Category  \\\n",
              "0         Photo Editor & Candy Camera & Grid & ScrapBook       ART_AND_DESIGN   \n",
              "1                                    Coloring book moana       ART_AND_DESIGN   \n",
              "2      U Launcher Lite – FREE Live Cool Themes, Hide ...       ART_AND_DESIGN   \n",
              "3                                  Sketch - Draw & Paint       ART_AND_DESIGN   \n",
              "4                  Pixel Draw - Number Art Coloring Book       ART_AND_DESIGN   \n",
              "...                                                  ...                  ...   \n",
              "10836                                   Sya9a Maroc - FR               FAMILY   \n",
              "10837                   Fr. Mike Schmitz Audio Teachings               FAMILY   \n",
              "10838                             Parkinson Exercices FR              MEDICAL   \n",
              "10839                      The SCP Foundation DB fr nn5n  BOOKS_AND_REFERENCE   \n",
              "10840      iHoroscope - 2018 Daily Horoscope & Astrology            LIFESTYLE   \n",
              "\n",
              "       Rating  Reviews  Size  Installs  Type  Price Content_Rating  \\\n",
              "0         4.1      159  19.0     10000  Free    0.0       Everyone   \n",
              "1         3.9      967  14.0    500000  Free    0.0       Everyone   \n",
              "2         4.7    87510   8.7   5000000  Free    0.0       Everyone   \n",
              "3         4.5   215644  25.0  50000000  Free    0.0           Teen   \n",
              "4         4.3      967   2.8    100000  Free    0.0       Everyone   \n",
              "...       ...      ...   ...       ...   ...    ...            ...   \n",
              "10836     4.5       38  53.0      5000  Free    0.0       Everyone   \n",
              "10837     5.0        4   3.6       100  Free    0.0       Everyone   \n",
              "10838     NaN        3   9.5      1000  Free    0.0       Everyone   \n",
              "10839     4.5      114   NaN      1000  Free    0.0     Mature 17+   \n",
              "10840     4.5   398307  19.0  10000000  Free    0.0       Everyone   \n",
              "\n",
              "                          Genres      Last_Updated         Current_Ver  \\\n",
              "0                   Art & Design   January 7, 2018               1.0.0   \n",
              "1      Art & Design;Pretend Play  January 15, 2018               2.0.0   \n",
              "2                   Art & Design    August 1, 2018               1.2.4   \n",
              "3                   Art & Design      June 8, 2018  Varies with device   \n",
              "4        Art & Design;Creativity     June 20, 2018                 1.1   \n",
              "...                          ...               ...                 ...   \n",
              "10836                  Education     July 25, 2017                1.48   \n",
              "10837                  Education      July 6, 2018                 1.0   \n",
              "10838                    Medical  January 20, 2017                 1.0   \n",
              "10839          Books & Reference  January 19, 2015  Varies with device   \n",
              "10840                  Lifestyle     July 25, 2018  Varies with device   \n",
              "\n",
              "              Android_Ver  \n",
              "0            4.0.3 and up  \n",
              "1            4.0.3 and up  \n",
              "2            4.0.3 and up  \n",
              "3              4.2 and up  \n",
              "4              4.4 and up  \n",
              "...                   ...  \n",
              "10836          4.1 and up  \n",
              "10837          4.1 and up  \n",
              "10838          2.2 and up  \n",
              "10839  Varies with device  \n",
              "10840  Varies with device  \n",
              "\n",
              "[10840 rows x 13 columns]"
            ],
            "text/html": [
              "\n",
              "  <div id=\"df-896135b5-4c3b-43af-a270-cf1e4e354ef3\">\n",
              "    <div class=\"colab-df-container\">\n",
              "      <div>\n",
              "<style scoped>\n",
              "    .dataframe tbody tr th:only-of-type {\n",
              "        vertical-align: middle;\n",
              "    }\n",
              "\n",
              "    .dataframe tbody tr th {\n",
              "        vertical-align: top;\n",
              "    }\n",
              "\n",
              "    .dataframe thead th {\n",
              "        text-align: right;\n",
              "    }\n",
              "</style>\n",
              "<table border=\"1\" class=\"dataframe\">\n",
              "  <thead>\n",
              "    <tr style=\"text-align: right;\">\n",
              "      <th></th>\n",
              "      <th>App</th>\n",
              "      <th>Category</th>\n",
              "      <th>Rating</th>\n",
              "      <th>Reviews</th>\n",
              "      <th>Size</th>\n",
              "      <th>Installs</th>\n",
              "      <th>Type</th>\n",
              "      <th>Price</th>\n",
              "      <th>Content_Rating</th>\n",
              "      <th>Genres</th>\n",
              "      <th>Last_Updated</th>\n",
              "      <th>Current_Ver</th>\n",
              "      <th>Android_Ver</th>\n",
              "    </tr>\n",
              "  </thead>\n",
              "  <tbody>\n",
              "    <tr>\n",
              "      <th>0</th>\n",
              "      <td>Photo Editor &amp; Candy Camera &amp; Grid &amp; ScrapBook</td>\n",
              "      <td>ART_AND_DESIGN</td>\n",
              "      <td>4.1</td>\n",
              "      <td>159</td>\n",
              "      <td>19.0</td>\n",
              "      <td>10000</td>\n",
              "      <td>Free</td>\n",
              "      <td>0.0</td>\n",
              "      <td>Everyone</td>\n",
              "      <td>Art &amp; Design</td>\n",
              "      <td>January 7, 2018</td>\n",
              "      <td>1.0.0</td>\n",
              "      <td>4.0.3 and up</td>\n",
              "    </tr>\n",
              "    <tr>\n",
              "      <th>1</th>\n",
              "      <td>Coloring book moana</td>\n",
              "      <td>ART_AND_DESIGN</td>\n",
              "      <td>3.9</td>\n",
              "      <td>967</td>\n",
              "      <td>14.0</td>\n",
              "      <td>500000</td>\n",
              "      <td>Free</td>\n",
              "      <td>0.0</td>\n",
              "      <td>Everyone</td>\n",
              "      <td>Art &amp; Design;Pretend Play</td>\n",
              "      <td>January 15, 2018</td>\n",
              "      <td>2.0.0</td>\n",
              "      <td>4.0.3 and up</td>\n",
              "    </tr>\n",
              "    <tr>\n",
              "      <th>2</th>\n",
              "      <td>U Launcher Lite – FREE Live Cool Themes, Hide ...</td>\n",
              "      <td>ART_AND_DESIGN</td>\n",
              "      <td>4.7</td>\n",
              "      <td>87510</td>\n",
              "      <td>8.7</td>\n",
              "      <td>5000000</td>\n",
              "      <td>Free</td>\n",
              "      <td>0.0</td>\n",
              "      <td>Everyone</td>\n",
              "      <td>Art &amp; Design</td>\n",
              "      <td>August 1, 2018</td>\n",
              "      <td>1.2.4</td>\n",
              "      <td>4.0.3 and up</td>\n",
              "    </tr>\n",
              "    <tr>\n",
              "      <th>3</th>\n",
              "      <td>Sketch - Draw &amp; Paint</td>\n",
              "      <td>ART_AND_DESIGN</td>\n",
              "      <td>4.5</td>\n",
              "      <td>215644</td>\n",
              "      <td>25.0</td>\n",
              "      <td>50000000</td>\n",
              "      <td>Free</td>\n",
              "      <td>0.0</td>\n",
              "      <td>Teen</td>\n",
              "      <td>Art &amp; Design</td>\n",
              "      <td>June 8, 2018</td>\n",
              "      <td>Varies with device</td>\n",
              "      <td>4.2 and up</td>\n",
              "    </tr>\n",
              "    <tr>\n",
              "      <th>4</th>\n",
              "      <td>Pixel Draw - Number Art Coloring Book</td>\n",
              "      <td>ART_AND_DESIGN</td>\n",
              "      <td>4.3</td>\n",
              "      <td>967</td>\n",
              "      <td>2.8</td>\n",
              "      <td>100000</td>\n",
              "      <td>Free</td>\n",
              "      <td>0.0</td>\n",
              "      <td>Everyone</td>\n",
              "      <td>Art &amp; Design;Creativity</td>\n",
              "      <td>June 20, 2018</td>\n",
              "      <td>1.1</td>\n",
              "      <td>4.4 and up</td>\n",
              "    </tr>\n",
              "    <tr>\n",
              "      <th>...</th>\n",
              "      <td>...</td>\n",
              "      <td>...</td>\n",
              "      <td>...</td>\n",
              "      <td>...</td>\n",
              "      <td>...</td>\n",
              "      <td>...</td>\n",
              "      <td>...</td>\n",
              "      <td>...</td>\n",
              "      <td>...</td>\n",
              "      <td>...</td>\n",
              "      <td>...</td>\n",
              "      <td>...</td>\n",
              "      <td>...</td>\n",
              "    </tr>\n",
              "    <tr>\n",
              "      <th>10836</th>\n",
              "      <td>Sya9a Maroc - FR</td>\n",
              "      <td>FAMILY</td>\n",
              "      <td>4.5</td>\n",
              "      <td>38</td>\n",
              "      <td>53.0</td>\n",
              "      <td>5000</td>\n",
              "      <td>Free</td>\n",
              "      <td>0.0</td>\n",
              "      <td>Everyone</td>\n",
              "      <td>Education</td>\n",
              "      <td>July 25, 2017</td>\n",
              "      <td>1.48</td>\n",
              "      <td>4.1 and up</td>\n",
              "    </tr>\n",
              "    <tr>\n",
              "      <th>10837</th>\n",
              "      <td>Fr. Mike Schmitz Audio Teachings</td>\n",
              "      <td>FAMILY</td>\n",
              "      <td>5.0</td>\n",
              "      <td>4</td>\n",
              "      <td>3.6</td>\n",
              "      <td>100</td>\n",
              "      <td>Free</td>\n",
              "      <td>0.0</td>\n",
              "      <td>Everyone</td>\n",
              "      <td>Education</td>\n",
              "      <td>July 6, 2018</td>\n",
              "      <td>1.0</td>\n",
              "      <td>4.1 and up</td>\n",
              "    </tr>\n",
              "    <tr>\n",
              "      <th>10838</th>\n",
              "      <td>Parkinson Exercices FR</td>\n",
              "      <td>MEDICAL</td>\n",
              "      <td>NaN</td>\n",
              "      <td>3</td>\n",
              "      <td>9.5</td>\n",
              "      <td>1000</td>\n",
              "      <td>Free</td>\n",
              "      <td>0.0</td>\n",
              "      <td>Everyone</td>\n",
              "      <td>Medical</td>\n",
              "      <td>January 20, 2017</td>\n",
              "      <td>1.0</td>\n",
              "      <td>2.2 and up</td>\n",
              "    </tr>\n",
              "    <tr>\n",
              "      <th>10839</th>\n",
              "      <td>The SCP Foundation DB fr nn5n</td>\n",
              "      <td>BOOKS_AND_REFERENCE</td>\n",
              "      <td>4.5</td>\n",
              "      <td>114</td>\n",
              "      <td>NaN</td>\n",
              "      <td>1000</td>\n",
              "      <td>Free</td>\n",
              "      <td>0.0</td>\n",
              "      <td>Mature 17+</td>\n",
              "      <td>Books &amp; Reference</td>\n",
              "      <td>January 19, 2015</td>\n",
              "      <td>Varies with device</td>\n",
              "      <td>Varies with device</td>\n",
              "    </tr>\n",
              "    <tr>\n",
              "      <th>10840</th>\n",
              "      <td>iHoroscope - 2018 Daily Horoscope &amp; Astrology</td>\n",
              "      <td>LIFESTYLE</td>\n",
              "      <td>4.5</td>\n",
              "      <td>398307</td>\n",
              "      <td>19.0</td>\n",
              "      <td>10000000</td>\n",
              "      <td>Free</td>\n",
              "      <td>0.0</td>\n",
              "      <td>Everyone</td>\n",
              "      <td>Lifestyle</td>\n",
              "      <td>July 25, 2018</td>\n",
              "      <td>Varies with device</td>\n",
              "      <td>Varies with device</td>\n",
              "    </tr>\n",
              "  </tbody>\n",
              "</table>\n",
              "<p>10840 rows × 13 columns</p>\n",
              "</div>\n",
              "      <button class=\"colab-df-convert\" onclick=\"convertToInteractive('df-896135b5-4c3b-43af-a270-cf1e4e354ef3')\"\n",
              "              title=\"Convert this dataframe to an interactive table.\"\n",
              "              style=\"display:none;\">\n",
              "        \n",
              "  <svg xmlns=\"http://www.w3.org/2000/svg\" height=\"24px\"viewBox=\"0 0 24 24\"\n",
              "       width=\"24px\">\n",
              "    <path d=\"M0 0h24v24H0V0z\" fill=\"none\"/>\n",
              "    <path d=\"M18.56 5.44l.94 2.06.94-2.06 2.06-.94-2.06-.94-.94-2.06-.94 2.06-2.06.94zm-11 1L8.5 8.5l.94-2.06 2.06-.94-2.06-.94L8.5 2.5l-.94 2.06-2.06.94zm10 10l.94 2.06.94-2.06 2.06-.94-2.06-.94-.94-2.06-.94 2.06-2.06.94z\"/><path d=\"M17.41 7.96l-1.37-1.37c-.4-.4-.92-.59-1.43-.59-.52 0-1.04.2-1.43.59L10.3 9.45l-7.72 7.72c-.78.78-.78 2.05 0 2.83L4 21.41c.39.39.9.59 1.41.59.51 0 1.02-.2 1.41-.59l7.78-7.78 2.81-2.81c.8-.78.8-2.07 0-2.86zM5.41 20L4 18.59l7.72-7.72 1.47 1.35L5.41 20z\"/>\n",
              "  </svg>\n",
              "      </button>\n",
              "      \n",
              "  <style>\n",
              "    .colab-df-container {\n",
              "      display:flex;\n",
              "      flex-wrap:wrap;\n",
              "      gap: 12px;\n",
              "    }\n",
              "\n",
              "    .colab-df-convert {\n",
              "      background-color: #E8F0FE;\n",
              "      border: none;\n",
              "      border-radius: 50%;\n",
              "      cursor: pointer;\n",
              "      display: none;\n",
              "      fill: #1967D2;\n",
              "      height: 32px;\n",
              "      padding: 0 0 0 0;\n",
              "      width: 32px;\n",
              "    }\n",
              "\n",
              "    .colab-df-convert:hover {\n",
              "      background-color: #E2EBFA;\n",
              "      box-shadow: 0px 1px 2px rgba(60, 64, 67, 0.3), 0px 1px 3px 1px rgba(60, 64, 67, 0.15);\n",
              "      fill: #174EA6;\n",
              "    }\n",
              "\n",
              "    [theme=dark] .colab-df-convert {\n",
              "      background-color: #3B4455;\n",
              "      fill: #D2E3FC;\n",
              "    }\n",
              "\n",
              "    [theme=dark] .colab-df-convert:hover {\n",
              "      background-color: #434B5C;\n",
              "      box-shadow: 0px 1px 3px 1px rgba(0, 0, 0, 0.15);\n",
              "      filter: drop-shadow(0px 1px 2px rgba(0, 0, 0, 0.3));\n",
              "      fill: #FFFFFF;\n",
              "    }\n",
              "  </style>\n",
              "\n",
              "      <script>\n",
              "        const buttonEl =\n",
              "          document.querySelector('#df-896135b5-4c3b-43af-a270-cf1e4e354ef3 button.colab-df-convert');\n",
              "        buttonEl.style.display =\n",
              "          google.colab.kernel.accessAllowed ? 'block' : 'none';\n",
              "\n",
              "        async function convertToInteractive(key) {\n",
              "          const element = document.querySelector('#df-896135b5-4c3b-43af-a270-cf1e4e354ef3');\n",
              "          const dataTable =\n",
              "            await google.colab.kernel.invokeFunction('convertToInteractive',\n",
              "                                                     [key], {});\n",
              "          if (!dataTable) return;\n",
              "\n",
              "          const docLinkHtml = 'Like what you see? Visit the ' +\n",
              "            '<a target=\"_blank\" href=https://colab.research.google.com/notebooks/data_table.ipynb>data table notebook</a>'\n",
              "            + ' to learn more about interactive tables.';\n",
              "          element.innerHTML = '';\n",
              "          dataTable['output_type'] = 'display_data';\n",
              "          await google.colab.output.renderOutput(dataTable, element);\n",
              "          const docLink = document.createElement('div');\n",
              "          docLink.innerHTML = docLinkHtml;\n",
              "          element.appendChild(docLink);\n",
              "        }\n",
              "      </script>\n",
              "    </div>\n",
              "  </div>\n",
              "  "
            ]
          },
          "metadata": {},
          "execution_count": 25
        }
      ]
    },
    {
      "cell_type": "code",
      "source": [
        "play_store.info()"
      ],
      "metadata": {
        "colab": {
          "base_uri": "https://localhost:8080/"
        },
        "id": "JGD0j6k_SeQD",
        "outputId": "0e28c5cd-7e23-4f89-edc2-b6503197906f"
      },
      "execution_count": 26,
      "outputs": [
        {
          "output_type": "stream",
          "name": "stdout",
          "text": [
            "<class 'pandas.core.frame.DataFrame'>\n",
            "Int64Index: 10840 entries, 0 to 10840\n",
            "Data columns (total 13 columns):\n",
            " #   Column          Non-Null Count  Dtype  \n",
            "---  ------          --------------  -----  \n",
            " 0   App             10840 non-null  object \n",
            " 1   Category        10840 non-null  object \n",
            " 2   Rating          9366 non-null   float64\n",
            " 3   Reviews         10840 non-null  int64  \n",
            " 4   Size            9145 non-null   float32\n",
            " 5   Installs        10840 non-null  int64  \n",
            " 6   Type            10839 non-null  object \n",
            " 7   Price           10840 non-null  float64\n",
            " 8   Content_Rating  10840 non-null  object \n",
            " 9   Genres          10840 non-null  object \n",
            " 10  Last_Updated    10840 non-null  object \n",
            " 11  Current_Ver     10832 non-null  object \n",
            " 12  Android_Ver     10838 non-null  object \n",
            "dtypes: float32(1), float64(2), int64(2), object(8)\n",
            "memory usage: 1.1+ MB\n"
          ]
        }
      ]
    },
    {
      "cell_type": "markdown",
      "source": [
        "# 4.5 - Rest the Column Cleaning"
      ],
      "metadata": {
        "id": "AdZqj3PiSVOb"
      }
    },
    {
      "cell_type": "markdown",
      "source": [
        "**4.5.1 - Android_Ver Column Cleaning**\n",
        "\n",
        "\n",
        "\n"
      ],
      "metadata": {
        "id": "S7w7Dun7TMF0"
      }
    },
    {
      "cell_type": "code",
      "source": [
        "# Android_Ver column values\n",
        "play_store['Android_Ver'].unique()"
      ],
      "metadata": {
        "id": "FVltoRy_p8De",
        "colab": {
          "base_uri": "https://localhost:8080/"
        },
        "outputId": "9cb5e9fe-eda6-44d3-c709-88452d31a0a6"
      },
      "execution_count": 60,
      "outputs": [
        {
          "output_type": "execute_result",
          "data": {
            "text/plain": [
              "array(['4.0.3 and up', '4.2 and up', '4.4 and up', '2.3 and up',\n",
              "       '3.0 and up', '4.1 and up', '4.0 and up', '2.2 and up',\n",
              "       '5.0 and up', '6.0 and up', '1.6 and up', '2.1 and up',\n",
              "       '1.5 and up', '7.0 and up', '4.3 and up', '4.0.3 - 7.1.1',\n",
              "       '2.0 and up', '2.3.3 and up', 'Varies with device', '3.2 and up',\n",
              "       '5.1 and up', '7.1 and up', '7.0 - 7.1.1', '8.0 and up',\n",
              "       '5.0 - 8.0', '3.1 and up', '2.0.1 and up', '4.1 - 7.1.1',\n",
              "       '5.0 - 6.0', '1.0 and up'], dtype=object)"
            ]
          },
          "metadata": {},
          "execution_count": 60
        }
      ]
    },
    {
      "cell_type": "code",
      "source": [
        "# as we can see there is '4.4w and up' value so we have to remove 'w' from it.\n",
        "def replacer(val):\n",
        "      change ='4.4 and up'\n",
        "      if val == '4.4W and up':\n",
        "         new_val=val.replace(val,change)\n",
        "         return new_val\n",
        "      else:\n",
        "         new_val=val\n",
        "         return new_val\n",
        "\n",
        "play_store['Android_Ver'] = play_store['Android_Ver'].apply(lambda x: replacer(x))"
      ],
      "metadata": {
        "id": "QPSS3V_qASDJ"
      },
      "execution_count": 28,
      "outputs": []
    },
    {
      "cell_type": "code",
      "source": [
        "# check the effect.\n",
        "play_store['Android_Ver'].unique()"
      ],
      "metadata": {
        "id": "y2dXw1vIiO_H"
      },
      "execution_count": null,
      "outputs": []
    },
    {
      "cell_type": "markdown",
      "source": [
        "**4.5.2 - Current_Ver Column Cleaning**"
      ],
      "metadata": {
        "id": "G_UygiSNqPmy"
      }
    },
    {
      "cell_type": "code",
      "source": [
        "# Current_Ver column value\n",
        "list_ver=list(play_store['Current_Ver'].unique())\n",
        "print(list_ver)\n",
        "\n",
        "# there is no need to change anything with Current_Ver column data"
      ],
      "metadata": {
        "colab": {
          "base_uri": "https://localhost:8080/"
        },
        "id": "t7wlAa6tqpwi",
        "outputId": "72a0bdb8-7041-4584-ea91-b8012244a96c"
      },
      "execution_count": 30,
      "outputs": [
        {
          "output_type": "stream",
          "name": "stdout",
          "text": [
            "['1.0.0', '2.0.0', '1.2.4', 'Varies with device', '1.1', '1.0', '6.1.61.1', '2.9.2', '2.8', '1.0.4', '1.0.15', '3.8', '1.2.3', nan, '3.1', '2.2.5', '5.5.4', '4.0', '2.2.6.2', '1.1.3', '1.5', '1.0.8', '1.03', '6.0', '6.7.12.2018', '1.2', '2.20', '1.1.0', '1.6', '2.1', '1.0.9', '1.3', '1', '2.0.1', '1.46', '1.6.1', '11.0', '3.0', '1.7.1', '2.5.1', '1.0.1', '2.493', '1.9.1', '1.7', '2.20 Build 02', '1.37', '0.2.1', '4.47.3', '1.9.7', '2.2.21', '2.9', '1.79', '2.3.5.1', '8.31', '1.1.5.0', '10.0.2', '1.10.3', '3.20.1', '1.0.3', '1.4', '4.6.5', '2.8.2', '4.0.3', '1.40', '1.5.18', '2.3.4', '2.17', '6.10.1', '2.3.0', '1.0.6', '1.9', '5.4', '3.0.1', '8.0', '3.3.9', '1.20', '2.3.09', '1.4.2', '18.5', '1.15', '2.0', '1.2.13', '1.0.2.0', '3.1.89', '2.2.0', '1.9.2', '1.3.2', '3.2.1', '2.0.075', '1.911805270', '9.1.363', '1.1.6', '2.3.18', '15.0', '18.05.31+530', '5.0.6', '3.12', '1.28', '6.0.8', '9.00.950462', '14.0', '3.05', '2.5.3', '7.0.4.6', '3.1.7.9', '3.9.1', '3.4.2', '2.19.0.204537701', '9.7.14188', '4.9.10', '5.2.8', '3.3', '3.550.2', '4.6.30', '7.3.21', '1.1.13', '3.0.1.11 (Build 311)', '5.1.5', '2.3.6', '4.1.28165.0716', '99.0.0.35.75', '12.2.4', '1.0.6.8', '3.4.5', '2.5.6', '1.12.5', '4.9', '0.9.4', '1.1.07.6', '1.0.5', '1.2.6', '3.9.2', '3.4.49', '1.5.2', '3.4.6', '1.12.0', '1.7.14', '3.24.1', '18.7', '3.19.005', '4.9.1', '6.1.2', '6.4.4', '3.7.5', '2.6.158', '5.20.7', '4.3.0.508', '10.46.2', '11.1.0', '1.2.287', '3.0.4651', '3.1.4.0', '3.3.0', '2.22.397', '2.0.19', '1.1.7.0', '2.11.3', '1.08', '3.4.3_world', '1.2.12', '6.3.0', '2.3.1', '3.1.0', '4.7.3', '3.16.0', '4.1.0', '6.1.1', '1.7.7', '5.0.12', '4.3.0', '4.2.0.2', '1.01', '2.3.3', '2.4.25', '1.8.9', '37.0.0.7.163', '2.4.1', '5.29.3', '9.8.000000010492', '9.8.000000010501', '2.8.4.201036949', '1.3.4', '11.8.6', '24.6.6', '3.2.0.100171', '47.1.2249.129326', 'R6.0.3', '5.2', '69.0.3497.24', '6.7.9.1', '1.60.0.31354-release', '11.4.0', '2.18.116', '7.5.1', '37.1.206017801.DR37_RC14', '7.5.3.20547', '2.2.7600', '12.8.5.1121', '9.9.0', '42.0.0.2059', '0.1.100944346', '6.1', '3.0.4', '7.3(800241)', '7.73', '4.98', '7.21', '3.47', '6.5.1', '5.65.0', '5.22.18.0006', '1.4.1.0', '2.2', '6.4.0.4', '4.5.1', '5.85.1', '196', '3.0.7', '1.26.001', '3.5.0', '8.1.2-6310', '5.86', '5.1.2-6310', '2018.1.715', '3.9.7', '1.286', '6.19.1', '2.17.3', '2.2.245', '4.5.4', '5.28.0', '5.403', '1.9.4.74', '5.0.9', '9.8.376', '2.3', '3.2.0', '2.3.17', '2.9.8', '7.2.29', '2.6.139', '11.10.1', '2.5.2', '6.1.3', '4.17.2', '3.5.0.1', '2.6.141', '4.19.0.2320', '6.6.5', '1.639', '4.4B', '1.308.us', '5.0.1', '2.45', '4.5.5', '1.2.1', '4.0.18', '1.6.5', '1.31.4', '1.230', '4.1.2', '15.8', '6.3.7', '4.8.5', '6.4.6', '2.3.0.1781', '4.3', '2.9.6', '3.8.75a', '3.0.0', '1.31.3', '1.6.6', '2.0.5', '2.2.0.1748', '3.0.15', '2.4.0', '1.55', '12.0.4', '1.15.0', '6.4.1', '5.2.14', '8.7.2', '1.1.46', '2.8.0', '3.4.1.1', '5.5.7', '1.5.4.0', '4.9.2 (Oasis)', '3.10.5', '2.2.7', '1.17', '3.1.3', '0.0.73', '4.7.6', '5.2.9', '4.3.2', '3.6.3', '4.4.1', '5.16.2', '5.3.3.13289', '5.0.8', '0.1.11', '1.4.0', '2.4', '2.5', '8.2', '4.20', '1.', '2.2.9', '3.52', '5.5.8', '1.0.7', '3.5.4.2.3', '1.1.1', '1.2.9', '2', '1.5-beta', '4.5.0', '3.7', '1.0.2', '4.813', '1.0.82', '4.1', '3.2.5', '5.0.0', '1.94.9', '1.2.8', '1.3.8', '2.1.8', '2.3.7', '2.9.0', '2.16.11.10', '1.2.0', '20.7.2', '2.24', '2.6.2', '2.51.0', '2.2.4', '3.7.0', '10', '2.8.1', '5.0.4', '2.15.1', '3.14.15', '1.10.0', '1.3.0', '4.7.0', '4.5.2', '5.7.2', '3.5.2', '5.5.2', '4.2.8', '7.2.3633', '1.8.1', '7.2.3634', '4.1.3', '2.48', '5.2.1', '0.29.74', '10.9.1', '4.2.3', '2.09', '2.3.9', '13.9.0.161', '3.6.0.115_FN', '8.5.2', '1.12.1', '4.8.2', '15.9.4', '9.12.5', '5.0', '4.21.1', '2.6.6', '1.16', '5.7.0', '2.4.4', '5.7.1', '1.5-play', '1.1.1-play', '1.02', '2.13.5', '3.43.3', '2.05.0010', 'v1.8b22p13', '3.7.3', '4.6.2', '4.0.5', '7.3', '2.6.6.11', '1.1.3.2', '9.1.4', '3.0.231.18141', '2.3.34 Prod', '2.08.78.2', '18.07.0', '3.5.2.2', '2.19.0', '2.9.43', '2.1.1', '6.18.3', '2.9.4', '01.01.66', '4.8.6', '3.1.4', '2.0.8', '11.45.0', '8.0626', '43', '4.18.1', '3.17.2', '3.3.1.41', '4.0.2', '16.0.0.437', '6.6.1', '3.3.1.42', '7.5.0', '4.003.1', '1.0.20', '1.0.64', '2.3.2', '8.1', '7.2.3', '4.2.0.8447', '4.426', '4.1.7', '8.4', '1.57', '1.5.0', '4.2.1', '4.3.6', '2018.07.31229', '4.0.19', '11.1.1', '1.75', '1.107', '16.11.8', '1.14', '1.1.9', '42.0', '2.2.2', '18.4', '1.0.11', '3.05.30.16', 'Cannonau 3.11.11', '8.0bld14', '4.6.0', '20.1.0', '8.18', '10.78', '4.1.1-0-prod', '3.9.0', '5.16.0', '6.5.7', '3.115.27', '2.31.1', '3.0.5', '2.6.0', '1.17.2', '5.10.1.40699', '6.8.0.109', '6.28.0', '5.38.1', '2.7.4', '2.9.12', '3.22.0', '3.22.1', '2.70.206190089', '3.1.6.12', '6.39.1.4', '2.2.12', '2.5.0.26', '6.0.16', '2.29.01', '1.13.2.11', '2.0.4', '2.12.100', '2.53.2', '5.1.1', '1.14.1', '2.5.7', '2.1.4', '1.17.1', '1.4.11', '1.18.0', '3.1.16', '2.9.5', '16.6', '3.2.18.07.30', '1.9.9.9.3', '1.28.0.5402', '4.63', '2.10.3', '3.6.2', '3.04 - Beta', '6.8.2', '1.1.16', '1.1.39', '4.5.2.1', '3.0.22', '6.0.6', '2.131', '4.10.0', '6.0.2', '5.1', '2.34.29', '5.2.203', '8.44.2', '5.9.1.0', '7.8.8', '9.7.0', '6.7.0', '6.29.37589', '5.15.0', '18.6.0.10', '2.12', '3.2.0d', '3.1.5', '4.0.30', '1.9.117', '5.2.2', '7.12', '4.3.3', '6.0.1', '2.14.36', '4.11.1', '3.3.21', '5.3.8', '3.5.5', '3.3.6', '7.9.0.0', '2.1.0', '5.8.5', '3.2.7', '4.26', '1.2.2', '3.6.6', '4.0.0.427', '3.17.1.0', '24.5.0', '1.4.4', '2.0.3', '2.76.2.0-android', '5.7.23', '4.2.6', '9.15.0.2020', '2.6.15', '3.1.14', '2.4.11', '1.161.10002', '11.11.1', '4.11.3', '1.0.14', '5.23', '5.31.75', '1.0.26', 'p5.7.1', '3.0.6', '1.1.22', '18.7.1', '4.0.1', '1.0.12', '2.17.0', '2.6', '6.15.0', '3.401', '6.5.3', '112.0', '5.13.0', '3.48', '2.48.3', '5.3', '5.14.0', '4.4', '10.0', '8.2.0', '7.2.5', '6.2.73', '6.7', '16.0', '7.0', '3.1.9', '2.6.1', '1.29.15', '3.6.4', '2.0.16', '3.22', '7.3.4-play', '2.9.18', '10.24', '37', '5.0.2', '5.5.1', '8.8.14', '3.19.4', '3.3.0(1)', '1.11.4', '4.5.1.123', '10.2.0', '4.9.8.1', 'Public.Heal', '1.31.0-15160.950adac99', '6.3.1', '1.92', '4.8.0', '8.2.0_8', '7.4', '9.8.1.7425', '3.5.9', '9.6.8', '8.2.1', '3.6', '3.10.8', '220.0', '1.04', '3.2.4', '2.4.2', '2.6.0.287', '858', '7.9.0', '4.7.13', '2.0.6.9', '1.22.0', 'v3.1.1', '1.6.1.2', '4.5.15', '1.7.3', '5.20.38', '4.4.2', '1.7.2.10', '6.7.5', '1.02.2018.11', '6.0.0', '1.8', '5.28', '8.0.20180212', '3.00', '5.9.1', '4.2.2', '5.1.2', '5.3.0.54.7', '9.0', '10.19', '5.2.4(881)', '1.0.0.21_180410', '5.8', '4.90', '16.7.1', '3.9.3', '6.2.0', '8.00.775375', '2.4.12-r244', '9.6.3', '10.19.0.0', '2.15', '1.5.1', 'Version:6.97', '1.5.3', '7.0.8', '02.00.06', '5.1.3', '9.4.2', '6.2.1', '3.8.15', '4.35', '5.2.2018010801-1', '2.7.3', '3.9.5', '8.5.1', '2.0.9', '3.1.2.1', '1.6.2', '9.1.0', '2.2.6', '12.1.0', '8.3.3', '5.600.42', '3.1.6', '5.800.04', '3.1.8', '2.347.225742', '1.90.0', '1.129.0.2', '2.137.0', '1.20.1', '1.49.1', '1.4.77', '2.6.9', '2.2.00', '3.8.5.Go', '1.118.4', '10.322.16', '6.6.3', '2.2.3181', '4.0.0', '5.13.007', '4.8.4', '1.4.0.1', '7.9.3', '1.0.16', '2.21.5', '5.66', '3.5', '1.3.7', '2.1.10', '1.37.2', '1.0.27', '5.1.8', '3.7.2.51', '3.7.2', '3196', '1.751', '5423', '1.0.47', '1.21.0', '2.12.5', '4.8.0.132', '1.5.4', '1.7.40', '2.8.2.59', '5.064', '3.3.3179', '1.7.2', '2.10.2', '1.2.7', '3.1.0.226', '0.111.3', '5.200', '1.24', '1.7.0', '1.4.6', '2.0.6', '1.0.1.049', '2.5.0', '2.79.0', '1.3.3', '0.7.0', '1.8.2', '1.4.51', '1.3.1', '3.04.1', '1.1.4', '3.00.11034', '1.9.3', '1.2.5', '1.11.0', '1.8.0.900', '5.6.5', '2.2.3', '4.9.31', '3.6.0', '0.5.4', '1.180271.184729', '1.3.205', '2.1.1.4.0', '1.250.078', '2.0.2', '1.05.20', '3.30.4.83', '2.0081_206', '2.2.1', '2.1.2', '1.2.1.1712080', '2.21.1', '1.13.12', '5.39.1', '5.8.1', '19.1.0', '1.3.15', '2.3.5', '4.6.2.46103', '12.0.4.62276', '1.93', '1.8.225278', '3.0.2', '1.14.0', '1.76', '1.1.8', '1.1.40', '1_39_93', '79.0', '1.9.38', '1.8.20', '1.1.5', '2.11.1', '1.8.4', '108', '3.1.1', '1.1.7', '2.2.8', '0.5.8', '8', '1.15.2', '1.11.2', '4.1.1', '2.6.61', '6.2', '2.11.2', '57.0.8', '2.9.3181', '1.0.109', '3.15', '60', '1.7.04', '1.3.35', '2.5.3182', '1.10.12', '1.4.12', '1.9.3901', '1.49', '1.24.3181', '1.1.6.7', '1.8.3181', '2.0.3165', '1.7.101', '2.2.3169', '1.0.3122', '8.25.10.00', '2.7', '1.2.3-play', '2.3.3122', '3.5.3183', '8.4.3180', '1.73', '2.2.3172', '1.0.89', '2.180723', '1.1.2', '2.0.5.0', '8.25.10.01', '1.6.4', '2.0.7.4', '5.3.11', '7.32', '3.4.0', '10.180530', '149', '1.8.3', '1.180702', '3.2.473.202', '1.221', '1.4.3', '6.7.5222', '1.1.23', '1.28.01', '2.1.6579', '1.47', '1.20.2', '3.2.0h', '2.1.20', '3.49', '37893', '3.200.18289', '1.4.2.1', '1.19', '2.4.9', '18.1', '3.6.1', '3.7.2.7', '2.19.01', '7.5', '1.15.3028.0', '1.6.3028.0', '2.9.7', '1.2.16', '1.19.56.434', '0.1.0', '4.2', '20180609', '2.4.15', '3.3.1', '1.16.5', '18.2', '2.0.7', '3.46', '2.2.54', '1.3.51', '1.38.0', '3.6.17', '7.2.0', '1.35.23', '28.0.14', '6.14.091', '6.4.0', '1.5.2.1', '7.0.1', '3.0.1.0', '6.5.0', '2018.5.47', '19.0', '1.17.0', '7.6.14', '7', '1.10.0.user.pro.release', '4.1.5 (Steglitz)', '7.1.17', '3.4.3', '1.50', '2.29', '4.4.5', '6.0.4', '2.1.35', '5.4.8', '3.19', '1.1.0.0.1487', '3.27.3', '3.25.0', '8.0.226', '5.9.6', '6.02.000', '3.18.2', '7.4.1', '2.11.0', '4.36', '1.0.02', '2.25.0', '3.52.1', '2.1.3', '1.16.0', '25.3.1', '5.11', '1.3.185', '1.7.1 (946)', '4.23.0', '3.8.0', '1.2.3.2', '4.4.7', '2.1.11', '4.3.2.315', '2.6.5', '3.16.4.1669', '2.7.36', '4.9.6', '2.1.0.372', '3.5.7', '1.0.0.10', '4.5.3', '2.7.38', '1.6.17', '3.1-2018 – (13)', '6.6', '2.7.6', '1.830.0.564-(e405bb2)', '10.4.1.018_06', '1.3.5', '300000.1.11', '1.0.10', '2.0.0 (35717)', '2.01.12', '1.2.3-DEBUG', '1.0.72', '2.0.101', '0.1', '5.0.16', '1.0 Super Ear Hearing', 'PN.1.0', '0.1.2', '1.0.51.0.3', '3.4.0.10', '10.4.1.015_05', 'Initial', '1.12', '5.51', '10.4.1.000_00', '4.0.9', '3.0.8', '2.5.0 b665', '0.6.88', '1.0.32', '43.0', '4.4.3', '0.0.1', '1.9.0.0', '1.4.15-free', '2.4.12', '0.1.1', '4.95.4', '2.1.6', '2.6.10', '2.1.3.2', 'T4.6.5-tl2.0.1', '1.8.19179', '13.0', '4.2.4', '4.81', '8.00.752746', '1.23.3.0', '50.2 lite', '4.1.202', '3.10.26', '7.3.1', '3.8.1', '7.0.7', '14.0.13', '7.23.4', '2.69', '4.6.2.0', '1.8.0', '27.0', '10.6.3', '4.18.962.5', '2.16', '5.4.7.1', '16.14.0.850', '4.20.5', '2.25.17', '14.2.1', '16.14.0.100', '11.7.3.0', '10.2.1', '3.8.2.2', '6.3.8', '2.8.7', '4.16.2', '4.26.7', '3.2.6', '4.9.3', '4.7.1', '4.9.5', '3.11.1', '4.7.5', '3.27.1', '7.8.1', '5.3.0', '4.33.0', '6.25.0+1906001476', '29.14', '7.0.14', '4.89', '3.0.3', '5.3.73', '8.9.1', '5.21.1', '7.36', '7.2.1', '2.24.0', '2.124.01', '6.9.2', '18.10.157066', '4.31.2', '3.28.1.3.1359', '9.0.30', '3.13.09', '6.10.0', '3.69.0', '11.6.0', '9.0.0', '6.4.2', '3.9', '5.6.8', '5.3.1', '4.4.9', '13.6.4', '4.16.0', '5.10', '4.4.4', '7.4.2', '5.13.1', '2.18.2', '2.1.9', '584', '9.6.4', '5.0.508', '7.6.5', '1.6.0', '1.8.5', '8.9.9', '1.5.3.8', '22.0', '2.15.180', '6.9.031', '1.2.31', '1.8.0.170824_9', '6.21', '2.73.672', '2.74.685', '1.43.3', '4.0.10', '4.7.4', '3.1.8.180529', '4.0.26', '4.47', '1.43', '6.1.7.100920', '9.3.1', '6.1.6', '1.32', '4.8.7', '3.31.4', '2.2.93', '6.2.9', '1.5.5', '4.6.0.0', '1.4.0_180703', '4.2.14', '4.70', '6.4.3', '6.1.0', '71', '4.1.0.1', '3.3.8', '3.2', '2.0.17.9', '3.8.3', '1.38', '9.40.3', '4.5', '4.21', '6.71', '2.0.18', '2.19.0.201907232', '4.0.7', '1.7.16', '3.3.5', '8.1.0.6', '6.17.2', '10.8.1.330', '4.3.1', '5.4.2', '1004.0', '2.24.2.0', '6.3.3', '3.6.7', '1.5.13', '2.9.9go', '2.7.0', '6.5', '5.5', '12.0', '6.4.8', '1.2.677', '06.11.00', '7.3.0', '3.17.0+3', '5.12.4', '5.10.5', '2.6.3', '4.5.19.56', '5.9', '4.4.0', '1.31.0', '2.0.22', '8.9.3', '4.18.0', '2018.6', '2.46.1', '3.21.324', '7.0.2', '2.5.7.1', '7.1', '2.28.1', '7.8.0', '4.4.15', '7.1.0', '3.2.12', '6.9.12', '3.0.13', '5.5.9', '2017.7.1', '9.4.0', '7.1.7.4', '18.30.0', '10.9.8 (Play)', '5.48', '6.7.1', '1.10.0.205086730', '4.6', '17.4.1', '9.2.17.13', '5.2.0 21127', '5.6.1', '5.10.6.2.8466393', '5.16.1', '4.0.9.1', '10.7.8.111', '4.1.21', '8.13.3', '13.0.16', '4.13.2', '11.0.269 (m)', '2.5.26', '8.60.0.2586', '4.38.176', '6.2.3', '8.8.2', '2.1.56', '5.7.3', '7.3.3', '4.0.21', '11.26', '17.7.8', '9.7.1', '2.32.2', '1.24.5', '53.89.55', '4.15.1', 'v5.4.3', '4.9.2', '18.21.0', '4.0.38', '8.1.171', '3.19.35.999', '1.28.1', '13.8.3', 'v3.7.93', '1.02.53', '3.1.2', '0.2.32', 'MyMetro_HTML_2.0_430029', '7.6.1', 'v8.0.1.8.0629.1', '2.1.02.4477839', '8.1.6', '4.5.28_ww', '1.0.204375696', '1.7.4', 'v7.0.7.1.0625.1_06_0629', '6.0.61.5', '11.7.0', 'v7.0.9.1.0526.1_06_0704', '6.2.6.7', '1.8.203182757.armeabi-v7a.release', '5.36', '9.7.753080', '10.4', '3.1.0.1126', '1.4.9', '3.5.6', '32.1', '2.1.54', '3.1.00', '1.51', '20180517', '4.0.6', '1.6.11', '2.27.1', '2.5.1.7592', 'v150', '4.20.1', '3.4.500', '3.11.2', '4.78.06', '6.06.14', '4.32.07', '5.0.0.8', '1.0.19', '1.33', '6.1.7.5', '1.17.4', 'v3.9f', '3.6.21_pre', '5.34.10', '1.284.1.83', '5.41.0', '2.6.2.1', '1.284.1.126', '2.5.5.9', '1.8.0.24_180511', '4.12.0.44682', '3.3.a', '2.0.0.39_171124', '1.9.1.180419172630.4a15962', '6.7.25.2018', '2.3.27', '40.0', '6.7.24.2018', '1.9.2.180419172639.dbf3246', '6.6.28', '2.11.5', '1.13', '2.60', '5.7.8', '5.7.6', '2.85', '2.41', '4.0.0.7', '4.8.3', '2.7.2', '6.07', '18.0', '1.9.7.07', '2.32', '2.5.9', '4.8.2.2195', '16.0.10325.20043', '4.6.4', '68.0.3440.91', '2.2.194', '16.0.10325.20059', '0.1.187945513', '16.0.10325.20024', '4.1.4', '4.1.8.2.2', '2.1.5', '1.10.0.33_180403', '3.5.12', '2.2.1B216', '8.0.1.0', '3.2.258b ae1da5165', '4.3.2.0', 'v1.39.3', '5.0.44', '1.7.9', '17.7.20', '12.8.2', '9.3.5776', '5.0.1.11068-production', '2.4.5', '2.5.4', '7.3.30', '11.1.3', '4.2.11', '1.35.2', '13.4', '3.4.4.4-GP', '4.3.19', '12.8.2-pi', '1.07.59', '4.0.7.3', '1.0.167', '1.26.2', '2.30.1', '2.3.3-play', '1.9.1.147.0-google', '4.4.0.4', '2.15.2714', '2.9.9', '4.7', '2.04.2714', '2.10', '2.03.2714', '1.5.3.1807', '1.1.27.477-free', '3.7.1', 'FreeTimeApp-aosp_v3.14_Build-1.0.204367.0.13014', 'Natalia Studio Development', '8.9', '1.3.9', '8.1.2', '1.11.93', '30', '12.2.6.3660', 'v7.0.02.3.0516.1_06_0713', '1.3.6', '7.1.12.12', '5.9.7', '7.1.34.28', '9.9.1.1910', '1.3.A.2.9', '3.18.5', '2.9.10', '1.8.4.5', '8.50.935520', '12.2.7.3671', '4.1.11 - Hegoa', '1.0.34', '3.1.7', 'v1.0.3', '17.6', '1.78', '9.7.6', '1.251.54', '7.10.621414', '1.4.08.2', '2.6.71', '6.5.852058', '1.137.22', '9.51.755029', '4.13.3', '6.2.2.17136', '1.32.1', '6.6.4', '2.71', '5.17', '8.2.9', '5.2.5', '5.8.0', '8.3', '3.1.6.9', '5.2.0', '4.2.2254.129147', '6.7.3', '9.1', '8.0.6', '4.11.0.611033', '18.201.01', '1.9.0', '5.6.40', '3.12.0', '3.0.42', '3.53.2', '4.1.0.72', '3.000.1', '5.38', '4.4.2.19', '2.42.1.9', '6.5.1725', '6.19.5', '3.5.13', '3.4.4', '5.9.1.1347176.a3ca6ab274', '3.19.11', '16.3', '19.2.8', '9.2.3', '5.1.10', '3.1.12', '1.8.7.0', '6.7.15.7', '17.4.11', '4.8.1', '5.7', '3.2.2', '116', '18.0.2', '2.10.06', '04.08.00', '5.1.0 free', '1.39', '7.16.8', '5.44.1', '5.2.10', '5.4 (30)', '4.76', '5.072.1830.2', '9.3.3', '8.10.1', '1.2.1.49', '6.5.2', '8.6', '1.3.13', '5.4.4', '4.0.4', '3.0.11', '0.81 beta', '9.3.6', '3.7.1a', '1.16.2', '1.9.8.0', '1.19.1', '1.0.21', '1.58', '1.0.17.2', '4.5.19', '2.0.3.1', '2.8.0.17', '1.10', '8.0.0', '7.1.1', '4.0.3.5', '2.16.5426', '1.18.2', '1.1.11.11', '4.94.19', '1.05', '15.1.2', '1.5.9', '1.0.17.3905', '0.8.17', '1.5.10', '1.1.7.4', '0.19.13-SPECTRUM', '0.9.10.f96', '27500000', '8.3.4', '4.1.07', '3.2.8', '2.2.3.3', '2.35.8', '7.1.8', '1.7.110758', '2.6.7.487220', '1.7.1.3', '1.52', '4.5.0.10701.GP', '7.7.9', '4.2.133', '1.2.115', '10.23.2-964159b', '1.35', '1.078', '3.0.58', '1.09', '4.9.18', '5.3.5.16', '1.0.988', '17.4.0014017', 'version 0.994', '3.0.0fr', '2.5.1.7594.psb', '1.5.8', '1.4.large', '1.640', '1.91', '1.4.1(0629A)', '3.0.20', '14.6', '2.23', '3.1 Release b2', '2.14', '5055.524.5', '16.7', '1.0-build20170819', 'a.2', '3.5.3', '10.0.3148', '2.5.6.11', '1.11', '2.277.0', '5.26', '2.44', '1.12.5.1', '1.5.1-GP', '2.3.1.8', '1.279.13.98', '3.8.2', '0.4.4', '1.7.2992', '5.9.0', '9.14.1', '9.2.0', '31', '1.8.19106', '4.1.10', '3.0.12', '3.0.57', '1009001', '3.01', '1.53', '5.206', '2.1.0.2173', '1900001', 'v8[1.0.10]', '2.4.8', '3.25.3', '7.46', '2.2.1.3', '1.42', '23.0', '9.55', '1805.0618.1637', '3.6.0.28', '3.5.1.8', '1.2703.273', '4.0.55', '1,01', '2.18', '3.1.0.1-r4', '3.8.8', '3.4', '2.07', '7.0.4', '32', '0.1.22', '1.00.02', '3.42', '15.6', '1.0.28', '1.00.00', '1.0.1.24', '1.80.03', '6.1.7', '1.64', '0.54.2.4', '0.11', '8.3.2', 'v2018.Apr.12.16', 'v2018.May.15.14', '5.0.109', 'H7SubTV0.1_TV0.4', '1.2.A.Exceed.Paid', '1.0.B+.Exceed.Paid', '0.9.3', '4.0.8552', '12', '4', '2.244', '1.0.100rc1.withoutKeysync', '3.4.1', '1.1.2.1', '2.0.13', '3.49.0202', '1.0.2.1', '1.8.3111', '7.3(823181)', '1.10.4', '2.100', '1.6.3', '3.002', '1.1 Build 226', '2.03', '1.22', '1.1.06', 'v2', '1.574', '1.1.52', '1.0.98_ww', '2.31', '12.6', '3.5.02.15', '1.07', '2.1.0.032', '9.5.0', '1.36', '5.9.0.0031', '0.1.5', '1.1.50', '2.40', '10.1.1', '1.0.2-alpha4', '1.5.2.4-23', '1.5.13-3598', '1.06', '1.0.4.3', '8.8', '0.16', '2.15.1.4', '1.1.6.1', '5.1.0', '263.16.29', '3.04', '1.2.6 (94)', '1.1.47', '1.0.24', '1.1.6.6', '1.4.1', '4.2.17', '2.0.40', '4.16.10', '2.8.4', '1.0.3386', '1.1.4.38', '6.1.5', '1.0.144431', '7.5.9', '1.23.0', '1.2.3.4.5', '2.0.0.11', 'v1.0.50', '6', '1.1.0.0402', '1.935', '5.9.4.0', '3.8.5', '1.7.11', '1.6.22', '1.9.1.013', '3.1.50', '2.400.022', '65.0', '4.01.00', '4.54', '1.18', '2.92', '3.11', '1.62', '1.4.7', '1.091', '5', '3.3.8.03082017', '2.29.2', '2.4.0.7', '1.25.0', '2.94', '6.11.4', '1.77', '5.6.2 (US)', '0.1.219', '1.0.208', '1.26', '1.0.6.4', '3.11.0', '02.02.0045', '1.60', '4.2.45', '1.7.6', '1.25', '1.8.7', '4.16', '1.23', '1.21.1', '3.39.0', '3.0.27430.4799', '4.9.0', '1.1.0.0', '2.01', '4.17.82', '1.5.12', '5.1.9', '2.7.0621', '1.0.0.9', 'acremotecontrol18', '1.2.84', '1.0.18', 'v67_slk3.0_20180115_01', '2.1.20180804_01', '0.0.2', '1.3 acremotecontrol', 'airConditionerMaintenance_13112015', 'v1.1072.35.0', '0.8', '3.8.4', '11;11.26', 'acremotecontrol-v7', '1.5.14', '7.1.4', '4.34.0', '3.3.270', '1.0.52', '2.13.2', '25', '5.6.0', '1.1.4.1296', '2.0.1027', '2.0.131112', '1255162018', '1.8.6', 'v1.0', '0.0.3', '2.12.0', '11.0.0', 'v4.29.0.9', '117', '1.8.2.7', '8.3.0', 'cli-6.5.0', 'v2.7.11.6', 'v2.7.10.6', '1.5.1.182070924', '5.3.4', '8.05.18.14250', '2.7.8', '1.3.0.6', '9.0.00', '1.24.1', '5.26.0', '3.1.10', '30.0.0', '2.4.3', '300000.0.95', '300000.0.98', '3.5.1', '300000.0.97', '300000.0.85', '300000.0.91', 'Version 1.20', '300000.0.78', '300000.0.94', '300000.0.80', '300000.0.90', '2.26.5.0', '300000.0.81', '300000.0.79', '300000.0.93', '300000.1.08', '300000.0.96', '300000.0.86', '1.5.062', '300000.0.84', '300000.1.01', '1.5.49', '1.1.9.1', '132', '20', '4.435', '1.2-Release', '0.33', '10001008', '3.4.23', '2.0.949', '1.3.1-lite', '11.04', '0.0.52', 'closed', '1.5.6', '1.10.5', '2.13.0.65', '1.6.3.1', '18060104', '1.0.59', '5.62.1', '1.0.0.0', '2.1.9f0', '0.46.91', '568', '39.231', 'newversion', '5.3.2', '1.0.0.1', '666', '2.0.1.966', '3.4.4.3.3', '3.7.10-0d44b899', '6.0.3', '3.2.3', '5.29.77 Domain 427', '2.6.22', '10.10', '2.1.7.3', '2.9.1', '2.137', '1.0beta', '1.4.5', '1.7.22', '1.54', '2.8.307', '5.0.108', '1.2.2_comAds', '3.4.8', '1.4.3.104', '1.34.1', '2.11', '7.2', '2.8.7.78579', '6.2.6', '1.23.1.2', '1.2.97.3042', '2.29.3118', '1.9.22', '4.0.14', '2.59.8', '1.3.6.4', '1.42.2', '8.0.0130', '1.6.7.1', '1.2.2.0', '13', '3.0.188', '2.003', '1.3.14', '1.0.103', '6.4', '1.0.0.4', '3.30', '1.10.1', '1.0.63', '3.1.6z', '2.1.22', '1.7.0m', '0.5.10011', '1.10.6', '3.1.2b', '3.0.5.2', '3.6.1a', '1.375', '1.2.3.1', '1.1.0.3', '1.5.341', '0.46.0', '1.131.2', '1.12.0.1654', '1.7.5', '4.70.30', '1.2.2.122', '0.8.6', '2.25', 'v3.4.0-3', '5.1.13', '7.8', '20180608', '20180620', '1.0.0.8', '1.11.39', '5.17.2.009', '3.1.0 (build 1210)', '18.6.2', '4.05', 'Z (Special Edition R9)', '1.85', '5.9.006', '1.8.0716', '1.8.0502', '2.47.2', '5.06', '1.35.1', '7.0.0', '1.00.33', '0.8.0', '1.021.10', 'Cow V3.15', '4.2.1.4174', 'Cow V3.11', '7.2.2', '11.17.4.1024', '5.0.0.1442', '5.2.002', '3.4.406', '1.0.136', '1.0.08.73', '0.9.16', '1.0-a22936.127', '3.3.2', '3.0.10', '8.2.0.84', '3.9.4', '3.1.0.2', '2.5.21', '3.6.46', '1.3.9b', '3_1', '1.6(3)-demo', '2.04', '5.0.3', '1.0.142', '1.0.261', '1.0.3.1', '10.6', '2.0.0(9)', '5.805.180306', '4.2.31', '7.9.2.6', '3.0.830', '16.51.1', '9.1.284', '6.0.19', '6.3.4', '1.9.10', '1.6.0.0', '1.0.23', '1.9.6.6', '1.246', '0.1.801', '2.0.38', '2.6.12', '1.48', '0.0.7', '6.3.16', '10.1.0', 'Final', '5.2.4', '2.3.216', '3.15317', '2.3.14', '0.0.5', '1.1.15.12', '1.70', '1.2.14', '1.0.499', '11.1.1.179661', '1.401', '1.00.10', '5.1.6', '5.1.7', '0.0.9', 'v2.0.02_prod', '8.0.1', '1.0.606877', '2.8.3', '3.7.17', '2.42', '250', '2.55', '3.55', '2.22', '3.52.0', 'Arrow-202', '3.1.891', '2.10.7', '1.8.12', '2.5.16.6', '3.1.1281', '1.16.32', '3.2.9', '3.44.1', 'v1.1-20151030', '1.8 P', '0.9.2', '3.44.2', '7.0 RELEASE', '2.2.180712.112152', '4.17.38', '2.7.1', '20.0.0.0', '8.9.2.0.0', '2.6.142', '5.54', '9.2.4', '2.0.10', '3.6.5', '5.0.1.3', '2.5_20', '6.2-pro', '6.2-lite', '6.2-begina', '6.2-sayc', '1.29', '26.1.0.20180713', '1.126', '1.1.10', '1.2.4.69', '1.1.12', '7.4.0', 'v1.3', '1.4.8', '0.4.0', '1.3.34', '2.12.1', '0.0.42', '2.0.160818', '1.5.140718', '1.3.140606', 'BL ONLINE PERSONAL TRAINING 7.9.0', '1.02.01', '10.05', '2.6.150226', '1.38.1', '1.0.46', '1.11.1prod', '1.16.21', '0.8.129', '2.53', 'v1.2', 'v1.1.6', '2.13', '2.0.14.4', '1.0.36', '35.119', '1.3.21', '1.18.35', '5.4.7', '2.22.0', '1.3.20', 'Version 1.3.1', '2.28', '2.5.80', '2.21', '1.0.8.506', 'Rocksteady 1.3', '1.3_4', '1.2016', '26.0', '2.46 Saber', '7.9.0 (5192)', '4.4.14.4487', '8.3.6-e04ac87', '4.4.10', '10.0.3086', '13.3', '5.63.0', '11.1', '1.1.9371', '1.01.03', '2.6.003', '30.0', '2.0.24', '1.11.6', '1.4.0-2', '3.46.5', '3.0.0 By Luccas', '3.0.By.EliteMu', '2.11.7', '1.21', '1.2.21', '0.12', '1.00', '4.6.00', '31.1.4', '1.1.43', 'Version 1.6', '3.61', '2.54.3', '1.0.124', '2.66.5', 'V1.7.6', '1.12.2', 'V2.3', '2.5.18', '2.1.15', '1.1.15205', '2.02', '3.2.6z', '4.2.7', '5.45.0_713', '3.3.6z', '3.3.7z', '3.1.7z', '3.2.2dk', '2.1.18', '7.1.5', '2.19.20180117', '1.2.20180117', '24.0.11', '4.1.2099', '11.15.03', '7.6', '4.8', '5.14.1', 'v1.2.2', '2.1.7', '2.8.216.6-ba', '4.2.0', '3.19.34', '12.0.18071400', '2.0.18.23', '1.31', '1.13.108869', '4.72', '1.0.5.170418-cardspl', '0.1.6', '6.6.3106', 'no_update_signal.2_9_1_arm-x86_64-alpha', '1.998', '1.94', '0.2.7', '1.9.0.110162364', '1.2.0.200', '1.3.3.1', '18.08.05', '4.0.15', '1.2.100', '5.68.1', '2.5.111', '3', '0.9.34', '5.0.1 build 1', '1.98', '7.5.9.1', '5.1.4', '0.2.9.17', '3.1.13', '1.093', '8.4.1', '7.17.2.0', '4.8.18.12', '1.0.10.5', '1.41', '1.200', '1.1.11', '4.19.62', 'opciÃ³n de cerrar', '6.3.5', '4.4.1255', '2.2 Free', '1.0.90', '0.9.0', '6.3.7.1', '2.00.0.3', '0.0.4', '2.26 Build 17', '1.0.180202', '4.6.2201', '6.2.7', '1.0.180206', '106', '1.283.0037', '3.0.18', '102.0.875', '1.15.5', 'v6.6.0', \"1.1 (j'sais pas)\", '1.0.70', '3.15.1', '1.0.9.10', '3.70', '2.4.78-s', '1.042', '3.9.9.2', '1.2.11', '01e', '4.11', '2.3.11', '2.4.43', '12.1', '1.0.4.91', '1.6d', '6.95', '1.8.8.0', '68.0.3440.70', '3.13.2', '6.0.0.12', '7.1.29', '70.0.3512.0', 'fcbd82b2-dd5b-41d2-af62-432271c42921', '8.4.2', '0.0.6', '0.7', '4.7.0 Phoenix', '6.0.0.1775', '41.9', '3.0.2.0', '1.2.392', '3.0.5.0', '1.0.17.0423', '1.28ggl', '1.23.3.75024', '18.6.5', 'v4.30.0.8', 'The CJ Rubric 7.12.0', '1.31.62.109', '5.9.5', '2.0.0 (18.03.01)', '4.3.5', '3.8.0.251918', '5.29.0', '2.47', '2.46', '2.38', '7.4.8', '202', '48', '3.8.10', 'CL Pro for Craigslist - Canada 150', '11', 'Bowser4Craigslist', 'App copyright', 'Copyright', '3.44.0', '3.82', '4.0.13', '1.0.175', 'CL Strength 7.12.1', '4.6.6', '2.0.7.0014', '6.24', '3.3.3', '3.24', '1.16.9', '14.15', '3.0.1805181047', '0.99', '1.25.396', '4.0.01', '0.6.49', '40.10', '2.49', '2.15.2', '2.1.23', '2.3.13', '2.13.11', '18.1.79', '2.7.7', '1.4.1033', '4.2.87', '4.9.940', '3.10', '1.0.13', '4.1.8.1', '1.0.3.8', '7.0.7-qa003-prod', '3.3.003', '0.4.6', '1.18.10', '1.13.0', '3.21', '2.4.7', '6.4.16', '1.14.3', '2.51f', '1.55.4', '4.7.0.KG', '5.4.13', '1.14.00', '5.5.0', '4.6.2100', 'v2.6.0', '3.2.994', '4.7.2', 'Gratis', '1.0.209', '5.3.6.0', '4.84', '0.9.5', '1.82', 'Release 1.0', '1.1.97', '60.0.3112.3046279', 'Y4W-GATE_CS-5.0.0', 'SolarCT 1.9 v', '2014.01', '1.0.95', '4.11.100', '4.13.72', '5.10.1.0', '4.6.68', '4.4.47', '6.5.32-prod', '6.5.82-prod', '5.4.5', '3.0.21', '200', '3000.5.3532', '2.1.0.1108', '3000.5.3548', '2.79', '5.7.1.0', '4.5.5.1-2090AL-REL', '6.0.932740', '7.7', '5.1.14', '8.9.2.pro', '1.3.2.9', '4.38', '2.2.1.0', '2.129.12', '6.8.0', 'KM', '1.0.013', '1.5.2.21', '3.3.99', 'iu4', '2.35.1', '3.3.85 (2)', '11.13.18.05.07.03', '2.5_16', '0.7.9', '1.5_6', 'v6.7.14', '4.4_23', '1.0.', '20180805', '1.2_3', '7.18.0.0', '7.12.0.1', '3.29', '10.0.10', '4.5.6', '2.0.0.0', 'INDIRIMBO V.2014.002', '700', '24.8.1', '2.2.15', '4.1.239', '1.01.00', '1.03.06', '1.122.250.1421', '3.1.46 (CY02)', 'Android 2.1 - 2015', 'Android 3.0 - 2015', 'Android 3.1 - 2015', '3.2.17030601', 'Android 2.0 - 2016', 'Android 3.1 - 2017', '1.0.612933', '5.2.11', '2.00.00', '1.18.34', '2.95', 'v1.0.0-195-gb96d9f2', '1.7.28', '2.1.69', 'Translator 10.9.2', '4.75', '18.06.p03.02', '2.1.10 (49)', '0.6.2', '1.2.0.27', '0.4.1', '1.21.2', '2.9.8.1', '2.14.5e', '1.6.1326', '3.2.7z', '4.6.1', '3.3.3z', '5.11.3.1', '1.3.35.0', '5.11.3', '9.3.52', '20180518-01', '2.8.9.1004', '2.2.13', '2.3.8.6', '1.084', '1.56', '20.0', '1.48.0', '13.0.0', '6.0.8.2.GM', 'Glueboardv.6', 'v1.1.6(201806181)', '2.10.0 Summer', '9.5.8', '6.00', '1.911.1944.4606', '0.1.10.0', 'v3', '7.7.3', '31.11.9.156', '1.2.1009.695', '1.0.0.17', '2.2.0.23', 'v6.1', '18.30.22', '1.193', '1.6.7', '1.13.299', 'DH-Security Camera', '11.7.5', '1.67', '10.5.00', '2.8.26', '1.1.64', '5.42.1', '2.0.1.3', '1.18.4', '1.1.58', '10.1.6', '4.7.4.3869-7b2372c3e', '6.6.8', '1.0.0.5', '1.0.0.22', '1.0.1.8', '2.106.0', '2.0.14', '4.1.23', 'v2017.Dec.01.19', '0.9.9.14', '5.0.45', '0.38.1', '20170828', '5.19', '12.04.18', '1.0.184', '5.03', '4.1.9o', '1.0.81', '2.7.5', '1.1.10a', '3.20.3', '0.3.7', '1.14b', 'HTTPs', '21 - Rel2.0', '3.2.1.258', '0.6.11', '3.9.17', '2.2.2.1', '14.4.4.00', '0.1.27', '1.36.82', '3.12.4', '3.0.17', '2.68.14', '0.21.1', '2.10.1', '1.2.187-83', '67', '2.8.12', '2.2 (Protostar)', '2.7.92', '0.3.1', '1.00.15', 'DPSTATUS1.0.1', '15|06|17', '1.5.10.NA', 'di-v3.4.0.4', '1.1.4g', '0.0.80', '3.2.0.169', '2.2.82', '3.0.1114', '2.05', '2.0.1077', '1.96', 'r2.5.0.3a', 'pb1.0.0.1', '47', '4.11.0', '2.0.180226.1', '3.67', '1.2.0.9', '0.2', '2.983', '6.93', '0.5', '25.7', '3.16', '1.0.56', '3.4.06', '0.20', '1.44', 'V1.0.1', '0.8.2', '0.22', '1.18.8', '10.36', '2.2.927', '3.98', '4.8.7.8', '1.5.9.9', '1.8.0.4', '3.0.0.2071', '1.12.23', '4.0.8', '1.2.2.2', '8.5', '10.012', '11.0.2', '1.4.5.2', '2.6.28', '1.1.2.0', 'R1.4.14.B1.4', '1.27', '17.0', 'V1.0.9', '2.3.26', '1.9.5', '1.002', '39.272.12', 'R1.3.21.3', 'V1.5.3', '2.3.10', '18.1.18164', '2.5.0-prod', '26.1', '69.1', '0.0.0.2', '2.0.402', '1.131', '1.441', 'Human Dx', '1.7.10713 (281)', '1.0.1702140017', '1.0.32.1', '3.9.9', '3.0.6.2', '1.279.13.93', '0.74 11.12.2016', '2018-04-27', '1.0.3-DzMobile', '2018-03', '2.51', '1.22.1', '6.0.0.0', '0.35', '1.9.3097721', '18.0.5.172734', '6.8.1', '0.12.334385', '1.8.91', '1.3.12', '04.00.40', '1.4.10', '2.6.0.125', '2.16.0', '5.27.0.729', '1.7.3b', '3.3.118003', '5.3.3', '3.2.1c', '2.17.1', '1.18.1', '2.3.24', '5.29.02', '33.0', '1.7.8', '9.4.7.6', '17.25.11', '1.10.279.2', '10.0.0', '1.17.0.0', '8.07.021', '3.9.13', '8.3.13.6', '1.278.0037', '0.0.44', 'erie1.3.23.42-release', '1.9.8', '14.01', '1.7.0.00115', '1.0.1.00613', '3.0.0.2927', '1.0.05', '1.0.38', '2.8.3.1', '4541.25.51', 'Build 54', '1.0.1 (1.5.1)', '2.1.0.9', '2.9.19a', '3.0.18 Fundamental', 'Build 12', '4.1806.3', '1.6.07', '2.2.1335', '0.9.1', '1.8 (2014-10-10 11:10:51 +0400)', '10.1.28.560', '3.8.6', '4.1.92', '1.95', '6.08', '1.2.10', '3.33', '5.2.12', '130.48.08', '2.4.3.1523', '8.16g', '3.9.11', '1.40.170809', '0.0.10', '0.62', '1.1.14', '1.173.126', '1.8.8', '5.12.1', '1.26.03', '25072018', '3.45', '3.0.16', '2.3.0 build 180', '1.932', '1.1.1.6', '1.0.141215', '2.19.6', '1.0.6®', '5.30.01', '7.5.3', '2.177.5489', '5.3.9', '1.2.1107', '3.4.20.6 / BuyDRM Labgency 4.8.22 / PED', '4.11.2', '3.6.7z', '1.8.11', '7.0.3', '1.24.09', '1.0.17', '56', '23', '17.05.11', '2.4.1343-prod', '21.54', '5.11.0', '6.3.2', '18.4.0', '1.1.700', '5.13', 'Paid-9.4.1.3', '9.12.6', 'Fennec-52.9.0esr/TorBrowser-7.5-1/Orfox-1.5.4-RC-1', '1.0.612931', '8.1.01', '8.02', '2.72', 'BlueOrange', '0.3', 'v2.7.11.27', '3.5.4', '1.4.83', '314007', '1000000.6', '1.0.3289', '0.6.0', '1.20.3', '2.2.2926', '2.6.4', '0.1.7', '36', 'Pro 1.1.4.1', '2.0.6.4', '1.0.2.9', '1.1.8.2', '5.0.5', '0.6', '3.4.7.2.16', '1.0.612919', '3.3.1-build-02-08-2018-19-release', 'V1-180703', '8.3.3-Google', '4.6.15', '37.0', '1.0.|', '10.7.1388', '9.1.3', '1.2.36', '6.4.7', '2.0.3.53', '1.2.22', 'MONEY', '3.0.1 (70)', '2.10.0', '2.1.223', '2.1.05', '5.600.49', '2.0.11', '1.11.01', '1.2.0.8', '3.07', '6.11', '3.30.4.207', 'F2i', '1.0.01', '4.1.12', '1.64.0.21247', '2.1.080', '2.1.111374', '1.3.3.9', '2.08', '1.0060.b0060', '1.59', '1.1.51', '20.7.9.2', '81', '1.20180531.3', '1.42.180409', '3.24.0', '5.6.14', '7.17.2.3', '18.4.8.0', '1.4.36', '1.6.8', '8.6.2', '1.8.1 (41)', '2.96', '2.001', '2.164.4', '4.5.24', '16.00', '1.0.0.457', '0.5.2 beta', '3.08', '0.59', '8.0.9', 'V4.1.0', '1.4.13', 'v1.9.6 beta 1', '1.0.0.32', '2.5.186032', '0.1.8 beta', '2018.04.02.00', '3.34.0+1702241319.a', '1.0.606863', '1.9.58', '5.2.6', '3.10.43', '23.2.7', '2.52', '176.0.0.29.0', '7.0.4.17908', '24.4', '1.0.0.2', '33.0.0.22.76', '2.2.0717', '7.95', '7.30.005', '2.1.0.0.15734', '3.953', '1.3.11', 'v2.7.11.16', '2018.0.12', '2018.8.1', '2.10.5-prod-release', '4.2.5', '2018.5.25', '4.0.4-R', '060816', '125', '68', '2.0.20', '23.17', '2.0.833.18', '2.0.855.33', '4.6.12c', '14', '4.5.1c', '4.5.3c', '34', '5.33.3669', '4.7.4.18.0621', '0.1.8', '1.2.1.0', '2.01.0.2', '0.90', '9', '20170920', '1.16.33', '14.0.1', '1.73.0', '1.20.22', 'FH CODE 1.0', '1.10.0.0', '1.5.3.20', '1.0.03', '1.9.9.5', '1.4.0.2', '4.7.0.2200000', '1.3.22', '1.8.4.7', '0.0.53', '1.2.5.4-11', '2.2.1.5', '2.0.15', '0.24', '2.1.3181', '3.53', '1.0.7.8', '7.17.2.1', '5.29.23 Domain 253', '0.858', '6.0.18', '8.1.10.41', '9.19.2', '2.27', '17.4', '4.5.9', '4.6.1404', 'v4.30.0.9', '2.1.9f7', 'Android 3.0 - 2017', '3.36', 'Android 2.0 - 2014', '1.0404', '41.0', '2.4.1.485300', '12.2', '3rd Release Aug 2016', '7.3.2', '2.5a', '1.9.19', '8.7', '23.01.1265.0712', '4.0.7.0', '0.15.2', '0.7.1', '4.6.71', '2017.07.24', '1.03.123.0713', '1.0.0.96', '1.022', '15', '1.25.4', '2.8.6', '3.20.001', '1.3.81', '1.74', '1.9.734', '1.72', '6.04', '1.5.447', '1.0.612928', '0.3.4', '2.0.148.0']\n"
          ]
        }
      ]
    },
    {
      "cell_type": "markdown",
      "source": [
        "**4.5.3 - Genres Column Cleaning**"
      ],
      "metadata": {
        "id": "XixpA9onrvIe"
      }
    },
    {
      "cell_type": "code",
      "source": [
        "# Genres column values\n",
        "play_store['Genres'].unique()\n",
        "\n",
        "# as we can see it's general values so no need to change anything "
      ],
      "metadata": {
        "id": "YtEdx-FWtUy3",
        "colab": {
          "base_uri": "https://localhost:8080/"
        },
        "outputId": "16533229-3840-4e4c-8192-529c25f229f6"
      },
      "execution_count": 61,
      "outputs": [
        {
          "output_type": "execute_result",
          "data": {
            "text/plain": [
              "array(['Art & Design', 'Art & Design;Pretend Play',\n",
              "       'Art & Design;Creativity', 'Auto & Vehicles', 'Beauty',\n",
              "       'Books & Reference', 'Business', 'Comics', 'Comics;Creativity',\n",
              "       'Communication', 'Dating', 'Education', 'Education;Creativity',\n",
              "       'Education;Education', 'Education;Action & Adventure',\n",
              "       'Education;Pretend Play', 'Education;Brain Games', 'Entertainment',\n",
              "       'Entertainment;Brain Games', 'Entertainment;Music & Video',\n",
              "       'Events', 'Finance', 'Food & Drink', 'Health & Fitness',\n",
              "       'House & Home', 'Libraries & Demo', 'Lifestyle',\n",
              "       'Lifestyle;Pretend Play', 'Adventure;Action & Adventure', 'Arcade',\n",
              "       'Casual', 'Card', 'Casual;Pretend Play', 'Strategy', 'Action',\n",
              "       'Puzzle', 'Sports', 'Word', 'Racing', 'Casual;Creativity',\n",
              "       'Simulation', 'Adventure', 'Board', 'Trivia', 'Role Playing',\n",
              "       'Simulation;Education', 'Action;Action & Adventure',\n",
              "       'Casual;Brain Games', 'Simulation;Action & Adventure',\n",
              "       'Educational;Creativity', 'Puzzle;Brain Games',\n",
              "       'Educational;Education', 'Card;Brain Games',\n",
              "       'Educational;Brain Games', 'Educational;Pretend Play',\n",
              "       'Casual;Action & Adventure', 'Entertainment;Education',\n",
              "       'Casual;Education', 'Music;Music & Video', 'Arcade;Pretend Play',\n",
              "       'Simulation;Pretend Play', 'Puzzle;Creativity',\n",
              "       'Racing;Action & Adventure', 'Educational;Action & Adventure',\n",
              "       'Arcade;Action & Adventure', 'Entertainment;Action & Adventure',\n",
              "       'Puzzle;Action & Adventure', 'Role Playing;Action & Adventure',\n",
              "       'Strategy;Action & Adventure', 'Music & Audio;Music & Video',\n",
              "       'Health & Fitness;Education', 'Adventure;Education',\n",
              "       'Board;Brain Games', 'Board;Action & Adventure',\n",
              "       'Board;Pretend Play', 'Casual;Music & Video',\n",
              "       'Education;Music & Video', 'Role Playing;Pretend Play',\n",
              "       'Entertainment;Pretend Play', 'Video Players & Editors;Creativity',\n",
              "       'Card;Action & Adventure', 'Medical', 'Social', 'Shopping',\n",
              "       'Photography', 'Travel & Local',\n",
              "       'Travel & Local;Action & Adventure', 'Tools', 'Personalization',\n",
              "       'Productivity', 'Parenting', 'Parenting;Brain Games',\n",
              "       'Parenting;Education', 'Parenting;Music & Video', 'Weather',\n",
              "       'Video Players & Editors', 'News & Magazines', 'Maps & Navigation',\n",
              "       'Health & Fitness;Action & Adventure', 'Music', 'Educational',\n",
              "       'Casino', 'Adventure;Brain Games',\n",
              "       'Video Players & Editors;Music & Video',\n",
              "       'Entertainment;Creativity', 'Sports;Action & Adventure',\n",
              "       'Books & Reference;Education', 'Puzzle;Education',\n",
              "       'Role Playing;Brain Games', 'Strategy;Education',\n",
              "       'Racing;Pretend Play', 'Strategy;Creativity'], dtype=object)"
            ]
          },
          "metadata": {},
          "execution_count": 61
        }
      ]
    },
    {
      "cell_type": "markdown",
      "source": [
        "**4.5.4 - Content_Rating Column Cleaning**"
      ],
      "metadata": {
        "id": "H3yuR_xmul7F"
      }
    },
    {
      "cell_type": "code",
      "source": [
        "# Content_Rating column values\n",
        "play_store['Content_Rating'].unique()\n",
        "\n",
        "# as we can see it's Age category values so no need to change anything "
      ],
      "metadata": {
        "id": "b1UOqDemuPvQ",
        "colab": {
          "base_uri": "https://localhost:8080/"
        },
        "outputId": "3caf151f-61ca-403c-a47d-7bade46196af"
      },
      "execution_count": 32,
      "outputs": [
        {
          "output_type": "execute_result",
          "data": {
            "text/plain": [
              "array(['Everyone', 'Teen', 'Everyone 10+', 'Mature 17+',\n",
              "       'Adults only 18+', 'Unrated'], dtype=object)"
            ]
          },
          "metadata": {},
          "execution_count": 32
        }
      ]
    },
    {
      "cell_type": "markdown",
      "source": [
        "**4.5.5 - Category Column Cleaning**"
      ],
      "metadata": {
        "id": "kpQNkasgvWIM"
      }
    },
    {
      "cell_type": "code",
      "source": [
        "# Category column values\n",
        "play_store['Category'].unique()\n",
        "\n",
        "# as we can see it's Categories of App so no need to change anything "
      ],
      "metadata": {
        "id": "4gzMEnyEvZZJ",
        "colab": {
          "base_uri": "https://localhost:8080/"
        },
        "outputId": "d43b7b70-2a4d-426b-d306-e97a0927075a"
      },
      "execution_count": 62,
      "outputs": [
        {
          "output_type": "execute_result",
          "data": {
            "text/plain": [
              "array(['ART_AND_DESIGN', 'AUTO_AND_VEHICLES', 'BEAUTY',\n",
              "       'BOOKS_AND_REFERENCE', 'BUSINESS', 'COMICS', 'COMMUNICATION',\n",
              "       'DATING', 'EDUCATION', 'ENTERTAINMENT', 'EVENTS', 'FINANCE',\n",
              "       'FOOD_AND_DRINK', 'HEALTH_AND_FITNESS', 'HOUSE_AND_HOME',\n",
              "       'LIBRARIES_AND_DEMO', 'LIFESTYLE', 'GAME', 'FAMILY', 'MEDICAL',\n",
              "       'SOCIAL', 'SHOPPING', 'PHOTOGRAPHY', 'SPORTS', 'TRAVEL_AND_LOCAL',\n",
              "       'TOOLS', 'PERSONALIZATION', 'PRODUCTIVITY', 'PARENTING', 'WEATHER',\n",
              "       'VIDEO_PLAYERS', 'NEWS_AND_MAGAZINES', 'MAPS_AND_NAVIGATION'],\n",
              "      dtype=object)"
            ]
          },
          "metadata": {},
          "execution_count": 62
        }
      ]
    },
    {
      "cell_type": "markdown",
      "source": [
        "**4.5.6 - Last_Updated Column Cleaning**"
      ],
      "metadata": {
        "id": "eiyk95u-wwcD"
      }
    },
    {
      "cell_type": "code",
      "source": [
        "# Last_Updated column values\n",
        "play_store['Last_Updated'].unique()\n",
        "\n",
        "# as we can see it's date of last updated App so no need to change anything "
      ],
      "metadata": {
        "colab": {
          "base_uri": "https://localhost:8080/"
        },
        "id": "EDgaK6H5wyW6",
        "outputId": "2555fa8b-4b64-4cdc-ab51-a48dddfea6b9"
      },
      "execution_count": 34,
      "outputs": [
        {
          "output_type": "execute_result",
          "data": {
            "text/plain": [
              "array(['January 7, 2018', 'January 15, 2018', 'August 1, 2018', ...,\n",
              "       'January 20, 2014', 'February 16, 2014', 'March 23, 2014'],\n",
              "      dtype=object)"
            ]
          },
          "metadata": {},
          "execution_count": 34
        }
      ]
    },
    {
      "cell_type": "markdown",
      "source": [
        "**4.5.7 - Rating Column Cleaning**"
      ],
      "metadata": {
        "id": "KwcufB_CyI_u"
      }
    },
    {
      "cell_type": "code",
      "source": [
        "# Rating column values\n",
        "play_store['Rating'].unique()\n",
        "\n",
        "# as we can see it's Rating given by users of App so no need to change anything "
      ],
      "metadata": {
        "id": "RFU7kc8JyPQJ",
        "colab": {
          "base_uri": "https://localhost:8080/"
        },
        "outputId": "dac4113f-fe9f-4c86-db23-58ca199f3ec1"
      },
      "execution_count": 35,
      "outputs": [
        {
          "output_type": "execute_result",
          "data": {
            "text/plain": [
              "array([4.1, 3.9, 4.7, 4.5, 4.3, 4.4, 3.8, 4.2, 4.6, 3.2, 4. , nan, 4.8,\n",
              "       4.9, 3.6, 3.7, 3.3, 3.4, 3.5, 3.1, 5. , 2.6, 3. , 1.9, 2.5, 2.8,\n",
              "       2.7, 1. , 2.9, 2.3, 2.2, 1.7, 2. , 1.8, 2.4, 1.6, 2.1, 1.4, 1.5,\n",
              "       1.2])"
            ]
          },
          "metadata": {},
          "execution_count": 35
        }
      ]
    },
    {
      "cell_type": "markdown",
      "source": [
        "**4.5.8 - Type Column Cleaning**"
      ],
      "metadata": {
        "id": "EtgNd0LJ0Djo"
      }
    },
    {
      "cell_type": "code",
      "source": [
        "# Type column values\n",
        "play_store['Type'].unique()\n",
        "\n",
        "# as we can see value is wether App is free or paid so no need to change anything "
      ],
      "metadata": {
        "id": "lGjp52Q50IYb",
        "colab": {
          "base_uri": "https://localhost:8080/"
        },
        "outputId": "1f68da17-e32a-4e9b-9d0e-1a98414823d8"
      },
      "execution_count": 63,
      "outputs": [
        {
          "output_type": "execute_result",
          "data": {
            "text/plain": [
              "array(['Free', 'Paid'], dtype=object)"
            ]
          },
          "metadata": {},
          "execution_count": 63
        }
      ]
    },
    {
      "cell_type": "markdown",
      "source": [
        "**4.5.9 - App Column Cleaning**"
      ],
      "metadata": {
        "id": "sB6FJY_904W1"
      }
    },
    {
      "cell_type": "code",
      "source": [
        "# Type column values\n",
        "play_store['App'].unique()"
      ],
      "metadata": {
        "colab": {
          "base_uri": "https://localhost:8080/"
        },
        "id": "4Mo8AcF60-7T",
        "outputId": "b5b6ec7a-69d3-4445-d315-a99a9160ed56"
      },
      "execution_count": 43,
      "outputs": [
        {
          "output_type": "execute_result",
          "data": {
            "text/plain": [
              "array(['Photo Editor & Candy Camera & Grid & ScrapBook',\n",
              "       'Coloring book moana',\n",
              "       'U Launcher Lite – FREE Live Cool Themes, Hide Apps', ...,\n",
              "       'Parkinson Exercices FR', 'The SCP Foundation DB fr nn5n',\n",
              "       'iHoroscope - 2018 Daily Horoscope & Astrology'], dtype=object)"
            ]
          },
          "metadata": {},
          "execution_count": 43
        }
      ]
    },
    {
      "cell_type": "code",
      "source": [
        "# there are so many unique values are there it might consists duplicate values let check it and remove if needed. \n",
        "boolean = play_store['App'].duplicated()\n",
        "boolean.sum()"
      ],
      "metadata": {
        "colab": {
          "base_uri": "https://localhost:8080/"
        },
        "id": "zYV4CZ7mba3p",
        "outputId": "f6361c20-8e97-4523-96df-0266b40f0bce"
      },
      "execution_count": 44,
      "outputs": [
        {
          "output_type": "execute_result",
          "data": {
            "text/plain": [
              "1181"
            ]
          },
          "metadata": {},
          "execution_count": 44
        }
      ]
    },
    {
      "cell_type": "code",
      "source": [
        "# we'll see number of unique value repeats\n",
        "play_store['App'].value_counts()"
      ],
      "metadata": {
        "colab": {
          "base_uri": "https://localhost:8080/"
        },
        "id": "LmDJqcjvdDRq",
        "outputId": "26ef9294-c965-4b2f-af07-ce1d2235409c"
      },
      "execution_count": 46,
      "outputs": [
        {
          "output_type": "execute_result",
          "data": {
            "text/plain": [
              "ROBLOX                                                9\n",
              "CBS Sports App - Scores, News, Stats & Watch Live     8\n",
              "ESPN                                                  7\n",
              "Duolingo: Learn Languages Free                        7\n",
              "Candy Crush Saga                                      7\n",
              "                                                     ..\n",
              "Meet U - Get Friends for Snapchat, Kik & Instagram    1\n",
              "U-Report                                              1\n",
              "U of I Community Credit Union                         1\n",
              "Waiting For U Launcher Theme                          1\n",
              "iHoroscope - 2018 Daily Horoscope & Astrology         1\n",
              "Name: App, Length: 9659, dtype: int64"
            ]
          },
          "metadata": {},
          "execution_count": 46
        }
      ]
    },
    {
      "cell_type": "code",
      "source": [
        "# as we know application should have 1 row data but here some value has multiple name rows. now we have to check 'ROBLOX' and it's repeated rows to decide wether have to drop or not.\n",
        "play_store[play_store['App'] == 'ROBLOX']  \n",
        "\n",
        "# as per result 'ROBLOX' has 9 duplicates value and evry column has same data value except Reviews column so we assume that last updated review is maximum value so we will keep max. review and drop rest. "
      ],
      "metadata": {
        "colab": {
          "base_uri": "https://localhost:8080/",
          "height": 332
        },
        "id": "J2B_HCvQd7Pl",
        "outputId": "faf46baf-4e14-4766-df05-7de717e8b75a"
      },
      "execution_count": 47,
      "outputs": [
        {
          "output_type": "execute_result",
          "data": {
            "text/plain": [
              "         App Category  Rating  Reviews  Size   Installs  Type  Price  \\\n",
              "1653  ROBLOX     GAME     4.5  4447388  67.0  100000000  Free    0.0   \n",
              "1701  ROBLOX     GAME     4.5  4447346  67.0  100000000  Free    0.0   \n",
              "1748  ROBLOX     GAME     4.5  4448791  67.0  100000000  Free    0.0   \n",
              "1841  ROBLOX     GAME     4.5  4449882  67.0  100000000  Free    0.0   \n",
              "1870  ROBLOX     GAME     4.5  4449910  67.0  100000000  Free    0.0   \n",
              "2016  ROBLOX   FAMILY     4.5  4449910  67.0  100000000  Free    0.0   \n",
              "2088  ROBLOX   FAMILY     4.5  4450855  67.0  100000000  Free    0.0   \n",
              "2206  ROBLOX   FAMILY     4.5  4450890  67.0  100000000  Free    0.0   \n",
              "4527  ROBLOX   FAMILY     4.5  4443407  67.0  100000000  Free    0.0   \n",
              "\n",
              "     Content_Rating                        Genres   Last_Updated  \\\n",
              "1653   Everyone 10+  Adventure;Action & Adventure  July 31, 2018   \n",
              "1701   Everyone 10+  Adventure;Action & Adventure  July 31, 2018   \n",
              "1748   Everyone 10+  Adventure;Action & Adventure  July 31, 2018   \n",
              "1841   Everyone 10+  Adventure;Action & Adventure  July 31, 2018   \n",
              "1870   Everyone 10+  Adventure;Action & Adventure  July 31, 2018   \n",
              "2016   Everyone 10+  Adventure;Action & Adventure  July 31, 2018   \n",
              "2088   Everyone 10+  Adventure;Action & Adventure  July 31, 2018   \n",
              "2206   Everyone 10+  Adventure;Action & Adventure  July 31, 2018   \n",
              "4527   Everyone 10+  Adventure;Action & Adventure  July 31, 2018   \n",
              "\n",
              "       Current_Ver Android_Ver  \n",
              "1653  2.347.225742  4.1 and up  \n",
              "1701  2.347.225742  4.1 and up  \n",
              "1748  2.347.225742  4.1 and up  \n",
              "1841  2.347.225742  4.1 and up  \n",
              "1870  2.347.225742  4.1 and up  \n",
              "2016  2.347.225742  4.1 and up  \n",
              "2088  2.347.225742  4.1 and up  \n",
              "2206  2.347.225742  4.1 and up  \n",
              "4527  2.347.225742  4.1 and up  "
            ],
            "text/html": [
              "\n",
              "  <div id=\"df-432d7179-4c97-4204-ac79-1aaedd64217b\">\n",
              "    <div class=\"colab-df-container\">\n",
              "      <div>\n",
              "<style scoped>\n",
              "    .dataframe tbody tr th:only-of-type {\n",
              "        vertical-align: middle;\n",
              "    }\n",
              "\n",
              "    .dataframe tbody tr th {\n",
              "        vertical-align: top;\n",
              "    }\n",
              "\n",
              "    .dataframe thead th {\n",
              "        text-align: right;\n",
              "    }\n",
              "</style>\n",
              "<table border=\"1\" class=\"dataframe\">\n",
              "  <thead>\n",
              "    <tr style=\"text-align: right;\">\n",
              "      <th></th>\n",
              "      <th>App</th>\n",
              "      <th>Category</th>\n",
              "      <th>Rating</th>\n",
              "      <th>Reviews</th>\n",
              "      <th>Size</th>\n",
              "      <th>Installs</th>\n",
              "      <th>Type</th>\n",
              "      <th>Price</th>\n",
              "      <th>Content_Rating</th>\n",
              "      <th>Genres</th>\n",
              "      <th>Last_Updated</th>\n",
              "      <th>Current_Ver</th>\n",
              "      <th>Android_Ver</th>\n",
              "    </tr>\n",
              "  </thead>\n",
              "  <tbody>\n",
              "    <tr>\n",
              "      <th>1653</th>\n",
              "      <td>ROBLOX</td>\n",
              "      <td>GAME</td>\n",
              "      <td>4.5</td>\n",
              "      <td>4447388</td>\n",
              "      <td>67.0</td>\n",
              "      <td>100000000</td>\n",
              "      <td>Free</td>\n",
              "      <td>0.0</td>\n",
              "      <td>Everyone 10+</td>\n",
              "      <td>Adventure;Action &amp; Adventure</td>\n",
              "      <td>July 31, 2018</td>\n",
              "      <td>2.347.225742</td>\n",
              "      <td>4.1 and up</td>\n",
              "    </tr>\n",
              "    <tr>\n",
              "      <th>1701</th>\n",
              "      <td>ROBLOX</td>\n",
              "      <td>GAME</td>\n",
              "      <td>4.5</td>\n",
              "      <td>4447346</td>\n",
              "      <td>67.0</td>\n",
              "      <td>100000000</td>\n",
              "      <td>Free</td>\n",
              "      <td>0.0</td>\n",
              "      <td>Everyone 10+</td>\n",
              "      <td>Adventure;Action &amp; Adventure</td>\n",
              "      <td>July 31, 2018</td>\n",
              "      <td>2.347.225742</td>\n",
              "      <td>4.1 and up</td>\n",
              "    </tr>\n",
              "    <tr>\n",
              "      <th>1748</th>\n",
              "      <td>ROBLOX</td>\n",
              "      <td>GAME</td>\n",
              "      <td>4.5</td>\n",
              "      <td>4448791</td>\n",
              "      <td>67.0</td>\n",
              "      <td>100000000</td>\n",
              "      <td>Free</td>\n",
              "      <td>0.0</td>\n",
              "      <td>Everyone 10+</td>\n",
              "      <td>Adventure;Action &amp; Adventure</td>\n",
              "      <td>July 31, 2018</td>\n",
              "      <td>2.347.225742</td>\n",
              "      <td>4.1 and up</td>\n",
              "    </tr>\n",
              "    <tr>\n",
              "      <th>1841</th>\n",
              "      <td>ROBLOX</td>\n",
              "      <td>GAME</td>\n",
              "      <td>4.5</td>\n",
              "      <td>4449882</td>\n",
              "      <td>67.0</td>\n",
              "      <td>100000000</td>\n",
              "      <td>Free</td>\n",
              "      <td>0.0</td>\n",
              "      <td>Everyone 10+</td>\n",
              "      <td>Adventure;Action &amp; Adventure</td>\n",
              "      <td>July 31, 2018</td>\n",
              "      <td>2.347.225742</td>\n",
              "      <td>4.1 and up</td>\n",
              "    </tr>\n",
              "    <tr>\n",
              "      <th>1870</th>\n",
              "      <td>ROBLOX</td>\n",
              "      <td>GAME</td>\n",
              "      <td>4.5</td>\n",
              "      <td>4449910</td>\n",
              "      <td>67.0</td>\n",
              "      <td>100000000</td>\n",
              "      <td>Free</td>\n",
              "      <td>0.0</td>\n",
              "      <td>Everyone 10+</td>\n",
              "      <td>Adventure;Action &amp; Adventure</td>\n",
              "      <td>July 31, 2018</td>\n",
              "      <td>2.347.225742</td>\n",
              "      <td>4.1 and up</td>\n",
              "    </tr>\n",
              "    <tr>\n",
              "      <th>2016</th>\n",
              "      <td>ROBLOX</td>\n",
              "      <td>FAMILY</td>\n",
              "      <td>4.5</td>\n",
              "      <td>4449910</td>\n",
              "      <td>67.0</td>\n",
              "      <td>100000000</td>\n",
              "      <td>Free</td>\n",
              "      <td>0.0</td>\n",
              "      <td>Everyone 10+</td>\n",
              "      <td>Adventure;Action &amp; Adventure</td>\n",
              "      <td>July 31, 2018</td>\n",
              "      <td>2.347.225742</td>\n",
              "      <td>4.1 and up</td>\n",
              "    </tr>\n",
              "    <tr>\n",
              "      <th>2088</th>\n",
              "      <td>ROBLOX</td>\n",
              "      <td>FAMILY</td>\n",
              "      <td>4.5</td>\n",
              "      <td>4450855</td>\n",
              "      <td>67.0</td>\n",
              "      <td>100000000</td>\n",
              "      <td>Free</td>\n",
              "      <td>0.0</td>\n",
              "      <td>Everyone 10+</td>\n",
              "      <td>Adventure;Action &amp; Adventure</td>\n",
              "      <td>July 31, 2018</td>\n",
              "      <td>2.347.225742</td>\n",
              "      <td>4.1 and up</td>\n",
              "    </tr>\n",
              "    <tr>\n",
              "      <th>2206</th>\n",
              "      <td>ROBLOX</td>\n",
              "      <td>FAMILY</td>\n",
              "      <td>4.5</td>\n",
              "      <td>4450890</td>\n",
              "      <td>67.0</td>\n",
              "      <td>100000000</td>\n",
              "      <td>Free</td>\n",
              "      <td>0.0</td>\n",
              "      <td>Everyone 10+</td>\n",
              "      <td>Adventure;Action &amp; Adventure</td>\n",
              "      <td>July 31, 2018</td>\n",
              "      <td>2.347.225742</td>\n",
              "      <td>4.1 and up</td>\n",
              "    </tr>\n",
              "    <tr>\n",
              "      <th>4527</th>\n",
              "      <td>ROBLOX</td>\n",
              "      <td>FAMILY</td>\n",
              "      <td>4.5</td>\n",
              "      <td>4443407</td>\n",
              "      <td>67.0</td>\n",
              "      <td>100000000</td>\n",
              "      <td>Free</td>\n",
              "      <td>0.0</td>\n",
              "      <td>Everyone 10+</td>\n",
              "      <td>Adventure;Action &amp; Adventure</td>\n",
              "      <td>July 31, 2018</td>\n",
              "      <td>2.347.225742</td>\n",
              "      <td>4.1 and up</td>\n",
              "    </tr>\n",
              "  </tbody>\n",
              "</table>\n",
              "</div>\n",
              "      <button class=\"colab-df-convert\" onclick=\"convertToInteractive('df-432d7179-4c97-4204-ac79-1aaedd64217b')\"\n",
              "              title=\"Convert this dataframe to an interactive table.\"\n",
              "              style=\"display:none;\">\n",
              "        \n",
              "  <svg xmlns=\"http://www.w3.org/2000/svg\" height=\"24px\"viewBox=\"0 0 24 24\"\n",
              "       width=\"24px\">\n",
              "    <path d=\"M0 0h24v24H0V0z\" fill=\"none\"/>\n",
              "    <path d=\"M18.56 5.44l.94 2.06.94-2.06 2.06-.94-2.06-.94-.94-2.06-.94 2.06-2.06.94zm-11 1L8.5 8.5l.94-2.06 2.06-.94-2.06-.94L8.5 2.5l-.94 2.06-2.06.94zm10 10l.94 2.06.94-2.06 2.06-.94-2.06-.94-.94-2.06-.94 2.06-2.06.94z\"/><path d=\"M17.41 7.96l-1.37-1.37c-.4-.4-.92-.59-1.43-.59-.52 0-1.04.2-1.43.59L10.3 9.45l-7.72 7.72c-.78.78-.78 2.05 0 2.83L4 21.41c.39.39.9.59 1.41.59.51 0 1.02-.2 1.41-.59l7.78-7.78 2.81-2.81c.8-.78.8-2.07 0-2.86zM5.41 20L4 18.59l7.72-7.72 1.47 1.35L5.41 20z\"/>\n",
              "  </svg>\n",
              "      </button>\n",
              "      \n",
              "  <style>\n",
              "    .colab-df-container {\n",
              "      display:flex;\n",
              "      flex-wrap:wrap;\n",
              "      gap: 12px;\n",
              "    }\n",
              "\n",
              "    .colab-df-convert {\n",
              "      background-color: #E8F0FE;\n",
              "      border: none;\n",
              "      border-radius: 50%;\n",
              "      cursor: pointer;\n",
              "      display: none;\n",
              "      fill: #1967D2;\n",
              "      height: 32px;\n",
              "      padding: 0 0 0 0;\n",
              "      width: 32px;\n",
              "    }\n",
              "\n",
              "    .colab-df-convert:hover {\n",
              "      background-color: #E2EBFA;\n",
              "      box-shadow: 0px 1px 2px rgba(60, 64, 67, 0.3), 0px 1px 3px 1px rgba(60, 64, 67, 0.15);\n",
              "      fill: #174EA6;\n",
              "    }\n",
              "\n",
              "    [theme=dark] .colab-df-convert {\n",
              "      background-color: #3B4455;\n",
              "      fill: #D2E3FC;\n",
              "    }\n",
              "\n",
              "    [theme=dark] .colab-df-convert:hover {\n",
              "      background-color: #434B5C;\n",
              "      box-shadow: 0px 1px 3px 1px rgba(0, 0, 0, 0.15);\n",
              "      filter: drop-shadow(0px 1px 2px rgba(0, 0, 0, 0.3));\n",
              "      fill: #FFFFFF;\n",
              "    }\n",
              "  </style>\n",
              "\n",
              "      <script>\n",
              "        const buttonEl =\n",
              "          document.querySelector('#df-432d7179-4c97-4204-ac79-1aaedd64217b button.colab-df-convert');\n",
              "        buttonEl.style.display =\n",
              "          google.colab.kernel.accessAllowed ? 'block' : 'none';\n",
              "\n",
              "        async function convertToInteractive(key) {\n",
              "          const element = document.querySelector('#df-432d7179-4c97-4204-ac79-1aaedd64217b');\n",
              "          const dataTable =\n",
              "            await google.colab.kernel.invokeFunction('convertToInteractive',\n",
              "                                                     [key], {});\n",
              "          if (!dataTable) return;\n",
              "\n",
              "          const docLinkHtml = 'Like what you see? Visit the ' +\n",
              "            '<a target=\"_blank\" href=https://colab.research.google.com/notebooks/data_table.ipynb>data table notebook</a>'\n",
              "            + ' to learn more about interactive tables.';\n",
              "          element.innerHTML = '';\n",
              "          dataTable['output_type'] = 'display_data';\n",
              "          await google.colab.output.renderOutput(dataTable, element);\n",
              "          const docLink = document.createElement('div');\n",
              "          docLink.innerHTML = docLinkHtml;\n",
              "          element.appendChild(docLink);\n",
              "        }\n",
              "      </script>\n",
              "    </div>\n",
              "  </div>\n",
              "  "
            ]
          },
          "metadata": {},
          "execution_count": 47
        }
      ]
    },
    {
      "cell_type": "markdown",
      "source": [
        "**4.5.10 - Dropping NaN values from whole dataset**"
      ],
      "metadata": {
        "id": "D9podmOxkzM2"
      }
    },
    {
      "cell_type": "code",
      "source": [
        "# dropping duplicates\n",
        "play_store.drop_duplicates(inplace=True)\n",
        "\n",
        "NaN_Checker = pd.DataFrame({\"Total Values\": play_store.shape[0] , \"No of NaN values\":play_store.isnull().sum() })\n",
        "NaN_Checker.sort_values(\"No of NaN values\" , ascending = False)"
      ],
      "metadata": {
        "id": "BmDrFyeslFis"
      },
      "execution_count": null,
      "outputs": []
    },
    {
      "cell_type": "code",
      "source": [
        "print(\"Before dropping the NaN values shape was :- \",play_store.shape)\n",
        "play_store.dropna( inplace = True )\n",
        "print(\"After dropping the NaN values shape is :- \",play_store.shape)"
      ],
      "metadata": {
        "colab": {
          "base_uri": "https://localhost:8080/"
        },
        "id": "FDA1VJ8Hn-9R",
        "outputId": "ead4d2ea-f34f-4c94-e410-15776715db2a"
      },
      "execution_count": 54,
      "outputs": [
        {
          "output_type": "stream",
          "name": "stdout",
          "text": [
            "Before dropping the NaN values shape was :-  (10357, 13)\n",
            "After dropping the NaN values shape is :-  (7418, 13)\n"
          ]
        }
      ]
    },
    {
      "cell_type": "code",
      "source": [
        "play_store.info()"
      ],
      "metadata": {
        "id": "rQPF--hAw3n1"
      },
      "execution_count": null,
      "outputs": []
    },
    {
      "cell_type": "markdown",
      "source": [
        "#4.6 - Points To Be Remember"
      ],
      "metadata": {
        "id": "1kXJZDdesVZ2"
      }
    },
    {
      "cell_type": "code",
      "source": [
        "# Install column - total installed of application.\n",
        "\n",
        "# Price column - price value is in dollar($).\n",
        "\n",
        "# Reviews column - total reviews made by reviewer of application\n",
        "\n",
        "# Size column - size of application which is in 'MB'\n",
        "\n",
        "# Android_Ver column - compatible version of application for android device\n",
        "\n",
        "# Current_Ver column - Latest version of application\n",
        "\n",
        "# Genres column - Category and area of that application\n",
        "\n",
        "# Content_Rating column - Age restriction for application installs\n",
        "\n",
        "# category column - main area of application\n",
        "\n",
        "# Last_Update column - when last time application updated or review given\n",
        "\n",
        "# Rating column - rating given by user to an application\n",
        "\n",
        "# type column - it describe wether application is free or paid\n",
        "\n",
        "# App column - App contains name of application and what about the application"
      ],
      "metadata": {
        "id": "R7XBpyvzswSH"
      },
      "execution_count": null,
      "outputs": []
    },
    {
      "cell_type": "markdown",
      "source": [
        "# **5) DATA OPERATIONS AND  VISUALIZATION**"
      ],
      "metadata": {
        "id": "3SED4sVspa3N"
      }
    },
    {
      "cell_type": "markdown",
      "source": [
        "# **Now we will analyse the following questions and do data visualization on them**\n",
        "\n",
        "\n",
        "*   find the category of evey application and count how many application of same category.\n",
        "*   find the top 10 record of Rating above 4 and top 10 lowest Rating equals to \n",
        "\n",
        "*   15 Most reviewed applications list.\n",
        "*   apllications which has highest downloads and category of them.\n",
        "\n",
        "\n",
        "*   number of free and expensive application downloaded by users. \n",
        "*   \n",
        "\n",
        "\n",
        "\n",
        "\n",
        "\n"
      ],
      "metadata": {
        "id": "BvTL2GGYnZYU"
      }
    }
  ]
}