{
  "nbformat": 4,
  "nbformat_minor": 0,
  "metadata": {
    "colab": {
      "provenance": [],
      "collapsed_sections": [
        "_7J70L7WKhL7",
        "jqLrCJntKu_1",
        "QVu2kmxd7BGn",
        "vw42xryhOZ_v",
        "qNVU7JoCTS5l",
        "yrLy-Lepoys1",
        "ZwG0ts_RnSum",
        "ix4H8NTnAjHV"
      ],
      "mount_file_id": "1UcO6tzWvRb4H9ovTuOKI4tdZr9rYgUxq",
      "authorship_tag": "ABX9TyMUjOvYxnM0Z6pwe62vUVl7",
      "include_colab_link": true
    },
    "kernelspec": {
      "name": "python3",
      "display_name": "Python 3"
    },
    "language_info": {
      "name": "python"
    }
  },
  "cells": [
    {
      "cell_type": "markdown",
      "metadata": {
        "id": "view-in-github",
        "colab_type": "text"
      },
      "source": [
        "<a href=\"https://colab.research.google.com/github/kuldip-datascience/Play_store_eda/blob/main/Kuldip_parmar.ipynb\" target=\"_parent\"><img src=\"https://colab.research.google.com/assets/colab-badge.svg\" alt=\"Open In Colab\"/></a>"
      ]
    },
    {
      "cell_type": "markdown",
      "source": [
        "# **1) IMPORTED LIBRARIES**"
      ],
      "metadata": {
        "id": "_7J70L7WKhL7"
      }
    },
    {
      "cell_type": "code",
      "execution_count": 132,
      "metadata": {
        "id": "IK3VwtSR6x_u"
      },
      "outputs": [],
      "source": [
        "import pandas as pd\n",
        "import numpy as np"
      ]
    },
    {
      "cell_type": "markdown",
      "source": [
        "# **2) LOAD DATASET INTO PANDAS**"
      ],
      "metadata": {
        "id": "jqLrCJntKu_1"
      }
    },
    {
      "cell_type": "code",
      "source": [
        "play_store=pd.read_csv('/content/drive/MyDrive/Capstone Projects/play-store review/Copy of Play Store Data.csv')"
      ],
      "metadata": {
        "id": "-hDuNoIFK4YH"
      },
      "execution_count": 133,
      "outputs": []
    },
    {
      "cell_type": "markdown",
      "source": [
        "# **3) ANALYSIS OF DATASET**\n",
        "\n"
      ],
      "metadata": {
        "id": "QVu2kmxd7BGn"
      }
    },
    {
      "cell_type": "markdown",
      "source": [
        "**3.1 - We will understand first the columns and rows and the information associated within.**"
      ],
      "metadata": {
        "id": "0G9d7G0CKWi3"
      }
    },
    {
      "cell_type": "code",
      "source": [
        "# now we check the complete dataset\n",
        "play_store.head().T"
      ],
      "metadata": {
        "id": "pu-SUcb8_lel",
        "colab": {
          "base_uri": "https://localhost:8080/",
          "height": 457
        },
        "outputId": "7679f718-a50c-46af-ade7-40b374a87ae6"
      },
      "execution_count": 134,
      "outputs": [
        {
          "output_type": "execute_result",
          "data": {
            "text/plain": [
              "                                                             0  \\\n",
              "App             Photo Editor & Candy Camera & Grid & ScrapBook   \n",
              "Category                                        ART_AND_DESIGN   \n",
              "Rating                                                     4.1   \n",
              "Reviews                                                    159   \n",
              "Size                                                       19M   \n",
              "Installs                                               10,000+   \n",
              "Type                                                      Free   \n",
              "Price                                                        0   \n",
              "Content Rating                                        Everyone   \n",
              "Genres                                            Art & Design   \n",
              "Last Updated                                   January 7, 2018   \n",
              "Current Ver                                              1.0.0   \n",
              "Android Ver                                       4.0.3 and up   \n",
              "\n",
              "                                        1  \\\n",
              "App                   Coloring book moana   \n",
              "Category                   ART_AND_DESIGN   \n",
              "Rating                                3.9   \n",
              "Reviews                               967   \n",
              "Size                                  14M   \n",
              "Installs                         500,000+   \n",
              "Type                                 Free   \n",
              "Price                                   0   \n",
              "Content Rating                   Everyone   \n",
              "Genres          Art & Design;Pretend Play   \n",
              "Last Updated             January 15, 2018   \n",
              "Current Ver                         2.0.0   \n",
              "Android Ver                  4.0.3 and up   \n",
              "\n",
              "                                                                2  \\\n",
              "App             U Launcher Lite – FREE Live Cool Themes, Hide ...   \n",
              "Category                                           ART_AND_DESIGN   \n",
              "Rating                                                        4.7   \n",
              "Reviews                                                     87510   \n",
              "Size                                                         8.7M   \n",
              "Installs                                               5,000,000+   \n",
              "Type                                                         Free   \n",
              "Price                                                           0   \n",
              "Content Rating                                           Everyone   \n",
              "Genres                                               Art & Design   \n",
              "Last Updated                                       August 1, 2018   \n",
              "Current Ver                                                 1.2.4   \n",
              "Android Ver                                          4.0.3 and up   \n",
              "\n",
              "                                    3                                      4  \n",
              "App             Sketch - Draw & Paint  Pixel Draw - Number Art Coloring Book  \n",
              "Category               ART_AND_DESIGN                         ART_AND_DESIGN  \n",
              "Rating                            4.5                                    4.3  \n",
              "Reviews                        215644                                    967  \n",
              "Size                              25M                                   2.8M  \n",
              "Installs                  50,000,000+                               100,000+  \n",
              "Type                             Free                                   Free  \n",
              "Price                               0                                      0  \n",
              "Content Rating                   Teen                               Everyone  \n",
              "Genres                   Art & Design                Art & Design;Creativity  \n",
              "Last Updated             June 8, 2018                          June 20, 2018  \n",
              "Current Ver        Varies with device                                    1.1  \n",
              "Android Ver                4.2 and up                             4.4 and up  "
            ],
            "text/html": [
              "\n",
              "  <div id=\"df-fb750fe9-771d-4ab8-91aa-f7f8b6915b1a\">\n",
              "    <div class=\"colab-df-container\">\n",
              "      <div>\n",
              "<style scoped>\n",
              "    .dataframe tbody tr th:only-of-type {\n",
              "        vertical-align: middle;\n",
              "    }\n",
              "\n",
              "    .dataframe tbody tr th {\n",
              "        vertical-align: top;\n",
              "    }\n",
              "\n",
              "    .dataframe thead th {\n",
              "        text-align: right;\n",
              "    }\n",
              "</style>\n",
              "<table border=\"1\" class=\"dataframe\">\n",
              "  <thead>\n",
              "    <tr style=\"text-align: right;\">\n",
              "      <th></th>\n",
              "      <th>0</th>\n",
              "      <th>1</th>\n",
              "      <th>2</th>\n",
              "      <th>3</th>\n",
              "      <th>4</th>\n",
              "    </tr>\n",
              "  </thead>\n",
              "  <tbody>\n",
              "    <tr>\n",
              "      <th>App</th>\n",
              "      <td>Photo Editor &amp; Candy Camera &amp; Grid &amp; ScrapBook</td>\n",
              "      <td>Coloring book moana</td>\n",
              "      <td>U Launcher Lite – FREE Live Cool Themes, Hide ...</td>\n",
              "      <td>Sketch - Draw &amp; Paint</td>\n",
              "      <td>Pixel Draw - Number Art Coloring Book</td>\n",
              "    </tr>\n",
              "    <tr>\n",
              "      <th>Category</th>\n",
              "      <td>ART_AND_DESIGN</td>\n",
              "      <td>ART_AND_DESIGN</td>\n",
              "      <td>ART_AND_DESIGN</td>\n",
              "      <td>ART_AND_DESIGN</td>\n",
              "      <td>ART_AND_DESIGN</td>\n",
              "    </tr>\n",
              "    <tr>\n",
              "      <th>Rating</th>\n",
              "      <td>4.1</td>\n",
              "      <td>3.9</td>\n",
              "      <td>4.7</td>\n",
              "      <td>4.5</td>\n",
              "      <td>4.3</td>\n",
              "    </tr>\n",
              "    <tr>\n",
              "      <th>Reviews</th>\n",
              "      <td>159</td>\n",
              "      <td>967</td>\n",
              "      <td>87510</td>\n",
              "      <td>215644</td>\n",
              "      <td>967</td>\n",
              "    </tr>\n",
              "    <tr>\n",
              "      <th>Size</th>\n",
              "      <td>19M</td>\n",
              "      <td>14M</td>\n",
              "      <td>8.7M</td>\n",
              "      <td>25M</td>\n",
              "      <td>2.8M</td>\n",
              "    </tr>\n",
              "    <tr>\n",
              "      <th>Installs</th>\n",
              "      <td>10,000+</td>\n",
              "      <td>500,000+</td>\n",
              "      <td>5,000,000+</td>\n",
              "      <td>50,000,000+</td>\n",
              "      <td>100,000+</td>\n",
              "    </tr>\n",
              "    <tr>\n",
              "      <th>Type</th>\n",
              "      <td>Free</td>\n",
              "      <td>Free</td>\n",
              "      <td>Free</td>\n",
              "      <td>Free</td>\n",
              "      <td>Free</td>\n",
              "    </tr>\n",
              "    <tr>\n",
              "      <th>Price</th>\n",
              "      <td>0</td>\n",
              "      <td>0</td>\n",
              "      <td>0</td>\n",
              "      <td>0</td>\n",
              "      <td>0</td>\n",
              "    </tr>\n",
              "    <tr>\n",
              "      <th>Content Rating</th>\n",
              "      <td>Everyone</td>\n",
              "      <td>Everyone</td>\n",
              "      <td>Everyone</td>\n",
              "      <td>Teen</td>\n",
              "      <td>Everyone</td>\n",
              "    </tr>\n",
              "    <tr>\n",
              "      <th>Genres</th>\n",
              "      <td>Art &amp; Design</td>\n",
              "      <td>Art &amp; Design;Pretend Play</td>\n",
              "      <td>Art &amp; Design</td>\n",
              "      <td>Art &amp; Design</td>\n",
              "      <td>Art &amp; Design;Creativity</td>\n",
              "    </tr>\n",
              "    <tr>\n",
              "      <th>Last Updated</th>\n",
              "      <td>January 7, 2018</td>\n",
              "      <td>January 15, 2018</td>\n",
              "      <td>August 1, 2018</td>\n",
              "      <td>June 8, 2018</td>\n",
              "      <td>June 20, 2018</td>\n",
              "    </tr>\n",
              "    <tr>\n",
              "      <th>Current Ver</th>\n",
              "      <td>1.0.0</td>\n",
              "      <td>2.0.0</td>\n",
              "      <td>1.2.4</td>\n",
              "      <td>Varies with device</td>\n",
              "      <td>1.1</td>\n",
              "    </tr>\n",
              "    <tr>\n",
              "      <th>Android Ver</th>\n",
              "      <td>4.0.3 and up</td>\n",
              "      <td>4.0.3 and up</td>\n",
              "      <td>4.0.3 and up</td>\n",
              "      <td>4.2 and up</td>\n",
              "      <td>4.4 and up</td>\n",
              "    </tr>\n",
              "  </tbody>\n",
              "</table>\n",
              "</div>\n",
              "      <button class=\"colab-df-convert\" onclick=\"convertToInteractive('df-fb750fe9-771d-4ab8-91aa-f7f8b6915b1a')\"\n",
              "              title=\"Convert this dataframe to an interactive table.\"\n",
              "              style=\"display:none;\">\n",
              "        \n",
              "  <svg xmlns=\"http://www.w3.org/2000/svg\" height=\"24px\"viewBox=\"0 0 24 24\"\n",
              "       width=\"24px\">\n",
              "    <path d=\"M0 0h24v24H0V0z\" fill=\"none\"/>\n",
              "    <path d=\"M18.56 5.44l.94 2.06.94-2.06 2.06-.94-2.06-.94-.94-2.06-.94 2.06-2.06.94zm-11 1L8.5 8.5l.94-2.06 2.06-.94-2.06-.94L8.5 2.5l-.94 2.06-2.06.94zm10 10l.94 2.06.94-2.06 2.06-.94-2.06-.94-.94-2.06-.94 2.06-2.06.94z\"/><path d=\"M17.41 7.96l-1.37-1.37c-.4-.4-.92-.59-1.43-.59-.52 0-1.04.2-1.43.59L10.3 9.45l-7.72 7.72c-.78.78-.78 2.05 0 2.83L4 21.41c.39.39.9.59 1.41.59.51 0 1.02-.2 1.41-.59l7.78-7.78 2.81-2.81c.8-.78.8-2.07 0-2.86zM5.41 20L4 18.59l7.72-7.72 1.47 1.35L5.41 20z\"/>\n",
              "  </svg>\n",
              "      </button>\n",
              "      \n",
              "  <style>\n",
              "    .colab-df-container {\n",
              "      display:flex;\n",
              "      flex-wrap:wrap;\n",
              "      gap: 12px;\n",
              "    }\n",
              "\n",
              "    .colab-df-convert {\n",
              "      background-color: #E8F0FE;\n",
              "      border: none;\n",
              "      border-radius: 50%;\n",
              "      cursor: pointer;\n",
              "      display: none;\n",
              "      fill: #1967D2;\n",
              "      height: 32px;\n",
              "      padding: 0 0 0 0;\n",
              "      width: 32px;\n",
              "    }\n",
              "\n",
              "    .colab-df-convert:hover {\n",
              "      background-color: #E2EBFA;\n",
              "      box-shadow: 0px 1px 2px rgba(60, 64, 67, 0.3), 0px 1px 3px 1px rgba(60, 64, 67, 0.15);\n",
              "      fill: #174EA6;\n",
              "    }\n",
              "\n",
              "    [theme=dark] .colab-df-convert {\n",
              "      background-color: #3B4455;\n",
              "      fill: #D2E3FC;\n",
              "    }\n",
              "\n",
              "    [theme=dark] .colab-df-convert:hover {\n",
              "      background-color: #434B5C;\n",
              "      box-shadow: 0px 1px 3px 1px rgba(0, 0, 0, 0.15);\n",
              "      filter: drop-shadow(0px 1px 2px rgba(0, 0, 0, 0.3));\n",
              "      fill: #FFFFFF;\n",
              "    }\n",
              "  </style>\n",
              "\n",
              "      <script>\n",
              "        const buttonEl =\n",
              "          document.querySelector('#df-fb750fe9-771d-4ab8-91aa-f7f8b6915b1a button.colab-df-convert');\n",
              "        buttonEl.style.display =\n",
              "          google.colab.kernel.accessAllowed ? 'block' : 'none';\n",
              "\n",
              "        async function convertToInteractive(key) {\n",
              "          const element = document.querySelector('#df-fb750fe9-771d-4ab8-91aa-f7f8b6915b1a');\n",
              "          const dataTable =\n",
              "            await google.colab.kernel.invokeFunction('convertToInteractive',\n",
              "                                                     [key], {});\n",
              "          if (!dataTable) return;\n",
              "\n",
              "          const docLinkHtml = 'Like what you see? Visit the ' +\n",
              "            '<a target=\"_blank\" href=https://colab.research.google.com/notebooks/data_table.ipynb>data table notebook</a>'\n",
              "            + ' to learn more about interactive tables.';\n",
              "          element.innerHTML = '';\n",
              "          dataTable['output_type'] = 'display_data';\n",
              "          await google.colab.output.renderOutput(dataTable, element);\n",
              "          const docLink = document.createElement('div');\n",
              "          docLink.innerHTML = docLinkHtml;\n",
              "          element.appendChild(docLink);\n",
              "        }\n",
              "      </script>\n",
              "    </div>\n",
              "  </div>\n",
              "  "
            ]
          },
          "metadata": {},
          "execution_count": 134
        }
      ]
    },
    {
      "cell_type": "code",
      "source": [
        "# first we get the summary of dataset playstore\n",
        "play_store.info()\n",
        "\n",
        "# dataset has 13 columns and 10841 rows with null values in some columns "
      ],
      "metadata": {
        "colab": {
          "base_uri": "https://localhost:8080/"
        },
        "id": "4Neva7zv7-PY",
        "outputId": "9874be3c-807e-41ea-f43b-f3f7d19027cb"
      },
      "execution_count": 135,
      "outputs": [
        {
          "output_type": "stream",
          "name": "stdout",
          "text": [
            "<class 'pandas.core.frame.DataFrame'>\n",
            "RangeIndex: 10841 entries, 0 to 10840\n",
            "Data columns (total 13 columns):\n",
            " #   Column          Non-Null Count  Dtype  \n",
            "---  ------          --------------  -----  \n",
            " 0   App             10841 non-null  object \n",
            " 1   Category        10841 non-null  object \n",
            " 2   Rating          9367 non-null   float64\n",
            " 3   Reviews         10841 non-null  object \n",
            " 4   Size            10841 non-null  object \n",
            " 5   Installs        10841 non-null  object \n",
            " 6   Type            10840 non-null  object \n",
            " 7   Price           10841 non-null  object \n",
            " 8   Content Rating  10840 non-null  object \n",
            " 9   Genres          10841 non-null  object \n",
            " 10  Last Updated    10841 non-null  object \n",
            " 11  Current Ver     10833 non-null  object \n",
            " 12  Android Ver     10838 non-null  object \n",
            "dtypes: float64(1), object(12)\n",
            "memory usage: 1.1+ MB\n"
          ]
        }
      ]
    },
    {
      "cell_type": "markdown",
      "source": [
        "\n",
        "\n",
        "**3.2 - Description of dataset**\n",
        "\n",
        "\n"
      ],
      "metadata": {
        "id": "o4SXecBALl_h"
      }
    },
    {
      "cell_type": "code",
      "source": [
        "play_store.describe()"
      ],
      "metadata": {
        "colab": {
          "base_uri": "https://localhost:8080/",
          "height": 300
        },
        "id": "aQfwo7naLuCr",
        "outputId": "1a212fba-dc16-401d-c985-4c64d2db6af3"
      },
      "execution_count": 136,
      "outputs": [
        {
          "output_type": "execute_result",
          "data": {
            "text/plain": [
              "            Rating\n",
              "count  9367.000000\n",
              "mean      4.193338\n",
              "std       0.537431\n",
              "min       1.000000\n",
              "25%       4.000000\n",
              "50%       4.300000\n",
              "75%       4.500000\n",
              "max      19.000000"
            ],
            "text/html": [
              "\n",
              "  <div id=\"df-815cf8f1-e32d-4c87-8f53-cb29dadb2c24\">\n",
              "    <div class=\"colab-df-container\">\n",
              "      <div>\n",
              "<style scoped>\n",
              "    .dataframe tbody tr th:only-of-type {\n",
              "        vertical-align: middle;\n",
              "    }\n",
              "\n",
              "    .dataframe tbody tr th {\n",
              "        vertical-align: top;\n",
              "    }\n",
              "\n",
              "    .dataframe thead th {\n",
              "        text-align: right;\n",
              "    }\n",
              "</style>\n",
              "<table border=\"1\" class=\"dataframe\">\n",
              "  <thead>\n",
              "    <tr style=\"text-align: right;\">\n",
              "      <th></th>\n",
              "      <th>Rating</th>\n",
              "    </tr>\n",
              "  </thead>\n",
              "  <tbody>\n",
              "    <tr>\n",
              "      <th>count</th>\n",
              "      <td>9367.000000</td>\n",
              "    </tr>\n",
              "    <tr>\n",
              "      <th>mean</th>\n",
              "      <td>4.193338</td>\n",
              "    </tr>\n",
              "    <tr>\n",
              "      <th>std</th>\n",
              "      <td>0.537431</td>\n",
              "    </tr>\n",
              "    <tr>\n",
              "      <th>min</th>\n",
              "      <td>1.000000</td>\n",
              "    </tr>\n",
              "    <tr>\n",
              "      <th>25%</th>\n",
              "      <td>4.000000</td>\n",
              "    </tr>\n",
              "    <tr>\n",
              "      <th>50%</th>\n",
              "      <td>4.300000</td>\n",
              "    </tr>\n",
              "    <tr>\n",
              "      <th>75%</th>\n",
              "      <td>4.500000</td>\n",
              "    </tr>\n",
              "    <tr>\n",
              "      <th>max</th>\n",
              "      <td>19.000000</td>\n",
              "    </tr>\n",
              "  </tbody>\n",
              "</table>\n",
              "</div>\n",
              "      <button class=\"colab-df-convert\" onclick=\"convertToInteractive('df-815cf8f1-e32d-4c87-8f53-cb29dadb2c24')\"\n",
              "              title=\"Convert this dataframe to an interactive table.\"\n",
              "              style=\"display:none;\">\n",
              "        \n",
              "  <svg xmlns=\"http://www.w3.org/2000/svg\" height=\"24px\"viewBox=\"0 0 24 24\"\n",
              "       width=\"24px\">\n",
              "    <path d=\"M0 0h24v24H0V0z\" fill=\"none\"/>\n",
              "    <path d=\"M18.56 5.44l.94 2.06.94-2.06 2.06-.94-2.06-.94-.94-2.06-.94 2.06-2.06.94zm-11 1L8.5 8.5l.94-2.06 2.06-.94-2.06-.94L8.5 2.5l-.94 2.06-2.06.94zm10 10l.94 2.06.94-2.06 2.06-.94-2.06-.94-.94-2.06-.94 2.06-2.06.94z\"/><path d=\"M17.41 7.96l-1.37-1.37c-.4-.4-.92-.59-1.43-.59-.52 0-1.04.2-1.43.59L10.3 9.45l-7.72 7.72c-.78.78-.78 2.05 0 2.83L4 21.41c.39.39.9.59 1.41.59.51 0 1.02-.2 1.41-.59l7.78-7.78 2.81-2.81c.8-.78.8-2.07 0-2.86zM5.41 20L4 18.59l7.72-7.72 1.47 1.35L5.41 20z\"/>\n",
              "  </svg>\n",
              "      </button>\n",
              "      \n",
              "  <style>\n",
              "    .colab-df-container {\n",
              "      display:flex;\n",
              "      flex-wrap:wrap;\n",
              "      gap: 12px;\n",
              "    }\n",
              "\n",
              "    .colab-df-convert {\n",
              "      background-color: #E8F0FE;\n",
              "      border: none;\n",
              "      border-radius: 50%;\n",
              "      cursor: pointer;\n",
              "      display: none;\n",
              "      fill: #1967D2;\n",
              "      height: 32px;\n",
              "      padding: 0 0 0 0;\n",
              "      width: 32px;\n",
              "    }\n",
              "\n",
              "    .colab-df-convert:hover {\n",
              "      background-color: #E2EBFA;\n",
              "      box-shadow: 0px 1px 2px rgba(60, 64, 67, 0.3), 0px 1px 3px 1px rgba(60, 64, 67, 0.15);\n",
              "      fill: #174EA6;\n",
              "    }\n",
              "\n",
              "    [theme=dark] .colab-df-convert {\n",
              "      background-color: #3B4455;\n",
              "      fill: #D2E3FC;\n",
              "    }\n",
              "\n",
              "    [theme=dark] .colab-df-convert:hover {\n",
              "      background-color: #434B5C;\n",
              "      box-shadow: 0px 1px 3px 1px rgba(0, 0, 0, 0.15);\n",
              "      filter: drop-shadow(0px 1px 2px rgba(0, 0, 0, 0.3));\n",
              "      fill: #FFFFFF;\n",
              "    }\n",
              "  </style>\n",
              "\n",
              "      <script>\n",
              "        const buttonEl =\n",
              "          document.querySelector('#df-815cf8f1-e32d-4c87-8f53-cb29dadb2c24 button.colab-df-convert');\n",
              "        buttonEl.style.display =\n",
              "          google.colab.kernel.accessAllowed ? 'block' : 'none';\n",
              "\n",
              "        async function convertToInteractive(key) {\n",
              "          const element = document.querySelector('#df-815cf8f1-e32d-4c87-8f53-cb29dadb2c24');\n",
              "          const dataTable =\n",
              "            await google.colab.kernel.invokeFunction('convertToInteractive',\n",
              "                                                     [key], {});\n",
              "          if (!dataTable) return;\n",
              "\n",
              "          const docLinkHtml = 'Like what you see? Visit the ' +\n",
              "            '<a target=\"_blank\" href=https://colab.research.google.com/notebooks/data_table.ipynb>data table notebook</a>'\n",
              "            + ' to learn more about interactive tables.';\n",
              "          element.innerHTML = '';\n",
              "          dataTable['output_type'] = 'display_data';\n",
              "          await google.colab.output.renderOutput(dataTable, element);\n",
              "          const docLink = document.createElement('div');\n",
              "          docLink.innerHTML = docLinkHtml;\n",
              "          element.appendChild(docLink);\n",
              "        }\n",
              "      </script>\n",
              "    </div>\n",
              "  </div>\n",
              "  "
            ]
          },
          "metadata": {},
          "execution_count": 136
        }
      ]
    },
    {
      "cell_type": "markdown",
      "source": [
        "\n",
        "\n",
        "**3.3 - Available columns are there in dataset**\n",
        "\n"
      ],
      "metadata": {
        "id": "yqaqzQ7xLzQm"
      }
    },
    {
      "cell_type": "code",
      "source": [
        "play_store.columns"
      ],
      "metadata": {
        "colab": {
          "base_uri": "https://localhost:8080/"
        },
        "id": "F2A2qa9vLyqG",
        "outputId": "96e0b9fa-4d43-4ecf-fb51-1bc72bf16cc7"
      },
      "execution_count": 137,
      "outputs": [
        {
          "output_type": "execute_result",
          "data": {
            "text/plain": [
              "Index(['App', 'Category', 'Rating', 'Reviews', 'Size', 'Installs', 'Type',\n",
              "       'Price', 'Content Rating', 'Genres', 'Last Updated', 'Current Ver',\n",
              "       'Android Ver'],\n",
              "      dtype='object')"
            ]
          },
          "metadata": {},
          "execution_count": 137
        }
      ]
    },
    {
      "cell_type": "markdown",
      "source": [
        "# **4) DATA CLEANING AND FILL MISSING DATA** "
      ],
      "metadata": {
        "id": "vw42xryhOZ_v"
      }
    },
    {
      "cell_type": "markdown",
      "source": [
        "\n",
        "**4.0.1 - Let's first find Null values presented in each column.**\n",
        "\n"
      ],
      "metadata": {
        "id": "rQSC2FKCVmwK"
      }
    },
    {
      "cell_type": "code",
      "source": [
        "# play_store.shape[0]\n",
        "# null_value_check=pd.dataframe(\"\")\n",
        "\n",
        "NaN_Checker = pd.DataFrame({\"Total Values\": play_store.shape[0] , \"No of NaN values\":play_store.isnull().sum() })\n",
        "NaN_Checker.sort_values(\"No of NaN values\" , ascending = False)"
      ],
      "metadata": {
        "id": "bIKPLU_tV46d"
      },
      "execution_count": null,
      "outputs": []
    },
    {
      "cell_type": "markdown",
      "source": [
        "\n",
        "\n",
        "**4.0.2 - Now, we replace some columns name which have space between their name.**\n",
        "\n"
      ],
      "metadata": {
        "id": "HdD3VKkLNOBw"
      }
    },
    {
      "cell_type": "code",
      "source": [
        "print(\"Before updating columns name :\\n\\n\",play_store.columns)"
      ],
      "metadata": {
        "id": "K1ZT-A5zSK_q"
      },
      "execution_count": null,
      "outputs": []
    },
    {
      "cell_type": "code",
      "source": [
        "play_store.columns = [col_name.replace(' ','_') for col_name in play_store.columns]\n",
        "\n",
        "print(\"After updating columns name :\\n\\n\",play_store.columns)"
      ],
      "metadata": {
        "id": "WP5P7YuANm4D"
      },
      "execution_count": null,
      "outputs": []
    },
    {
      "cell_type": "markdown",
      "source": [
        "\n",
        "\n",
        "**4.0.3 - Now we do some cleaning and replace null and missing values of columns one by one.**\n",
        "\n"
      ],
      "metadata": {
        "id": "UOPNnbIvOSwz"
      }
    },
    {
      "cell_type": "markdown",
      "source": [
        "# 4.1 - *Installs* Column Cleaning \n",
        "\n",
        "\n",
        "\n"
      ],
      "metadata": {
        "id": "qNVU7JoCTS5l"
      }
    },
    {
      "cell_type": "markdown",
      "source": [
        "**4.1.1 - Let's see the data**\n",
        "\n"
      ],
      "metadata": {
        "id": "ji_bgtOdIzBf"
      }
    },
    {
      "cell_type": "code",
      "source": [
        "# type of installs column\n",
        "play_store['Installs'].head()"
      ],
      "metadata": {
        "colab": {
          "base_uri": "https://localhost:8080/"
        },
        "id": "AYMLhG-eWyJX",
        "outputId": "a21dfac6-5e9e-4fc0-cbd0-66727ed49ce8"
      },
      "execution_count": 141,
      "outputs": [
        {
          "output_type": "execute_result",
          "data": {
            "text/plain": [
              "0        10,000+\n",
              "1       500,000+\n",
              "2     5,000,000+\n",
              "3    50,000,000+\n",
              "4       100,000+\n",
              "Name: Installs, dtype: object"
            ]
          },
          "metadata": {},
          "execution_count": 141
        }
      ]
    },
    {
      "cell_type": "markdown",
      "source": [
        "\n",
        "\n",
        "> \" Install column's datatype is str , so column might have some string value let's check it \"\n",
        "\n"
      ],
      "metadata": {
        "id": "YBPNS9bqez6N"
      }
    },
    {
      "cell_type": "code",
      "source": [
        "play_store.Installs.value_counts()"
      ],
      "metadata": {
        "id": "ON_uePmZd5Af",
        "colab": {
          "base_uri": "https://localhost:8080/"
        },
        "outputId": "993ca67d-1b65-4f2e-cc85-7676c8231478"
      },
      "execution_count": 142,
      "outputs": [
        {
          "output_type": "execute_result",
          "data": {
            "text/plain": [
              "1,000,000+        1579\n",
              "10,000,000+       1252\n",
              "100,000+          1169\n",
              "10,000+           1054\n",
              "1,000+             907\n",
              "5,000,000+         752\n",
              "100+               719\n",
              "500,000+           539\n",
              "50,000+            479\n",
              "5,000+             477\n",
              "100,000,000+       409\n",
              "10+                386\n",
              "500+               330\n",
              "50,000,000+        289\n",
              "50+                205\n",
              "5+                  82\n",
              "500,000,000+        72\n",
              "1+                  67\n",
              "1,000,000,000+      58\n",
              "0+                  14\n",
              "0                    1\n",
              "Free                 1\n",
              "Name: Installs, dtype: int64"
            ]
          },
          "metadata": {},
          "execution_count": 142
        }
      ]
    },
    {
      "cell_type": "markdown",
      "source": [
        "\n",
        "\n",
        " **4.1.2 - Cleaning of column data**\n",
        "\n"
      ],
      "metadata": {
        "id": "eUlTX-dncn8P"
      }
    },
    {
      "cell_type": "markdown",
      "source": [
        "\n",
        "\n",
        "> As we can see there is 1 value Free and it has no meaning so drop it. \n",
        "\n"
      ],
      "metadata": {
        "id": "leXBWnCUZsxe"
      }
    },
    {
      "cell_type": "code",
      "source": [
        "play_store.drop(play_store[play_store['Installs'] == 'Free'].index, inplace = True)          # this will drop whole row in dataset so total rows becomes 10480\n",
        "\n",
        "\n",
        "play_store.Installs.value_counts()"
      ],
      "metadata": {
        "id": "Oz6dMRV7aEWb",
        "colab": {
          "base_uri": "https://localhost:8080/"
        },
        "outputId": "6a1a5a3c-d4cd-4372-c274-50e91454ce48"
      },
      "execution_count": 143,
      "outputs": [
        {
          "output_type": "execute_result",
          "data": {
            "text/plain": [
              "1,000,000+        1579\n",
              "10,000,000+       1252\n",
              "100,000+          1169\n",
              "10,000+           1054\n",
              "1,000+             907\n",
              "5,000,000+         752\n",
              "100+               719\n",
              "500,000+           539\n",
              "50,000+            479\n",
              "5,000+             477\n",
              "100,000,000+       409\n",
              "10+                386\n",
              "500+               330\n",
              "50,000,000+        289\n",
              "50+                205\n",
              "5+                  82\n",
              "500,000,000+        72\n",
              "1+                  67\n",
              "1,000,000,000+      58\n",
              "0+                  14\n",
              "0                    1\n",
              "Name: Installs, dtype: int64"
            ]
          },
          "metadata": {},
          "execution_count": 143
        }
      ]
    },
    {
      "cell_type": "markdown",
      "source": [
        "\n",
        "\n",
        "> now remove  '+'  and ' , '  sign .\n",
        "\n"
      ],
      "metadata": {
        "id": "Gp4R2_Nne7P_"
      }
    },
    {
      "cell_type": "code",
      "source": [
        "#for every value changes we use map and lambda function\n",
        "play_store['Installs'] = play_store['Installs'].map(lambda x: x.replace('+' , \"\"))\n",
        "\n",
        "\n",
        "#as we can see there is ',' is making problem to convert into int so we remove it.\n",
        "play_store['Installs'] = play_store['Installs'].map(lambda x: x.replace(',' , ''))"
      ],
      "metadata": {
        "id": "195YoFrBfMc6"
      },
      "execution_count": 144,
      "outputs": []
    },
    {
      "cell_type": "markdown",
      "source": [
        "**4.1.3 -  Datatype Conversion**"
      ],
      "metadata": {
        "id": "NUIunJcFlxpa"
      }
    },
    {
      "cell_type": "code",
      "source": [
        "#changing str to int\n",
        "play_store['Installs'] = play_store['Installs'].astype(np.int64)\n",
        "\n",
        "\n",
        "#now we can see we have done cleaning and make column int64 type as well. 0\n",
        "play_store.Installs.head()"
      ],
      "metadata": {
        "id": "ftrhjsvul9uH",
        "colab": {
          "base_uri": "https://localhost:8080/"
        },
        "outputId": "8f5a3bae-c41d-442a-82d2-02844b70b57e"
      },
      "execution_count": 145,
      "outputs": [
        {
          "output_type": "execute_result",
          "data": {
            "text/plain": [
              "0       10000\n",
              "1      500000\n",
              "2     5000000\n",
              "3    50000000\n",
              "4      100000\n",
              "Name: Installs, dtype: int64"
            ]
          },
          "metadata": {},
          "execution_count": 145
        }
      ]
    },
    {
      "cell_type": "code",
      "source": [
        "play_store.info()"
      ],
      "metadata": {
        "colab": {
          "base_uri": "https://localhost:8080/"
        },
        "id": "SSkz4sATDdEk",
        "outputId": "dc3057bf-3178-4b44-f315-f6086d5f8290"
      },
      "execution_count": 146,
      "outputs": [
        {
          "output_type": "stream",
          "name": "stdout",
          "text": [
            "<class 'pandas.core.frame.DataFrame'>\n",
            "Int64Index: 10840 entries, 0 to 10840\n",
            "Data columns (total 13 columns):\n",
            " #   Column          Non-Null Count  Dtype  \n",
            "---  ------          --------------  -----  \n",
            " 0   App             10840 non-null  object \n",
            " 1   Category        10840 non-null  object \n",
            " 2   Rating          9366 non-null   float64\n",
            " 3   Reviews         10840 non-null  object \n",
            " 4   Size            10840 non-null  object \n",
            " 5   Installs        10840 non-null  int64  \n",
            " 6   Type            10839 non-null  object \n",
            " 7   Price           10840 non-null  object \n",
            " 8   Content_Rating  10840 non-null  object \n",
            " 9   Genres          10840 non-null  object \n",
            " 10  Last_Updated    10840 non-null  object \n",
            " 11  Current_Ver     10832 non-null  object \n",
            " 12  Android_Ver     10838 non-null  object \n",
            "dtypes: float64(1), int64(1), object(11)\n",
            "memory usage: 1.2+ MB\n"
          ]
        }
      ]
    },
    {
      "cell_type": "markdown",
      "source": [
        "# 4.2 - *Price* Column Cleaning"
      ],
      "metadata": {
        "id": "yrLy-Lepoys1"
      }
    },
    {
      "cell_type": "markdown",
      "source": [
        "\n",
        "\n",
        "**4.2.1 - Lets check the data first**\n",
        "\n"
      ],
      "metadata": {
        "id": "5k3wOWK6BU0F"
      }
    },
    {
      "cell_type": "code",
      "source": [
        "play_store['Price'].unique()"
      ],
      "metadata": {
        "id": "SIuIsRS0z6Fx"
      },
      "execution_count": null,
      "outputs": []
    },
    {
      "cell_type": "markdown",
      "source": [
        "**4.2.2 - Data cleaning and Datatype conversion**"
      ],
      "metadata": {
        "id": "YQDnKzSe7iHu"
      }
    },
    {
      "cell_type": "markdown",
      "source": [
        "\n",
        "\n",
        "> for removing $ symbol we have to convert float64 to string datatype then back to float64 for calculations.\n",
        "\n",
        "\n",
        "\n"
      ],
      "metadata": {
        "id": "xSJzX7Pg19HP"
      }
    },
    {
      "cell_type": "code",
      "source": [
        "# for remove $ we have to make column float to str.\n",
        "play_store['Price']=play_store['Price'].astype(str)\n",
        "\n",
        "\n",
        "#removing '$' from column and converting to float back.\n",
        "play_store['Price']=play_store['Price'].map(lambda x: x.replace('$' ,''))\n",
        "\n",
        "\n",
        "play_store['Price']=pd.to_numeric(play_store['Price'])"
      ],
      "metadata": {
        "id": "a5lAclkU2mc5"
      },
      "execution_count": 148,
      "outputs": []
    },
    {
      "cell_type": "markdown",
      "source": [
        "****"
      ],
      "metadata": {
        "id": "MfwBEwockh0A"
      }
    },
    {
      "cell_type": "markdown",
      "source": [
        "#4.3 - *Review* Column Cleaning\n",
        "\n",
        "\n",
        "\n",
        "\n",
        "\n"
      ],
      "metadata": {
        "id": "ZwG0ts_RnSum"
      }
    },
    {
      "cell_type": "markdown",
      "source": [
        "\n",
        "\n",
        "**4.3.1 - Check data type and value of that.**\n",
        "\n"
      ],
      "metadata": {
        "id": "Ia0FDiBhvDnm"
      }
    },
    {
      "cell_type": "code",
      "source": [
        "play_store.info()\n",
        "# as we can see there is no null/missing value exists.\n",
        "\n",
        "print('\\ndatatype of reviews column is :',play_store['Reviews'].dtype)\n",
        "# reviews datatype is object but column contains  numeric values "
      ],
      "metadata": {
        "id": "VZW-zxB7wgVy",
        "colab": {
          "base_uri": "https://localhost:8080/"
        },
        "outputId": "9148130f-200e-40b3-e750-7da4cb238108"
      },
      "execution_count": 111,
      "outputs": [
        {
          "output_type": "stream",
          "name": "stdout",
          "text": [
            "<class 'pandas.core.frame.DataFrame'>\n",
            "Int64Index: 10840 entries, 0 to 10840\n",
            "Data columns (total 13 columns):\n",
            " #   Column          Non-Null Count  Dtype  \n",
            "---  ------          --------------  -----  \n",
            " 0   App             10840 non-null  object \n",
            " 1   Category        10840 non-null  object \n",
            " 2   Rating          9366 non-null   float64\n",
            " 3   Reviews         10840 non-null  object \n",
            " 4   Size            10840 non-null  object \n",
            " 5   Installs        10840 non-null  int64  \n",
            " 6   Type            10839 non-null  object \n",
            " 7   Price           10840 non-null  float64\n",
            " 8   Content_Rating  10840 non-null  object \n",
            " 9   Genres          10840 non-null  object \n",
            " 10  Last_Updated    10840 non-null  object \n",
            " 11  Current_Ver     10832 non-null  object \n",
            " 12  Android_Ver     10838 non-null  object \n",
            "dtypes: float64(2), int64(1), object(10)\n",
            "memory usage: 1.2+ MB\n",
            "\n",
            "datatype of reviews column is : object\n"
          ]
        }
      ]
    },
    {
      "cell_type": "code",
      "source": [
        "# check wether column contains any string or other types of values or not.\n",
        "lst=[i for i in play_store['Reviews'] ]\n",
        "chk=[j for j in lst if j.isalpha()]\n",
        "\n",
        "print(chk)\n",
        "print(len(chk))          # we can see here there is 10840 values/rows presented."
      ],
      "metadata": {
        "id": "km7m__u5wuSR",
        "colab": {
          "base_uri": "https://localhost:8080/"
        },
        "outputId": "f192175b-e1e4-455f-f83e-945eb715c678"
      },
      "execution_count": 112,
      "outputs": [
        {
          "output_type": "stream",
          "name": "stdout",
          "text": [
            "[]\n",
            "0\n"
          ]
        }
      ]
    },
    {
      "cell_type": "markdown",
      "source": [
        "\n",
        "\n",
        "**4.3.2 - Data conversion**\n",
        "\n"
      ],
      "metadata": {
        "id": "rRr7XSGbyMZI"
      }
    },
    {
      "cell_type": "code",
      "source": [
        "play_store['Reviews'] = pd.to_numeric(play_store[\"Reviews\"])\n",
        "\n",
        "print('\\ndatatype of reviews column is :',play_store['Reviews'].dtype)"
      ],
      "metadata": {
        "colab": {
          "base_uri": "https://localhost:8080/"
        },
        "id": "HLtt-hfEyTZr",
        "outputId": "b891fa6d-1f54-475e-b80c-8ffc8276bdb7"
      },
      "execution_count": 113,
      "outputs": [
        {
          "output_type": "stream",
          "name": "stdout",
          "text": [
            "\n",
            "datatype of reviews column is : int64\n"
          ]
        }
      ]
    },
    {
      "cell_type": "markdown",
      "source": [
        "# 4.4 - *Size* Column Cleaning "
      ],
      "metadata": {
        "id": "ix4H8NTnAjHV"
      }
    },
    {
      "cell_type": "markdown",
      "source": [
        "\n",
        "\n",
        "**4.4.1 - Check datatype and values of column**\n",
        "\n"
      ],
      "metadata": {
        "id": "OiwBg4e3FI6y"
      }
    },
    {
      "cell_type": "code",
      "source": [
        "play_store['Size'].head(15).reset_index()"
      ],
      "metadata": {
        "id": "FtQTf9o-FHeO",
        "colab": {
          "base_uri": "https://localhost:8080/",
          "height": 520
        },
        "outputId": "3f7aebde-c2cd-44c0-9dd9-e2e48f28ab4a"
      },
      "execution_count": 120,
      "outputs": [
        {
          "output_type": "execute_result",
          "data": {
            "text/plain": [
              "    index  Size\n",
              "0       0  19.0\n",
              "1       1  14.0\n",
              "2       2   8.7\n",
              "3       3  25.0\n",
              "4       4   2.8\n",
              "5       5   5.6\n",
              "6       6  19.0\n",
              "7       7  29.0\n",
              "8       8  33.0\n",
              "9       9   3.1\n",
              "10     10  28.0\n",
              "11     11  12.0\n",
              "12     12  20.0\n",
              "13     13  21.0\n",
              "14     14  37.0"
            ],
            "text/html": [
              "\n",
              "  <div id=\"df-f6e7780c-50c0-4480-93ef-3d517829c418\">\n",
              "    <div class=\"colab-df-container\">\n",
              "      <div>\n",
              "<style scoped>\n",
              "    .dataframe tbody tr th:only-of-type {\n",
              "        vertical-align: middle;\n",
              "    }\n",
              "\n",
              "    .dataframe tbody tr th {\n",
              "        vertical-align: top;\n",
              "    }\n",
              "\n",
              "    .dataframe thead th {\n",
              "        text-align: right;\n",
              "    }\n",
              "</style>\n",
              "<table border=\"1\" class=\"dataframe\">\n",
              "  <thead>\n",
              "    <tr style=\"text-align: right;\">\n",
              "      <th></th>\n",
              "      <th>index</th>\n",
              "      <th>Size</th>\n",
              "    </tr>\n",
              "  </thead>\n",
              "  <tbody>\n",
              "    <tr>\n",
              "      <th>0</th>\n",
              "      <td>0</td>\n",
              "      <td>19.0</td>\n",
              "    </tr>\n",
              "    <tr>\n",
              "      <th>1</th>\n",
              "      <td>1</td>\n",
              "      <td>14.0</td>\n",
              "    </tr>\n",
              "    <tr>\n",
              "      <th>2</th>\n",
              "      <td>2</td>\n",
              "      <td>8.7</td>\n",
              "    </tr>\n",
              "    <tr>\n",
              "      <th>3</th>\n",
              "      <td>3</td>\n",
              "      <td>25.0</td>\n",
              "    </tr>\n",
              "    <tr>\n",
              "      <th>4</th>\n",
              "      <td>4</td>\n",
              "      <td>2.8</td>\n",
              "    </tr>\n",
              "    <tr>\n",
              "      <th>5</th>\n",
              "      <td>5</td>\n",
              "      <td>5.6</td>\n",
              "    </tr>\n",
              "    <tr>\n",
              "      <th>6</th>\n",
              "      <td>6</td>\n",
              "      <td>19.0</td>\n",
              "    </tr>\n",
              "    <tr>\n",
              "      <th>7</th>\n",
              "      <td>7</td>\n",
              "      <td>29.0</td>\n",
              "    </tr>\n",
              "    <tr>\n",
              "      <th>8</th>\n",
              "      <td>8</td>\n",
              "      <td>33.0</td>\n",
              "    </tr>\n",
              "    <tr>\n",
              "      <th>9</th>\n",
              "      <td>9</td>\n",
              "      <td>3.1</td>\n",
              "    </tr>\n",
              "    <tr>\n",
              "      <th>10</th>\n",
              "      <td>10</td>\n",
              "      <td>28.0</td>\n",
              "    </tr>\n",
              "    <tr>\n",
              "      <th>11</th>\n",
              "      <td>11</td>\n",
              "      <td>12.0</td>\n",
              "    </tr>\n",
              "    <tr>\n",
              "      <th>12</th>\n",
              "      <td>12</td>\n",
              "      <td>20.0</td>\n",
              "    </tr>\n",
              "    <tr>\n",
              "      <th>13</th>\n",
              "      <td>13</td>\n",
              "      <td>21.0</td>\n",
              "    </tr>\n",
              "    <tr>\n",
              "      <th>14</th>\n",
              "      <td>14</td>\n",
              "      <td>37.0</td>\n",
              "    </tr>\n",
              "  </tbody>\n",
              "</table>\n",
              "</div>\n",
              "      <button class=\"colab-df-convert\" onclick=\"convertToInteractive('df-f6e7780c-50c0-4480-93ef-3d517829c418')\"\n",
              "              title=\"Convert this dataframe to an interactive table.\"\n",
              "              style=\"display:none;\">\n",
              "        \n",
              "  <svg xmlns=\"http://www.w3.org/2000/svg\" height=\"24px\"viewBox=\"0 0 24 24\"\n",
              "       width=\"24px\">\n",
              "    <path d=\"M0 0h24v24H0V0z\" fill=\"none\"/>\n",
              "    <path d=\"M18.56 5.44l.94 2.06.94-2.06 2.06-.94-2.06-.94-.94-2.06-.94 2.06-2.06.94zm-11 1L8.5 8.5l.94-2.06 2.06-.94-2.06-.94L8.5 2.5l-.94 2.06-2.06.94zm10 10l.94 2.06.94-2.06 2.06-.94-2.06-.94-.94-2.06-.94 2.06-2.06.94z\"/><path d=\"M17.41 7.96l-1.37-1.37c-.4-.4-.92-.59-1.43-.59-.52 0-1.04.2-1.43.59L10.3 9.45l-7.72 7.72c-.78.78-.78 2.05 0 2.83L4 21.41c.39.39.9.59 1.41.59.51 0 1.02-.2 1.41-.59l7.78-7.78 2.81-2.81c.8-.78.8-2.07 0-2.86zM5.41 20L4 18.59l7.72-7.72 1.47 1.35L5.41 20z\"/>\n",
              "  </svg>\n",
              "      </button>\n",
              "      \n",
              "  <style>\n",
              "    .colab-df-container {\n",
              "      display:flex;\n",
              "      flex-wrap:wrap;\n",
              "      gap: 12px;\n",
              "    }\n",
              "\n",
              "    .colab-df-convert {\n",
              "      background-color: #E8F0FE;\n",
              "      border: none;\n",
              "      border-radius: 50%;\n",
              "      cursor: pointer;\n",
              "      display: none;\n",
              "      fill: #1967D2;\n",
              "      height: 32px;\n",
              "      padding: 0 0 0 0;\n",
              "      width: 32px;\n",
              "    }\n",
              "\n",
              "    .colab-df-convert:hover {\n",
              "      background-color: #E2EBFA;\n",
              "      box-shadow: 0px 1px 2px rgba(60, 64, 67, 0.3), 0px 1px 3px 1px rgba(60, 64, 67, 0.15);\n",
              "      fill: #174EA6;\n",
              "    }\n",
              "\n",
              "    [theme=dark] .colab-df-convert {\n",
              "      background-color: #3B4455;\n",
              "      fill: #D2E3FC;\n",
              "    }\n",
              "\n",
              "    [theme=dark] .colab-df-convert:hover {\n",
              "      background-color: #434B5C;\n",
              "      box-shadow: 0px 1px 3px 1px rgba(0, 0, 0, 0.15);\n",
              "      filter: drop-shadow(0px 1px 2px rgba(0, 0, 0, 0.3));\n",
              "      fill: #FFFFFF;\n",
              "    }\n",
              "  </style>\n",
              "\n",
              "      <script>\n",
              "        const buttonEl =\n",
              "          document.querySelector('#df-f6e7780c-50c0-4480-93ef-3d517829c418 button.colab-df-convert');\n",
              "        buttonEl.style.display =\n",
              "          google.colab.kernel.accessAllowed ? 'block' : 'none';\n",
              "\n",
              "        async function convertToInteractive(key) {\n",
              "          const element = document.querySelector('#df-f6e7780c-50c0-4480-93ef-3d517829c418');\n",
              "          const dataTable =\n",
              "            await google.colab.kernel.invokeFunction('convertToInteractive',\n",
              "                                                     [key], {});\n",
              "          if (!dataTable) return;\n",
              "\n",
              "          const docLinkHtml = 'Like what you see? Visit the ' +\n",
              "            '<a target=\"_blank\" href=https://colab.research.google.com/notebooks/data_table.ipynb>data table notebook</a>'\n",
              "            + ' to learn more about interactive tables.';\n",
              "          element.innerHTML = '';\n",
              "          dataTable['output_type'] = 'display_data';\n",
              "          await google.colab.output.renderOutput(dataTable, element);\n",
              "          const docLink = document.createElement('div');\n",
              "          docLink.innerHTML = docLinkHtml;\n",
              "          element.appendChild(docLink);\n",
              "        }\n",
              "      </script>\n",
              "    </div>\n",
              "  </div>\n",
              "  "
            ]
          },
          "metadata": {},
          "execution_count": 120
        }
      ]
    },
    {
      "cell_type": "code",
      "source": [
        "# datatype of size\n",
        "print(\"datatype of size :\",play_store['Size'].dtype,\"\\n\")\n",
        "\n",
        "# unique values presents in size column\n",
        "play_store.Size.unique()"
      ],
      "metadata": {
        "id": "FOrfICuNGGm-"
      },
      "execution_count": null,
      "outputs": []
    },
    {
      "cell_type": "markdown",
      "source": [
        "\n",
        "\n",
        "**4.4.2 - Data conversion and cleaning**\n",
        "\n"
      ],
      "metadata": {
        "id": "wsVNoxPLIpik"
      }
    },
    {
      "cell_type": "code",
      "source": [
        "# as we seen there is 1 value 'Varies with device' has no meaning so we'll replace it by nan, later we'll remove all nan from dataset\n",
        "play_store['Size']= play_store['Size'].replace('Varies with device',np.nan)"
      ],
      "metadata": {
        "id": "yRUj-36gIiH1"
      },
      "execution_count": 122,
      "outputs": []
    },
    {
      "cell_type": "code",
      "source": [
        "# there is M represents MB and K represents KB        1MB = 1024kB \n",
        "# we have to convert it into numerical value for calculation and remove M and K from it.\n",
        "\n",
        "# first we have to convert object datatype to string.\n",
        "play_store['Size'] = play_store['Size'].astype(str)    \n",
        "\n",
        "\n",
        "def mbconverter(val):\n",
        "      mb= 'M'\n",
        "      kb= 'k'\n",
        "      if mb in val:\n",
        "         mb_conv=float(val.replace(mb,''))\n",
        "         return mb_conv\n",
        "      elif kb in val:\n",
        "        kb_conv=float(val.replace(kb,''))\n",
        "        return float(kb_conv/1024)                                                 # here we converts all the kb values into mb.\n",
        "      else:\n",
        "        return val \n",
        "\n",
        "\n",
        "play_store['Size'] = play_store['Size'].apply(mbconverter).astype(np.float32)      # datatype conversion and applying unction over Size column  \n",
        "\n",
        "\n",
        "# see the result\n",
        "play_store"
      ],
      "metadata": {
        "id": "RPQKkc8jF5xL"
      },
      "execution_count": null,
      "outputs": []
    },
    {
      "cell_type": "markdown",
      "source": [
        "# **5) DATA OPERATIONS AND  VISUALIZATION**"
      ],
      "metadata": {
        "id": "3SED4sVspa3N"
      }
    },
    {
      "cell_type": "markdown",
      "source": [
        "# **Now we will analyse the following questions and do data visualization on them**\n",
        "\n",
        "\n",
        "*   find the category of evey application and count how many application of same category.\n",
        "*   find the top 10 record of Rating above 4 and top 10 lowest Rating equals to \n",
        "\n",
        "*   15 Most reviewed applications list.\n",
        "*   apllications which has highest downloads and category of them.\n",
        "\n",
        "\n",
        "*   number of free and expensive application downloaded by users. \n",
        "*   \n",
        "\n",
        "\n",
        "\n",
        "\n",
        "\n"
      ],
      "metadata": {
        "id": "BvTL2GGYnZYU"
      }
    }
  ]
}