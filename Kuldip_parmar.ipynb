{
  "nbformat": 4,
  "nbformat_minor": 0,
  "metadata": {
    "colab": {
      "name": "Kuldip_parmar.ipynb",
      "provenance": [],
      "collapsed_sections": [],
      "mount_file_id": "1UcO6tzWvRb4H9ovTuOKI4tdZr9rYgUxq",
      "authorship_tag": "ABX9TyNJyyL8eOTJ52L6/PkNyYkL",
      "include_colab_link": true
    },
    "kernelspec": {
      "name": "python3",
      "display_name": "Python 3"
    },
    "language_info": {
      "name": "python"
    }
  },
  "cells": [
    {
      "cell_type": "markdown",
      "metadata": {
        "id": "view-in-github",
        "colab_type": "text"
      },
      "source": [
        "<a href=\"https://colab.research.google.com/github/kuldip-datascience/Play_store_eda/blob/main/Kuldip_parmar.ipynb\" target=\"_parent\"><img src=\"https://colab.research.google.com/assets/colab-badge.svg\" alt=\"Open In Colab\"/></a>"
      ]
    },
    {
      "cell_type": "markdown",
      "source": [
        "# Firstly we will see the avilable data in dataset\n",
        "\n",
        "> we understand first the columns and rows and the information associated within.\n",
        "\n"
      ],
      "metadata": {
        "id": "QVu2kmxd7BGn"
      }
    },
    {
      "cell_type": "code",
      "execution_count": null,
      "metadata": {
        "id": "IK3VwtSR6x_u"
      },
      "outputs": [],
      "source": [
        "import pandas as pd\n",
        "import numpy as np"
      ]
    },
    {
      "cell_type": "markdown",
      "source": [
        "\n",
        "\n",
        "> here we use pandas to read csv file and some information of dataset\n",
        "\n"
      ],
      "metadata": {
        "id": "pv5DMc3G7_Nn"
      }
    },
    {
      "cell_type": "code",
      "source": [
        "play_store=pd.read_csv('/content/drive/MyDrive/Capstone Projects/play-store review/Copy of Play Store Data.csv')\n",
        "\n",
        "# first we get the summary of dataset playstore\n",
        "play_store.info()\n",
        "\n",
        "#dataset has 13 columns and 10841 rows with null values in some columns "
      ],
      "metadata": {
        "colab": {
          "base_uri": "https://localhost:8080/"
        },
        "id": "4Neva7zv7-PY",
        "outputId": "598f8410-fd1f-43be-adf9-b5ebedbaeca3"
      },
      "execution_count": null,
      "outputs": [
        {
          "output_type": "stream",
          "name": "stdout",
          "text": [
            "<class 'pandas.core.frame.DataFrame'>\n",
            "RangeIndex: 10841 entries, 0 to 10840\n",
            "Data columns (total 13 columns):\n",
            " #   Column          Non-Null Count  Dtype  \n",
            "---  ------          --------------  -----  \n",
            " 0   App             10841 non-null  object \n",
            " 1   Category        10841 non-null  object \n",
            " 2   Rating          9367 non-null   float64\n",
            " 3   Reviews         10841 non-null  object \n",
            " 4   Size            10841 non-null  object \n",
            " 5   Installs        10841 non-null  object \n",
            " 6   Type            10840 non-null  object \n",
            " 7   Price           10841 non-null  object \n",
            " 8   Content Rating  10840 non-null  object \n",
            " 9   Genres          10841 non-null  object \n",
            " 10  Last Updated    10841 non-null  object \n",
            " 11  Current Ver     10833 non-null  object \n",
            " 12  Android Ver     10838 non-null  object \n",
            "dtypes: float64(1), object(12)\n",
            "memory usage: 1.1+ MB\n"
          ]
        }
      ]
    },
    {
      "cell_type": "code",
      "source": [
        "#now we check the complete dataset\n",
        "play_store.head().T"
      ],
      "metadata": {
        "colab": {
          "base_uri": "https://localhost:8080/",
          "height": 457
        },
        "id": "pu-SUcb8_lel",
        "outputId": "0a1a5eec-64a1-472d-f60d-ed4d92f2b111"
      },
      "execution_count": null,
      "outputs": [
        {
          "output_type": "execute_result",
          "data": {
            "text/plain": [
              "                                                             0  \\\n",
              "App             Photo Editor & Candy Camera & Grid & ScrapBook   \n",
              "Category                                        ART_AND_DESIGN   \n",
              "Rating                                                     4.1   \n",
              "Reviews                                                    159   \n",
              "Size                                                       19M   \n",
              "Installs                                               10,000+   \n",
              "Type                                                      Free   \n",
              "Price                                                        0   \n",
              "Content Rating                                        Everyone   \n",
              "Genres                                            Art & Design   \n",
              "Last Updated                                   January 7, 2018   \n",
              "Current Ver                                              1.0.0   \n",
              "Android Ver                                       4.0.3 and up   \n",
              "\n",
              "                                        1  \\\n",
              "App                   Coloring book moana   \n",
              "Category                   ART_AND_DESIGN   \n",
              "Rating                                3.9   \n",
              "Reviews                               967   \n",
              "Size                                  14M   \n",
              "Installs                         500,000+   \n",
              "Type                                 Free   \n",
              "Price                                   0   \n",
              "Content Rating                   Everyone   \n",
              "Genres          Art & Design;Pretend Play   \n",
              "Last Updated             January 15, 2018   \n",
              "Current Ver                         2.0.0   \n",
              "Android Ver                  4.0.3 and up   \n",
              "\n",
              "                                                                2  \\\n",
              "App             U Launcher Lite – FREE Live Cool Themes, Hide ...   \n",
              "Category                                           ART_AND_DESIGN   \n",
              "Rating                                                        4.7   \n",
              "Reviews                                                     87510   \n",
              "Size                                                         8.7M   \n",
              "Installs                                               5,000,000+   \n",
              "Type                                                         Free   \n",
              "Price                                                           0   \n",
              "Content Rating                                           Everyone   \n",
              "Genres                                               Art & Design   \n",
              "Last Updated                                       August 1, 2018   \n",
              "Current Ver                                                 1.2.4   \n",
              "Android Ver                                          4.0.3 and up   \n",
              "\n",
              "                                    3                                      4  \n",
              "App             Sketch - Draw & Paint  Pixel Draw - Number Art Coloring Book  \n",
              "Category               ART_AND_DESIGN                         ART_AND_DESIGN  \n",
              "Rating                            4.5                                    4.3  \n",
              "Reviews                        215644                                    967  \n",
              "Size                              25M                                   2.8M  \n",
              "Installs                  50,000,000+                               100,000+  \n",
              "Type                             Free                                   Free  \n",
              "Price                               0                                      0  \n",
              "Content Rating                   Teen                               Everyone  \n",
              "Genres                   Art & Design                Art & Design;Creativity  \n",
              "Last Updated             June 8, 2018                          June 20, 2018  \n",
              "Current Ver        Varies with device                                    1.1  \n",
              "Android Ver                4.2 and up                             4.4 and up  "
            ],
            "text/html": [
              "\n",
              "  <div id=\"df-89ccd3b7-392b-46e4-8fdf-427339ca7fde\">\n",
              "    <div class=\"colab-df-container\">\n",
              "      <div>\n",
              "<style scoped>\n",
              "    .dataframe tbody tr th:only-of-type {\n",
              "        vertical-align: middle;\n",
              "    }\n",
              "\n",
              "    .dataframe tbody tr th {\n",
              "        vertical-align: top;\n",
              "    }\n",
              "\n",
              "    .dataframe thead th {\n",
              "        text-align: right;\n",
              "    }\n",
              "</style>\n",
              "<table border=\"1\" class=\"dataframe\">\n",
              "  <thead>\n",
              "    <tr style=\"text-align: right;\">\n",
              "      <th></th>\n",
              "      <th>0</th>\n",
              "      <th>1</th>\n",
              "      <th>2</th>\n",
              "      <th>3</th>\n",
              "      <th>4</th>\n",
              "    </tr>\n",
              "  </thead>\n",
              "  <tbody>\n",
              "    <tr>\n",
              "      <th>App</th>\n",
              "      <td>Photo Editor &amp; Candy Camera &amp; Grid &amp; ScrapBook</td>\n",
              "      <td>Coloring book moana</td>\n",
              "      <td>U Launcher Lite – FREE Live Cool Themes, Hide ...</td>\n",
              "      <td>Sketch - Draw &amp; Paint</td>\n",
              "      <td>Pixel Draw - Number Art Coloring Book</td>\n",
              "    </tr>\n",
              "    <tr>\n",
              "      <th>Category</th>\n",
              "      <td>ART_AND_DESIGN</td>\n",
              "      <td>ART_AND_DESIGN</td>\n",
              "      <td>ART_AND_DESIGN</td>\n",
              "      <td>ART_AND_DESIGN</td>\n",
              "      <td>ART_AND_DESIGN</td>\n",
              "    </tr>\n",
              "    <tr>\n",
              "      <th>Rating</th>\n",
              "      <td>4.1</td>\n",
              "      <td>3.9</td>\n",
              "      <td>4.7</td>\n",
              "      <td>4.5</td>\n",
              "      <td>4.3</td>\n",
              "    </tr>\n",
              "    <tr>\n",
              "      <th>Reviews</th>\n",
              "      <td>159</td>\n",
              "      <td>967</td>\n",
              "      <td>87510</td>\n",
              "      <td>215644</td>\n",
              "      <td>967</td>\n",
              "    </tr>\n",
              "    <tr>\n",
              "      <th>Size</th>\n",
              "      <td>19M</td>\n",
              "      <td>14M</td>\n",
              "      <td>8.7M</td>\n",
              "      <td>25M</td>\n",
              "      <td>2.8M</td>\n",
              "    </tr>\n",
              "    <tr>\n",
              "      <th>Installs</th>\n",
              "      <td>10,000+</td>\n",
              "      <td>500,000+</td>\n",
              "      <td>5,000,000+</td>\n",
              "      <td>50,000,000+</td>\n",
              "      <td>100,000+</td>\n",
              "    </tr>\n",
              "    <tr>\n",
              "      <th>Type</th>\n",
              "      <td>Free</td>\n",
              "      <td>Free</td>\n",
              "      <td>Free</td>\n",
              "      <td>Free</td>\n",
              "      <td>Free</td>\n",
              "    </tr>\n",
              "    <tr>\n",
              "      <th>Price</th>\n",
              "      <td>0</td>\n",
              "      <td>0</td>\n",
              "      <td>0</td>\n",
              "      <td>0</td>\n",
              "      <td>0</td>\n",
              "    </tr>\n",
              "    <tr>\n",
              "      <th>Content Rating</th>\n",
              "      <td>Everyone</td>\n",
              "      <td>Everyone</td>\n",
              "      <td>Everyone</td>\n",
              "      <td>Teen</td>\n",
              "      <td>Everyone</td>\n",
              "    </tr>\n",
              "    <tr>\n",
              "      <th>Genres</th>\n",
              "      <td>Art &amp; Design</td>\n",
              "      <td>Art &amp; Design;Pretend Play</td>\n",
              "      <td>Art &amp; Design</td>\n",
              "      <td>Art &amp; Design</td>\n",
              "      <td>Art &amp; Design;Creativity</td>\n",
              "    </tr>\n",
              "    <tr>\n",
              "      <th>Last Updated</th>\n",
              "      <td>January 7, 2018</td>\n",
              "      <td>January 15, 2018</td>\n",
              "      <td>August 1, 2018</td>\n",
              "      <td>June 8, 2018</td>\n",
              "      <td>June 20, 2018</td>\n",
              "    </tr>\n",
              "    <tr>\n",
              "      <th>Current Ver</th>\n",
              "      <td>1.0.0</td>\n",
              "      <td>2.0.0</td>\n",
              "      <td>1.2.4</td>\n",
              "      <td>Varies with device</td>\n",
              "      <td>1.1</td>\n",
              "    </tr>\n",
              "    <tr>\n",
              "      <th>Android Ver</th>\n",
              "      <td>4.0.3 and up</td>\n",
              "      <td>4.0.3 and up</td>\n",
              "      <td>4.0.3 and up</td>\n",
              "      <td>4.2 and up</td>\n",
              "      <td>4.4 and up</td>\n",
              "    </tr>\n",
              "  </tbody>\n",
              "</table>\n",
              "</div>\n",
              "      <button class=\"colab-df-convert\" onclick=\"convertToInteractive('df-89ccd3b7-392b-46e4-8fdf-427339ca7fde')\"\n",
              "              title=\"Convert this dataframe to an interactive table.\"\n",
              "              style=\"display:none;\">\n",
              "        \n",
              "  <svg xmlns=\"http://www.w3.org/2000/svg\" height=\"24px\"viewBox=\"0 0 24 24\"\n",
              "       width=\"24px\">\n",
              "    <path d=\"M0 0h24v24H0V0z\" fill=\"none\"/>\n",
              "    <path d=\"M18.56 5.44l.94 2.06.94-2.06 2.06-.94-2.06-.94-.94-2.06-.94 2.06-2.06.94zm-11 1L8.5 8.5l.94-2.06 2.06-.94-2.06-.94L8.5 2.5l-.94 2.06-2.06.94zm10 10l.94 2.06.94-2.06 2.06-.94-2.06-.94-.94-2.06-.94 2.06-2.06.94z\"/><path d=\"M17.41 7.96l-1.37-1.37c-.4-.4-.92-.59-1.43-.59-.52 0-1.04.2-1.43.59L10.3 9.45l-7.72 7.72c-.78.78-.78 2.05 0 2.83L4 21.41c.39.39.9.59 1.41.59.51 0 1.02-.2 1.41-.59l7.78-7.78 2.81-2.81c.8-.78.8-2.07 0-2.86zM5.41 20L4 18.59l7.72-7.72 1.47 1.35L5.41 20z\"/>\n",
              "  </svg>\n",
              "      </button>\n",
              "      \n",
              "  <style>\n",
              "    .colab-df-container {\n",
              "      display:flex;\n",
              "      flex-wrap:wrap;\n",
              "      gap: 12px;\n",
              "    }\n",
              "\n",
              "    .colab-df-convert {\n",
              "      background-color: #E8F0FE;\n",
              "      border: none;\n",
              "      border-radius: 50%;\n",
              "      cursor: pointer;\n",
              "      display: none;\n",
              "      fill: #1967D2;\n",
              "      height: 32px;\n",
              "      padding: 0 0 0 0;\n",
              "      width: 32px;\n",
              "    }\n",
              "\n",
              "    .colab-df-convert:hover {\n",
              "      background-color: #E2EBFA;\n",
              "      box-shadow: 0px 1px 2px rgba(60, 64, 67, 0.3), 0px 1px 3px 1px rgba(60, 64, 67, 0.15);\n",
              "      fill: #174EA6;\n",
              "    }\n",
              "\n",
              "    [theme=dark] .colab-df-convert {\n",
              "      background-color: #3B4455;\n",
              "      fill: #D2E3FC;\n",
              "    }\n",
              "\n",
              "    [theme=dark] .colab-df-convert:hover {\n",
              "      background-color: #434B5C;\n",
              "      box-shadow: 0px 1px 3px 1px rgba(0, 0, 0, 0.15);\n",
              "      filter: drop-shadow(0px 1px 2px rgba(0, 0, 0, 0.3));\n",
              "      fill: #FFFFFF;\n",
              "    }\n",
              "  </style>\n",
              "\n",
              "      <script>\n",
              "        const buttonEl =\n",
              "          document.querySelector('#df-89ccd3b7-392b-46e4-8fdf-427339ca7fde button.colab-df-convert');\n",
              "        buttonEl.style.display =\n",
              "          google.colab.kernel.accessAllowed ? 'block' : 'none';\n",
              "\n",
              "        async function convertToInteractive(key) {\n",
              "          const element = document.querySelector('#df-89ccd3b7-392b-46e4-8fdf-427339ca7fde');\n",
              "          const dataTable =\n",
              "            await google.colab.kernel.invokeFunction('convertToInteractive',\n",
              "                                                     [key], {});\n",
              "          if (!dataTable) return;\n",
              "\n",
              "          const docLinkHtml = 'Like what you see? Visit the ' +\n",
              "            '<a target=\"_blank\" href=https://colab.research.google.com/notebooks/data_table.ipynb>data table notebook</a>'\n",
              "            + ' to learn more about interactive tables.';\n",
              "          element.innerHTML = '';\n",
              "          dataTable['output_type'] = 'display_data';\n",
              "          await google.colab.output.renderOutput(dataTable, element);\n",
              "          const docLink = document.createElement('div');\n",
              "          docLink.innerHTML = docLinkHtml;\n",
              "          element.appendChild(docLink);\n",
              "        }\n",
              "      </script>\n",
              "    </div>\n",
              "  </div>\n",
              "  "
            ]
          },
          "metadata": {},
          "execution_count": 25
        }
      ]
    },
    {
      "cell_type": "markdown",
      "source": [
        "# Secondly we fill missing values to make data meaningful and could do operation within."
      ],
      "metadata": {
        "id": "vw42xryhOZ_v"
      }
    },
    {
      "cell_type": "code",
      "source": [
        "play_store.loc[play_store['Current Ver'].isin([np.nan])]\n",
        "\n",
        "#play_store.loc[2]\n",
        "play_store['Android Ver'].unique()"
      ],
      "metadata": {
        "colab": {
          "base_uri": "https://localhost:8080/"
        },
        "id": "FnpK_5826eC2",
        "outputId": "90345265-8cb3-4a7b-f920-d2d4eec32c87"
      },
      "execution_count": null,
      "outputs": [
        {
          "output_type": "execute_result",
          "data": {
            "text/plain": [
              "array(['4.0.3 and up', '4.2 and up', '4.4 and up', '2.3 and up',\n",
              "       '3.0 and up', '4.1 and up', '4.0 and up', '2.3.3 and up',\n",
              "       'Varies with device', '2.2 and up', '5.0 and up', '6.0 and up',\n",
              "       '1.6 and up', '1.5 and up', '2.1 and up', '7.0 and up',\n",
              "       '5.1 and up', '4.3 and up', '4.0.3 - 7.1.1', '2.0 and up',\n",
              "       '3.2 and up', '4.4W and up', '7.1 and up', '7.0 - 7.1.1',\n",
              "       '8.0 and up', '5.0 - 8.0', '3.1 and up', '2.0.1 and up',\n",
              "       '4.1 - 7.1.1', nan, '5.0 - 6.0', '1.0 and up', '2.2 - 7.1.1',\n",
              "       '5.0 - 7.1.1'], dtype=object)"
            ]
          },
          "metadata": {},
          "execution_count": 31
        }
      ]
    },
    {
      "cell_type": "code",
      "source": [
        "#here we replaced null to 0 in  Rating column which has float datatype\n",
        "play_store['Rating']=play_store['Rating'].replace(np.nan,0)\n",
        "\n",
        "#here we fill 1 missing value as 'Unknown'\n",
        "play_store['Type']=play_store['Type'].replace(np.nan,'Unknown')\n",
        "\n",
        "#here we fill 1 missing value as 'Unknown'\n",
        "play_store['Content Rating']=play_store['Content Rating'].replace(np.nan,'Unknown')\n",
        "\n",
        "#here we fill 8 missing value as '1.0.0' lowest possible Current version\n",
        "play_store['Current Ver']=play_store['Current Ver'].replace(np.nan,'1.0.0')\n",
        "\n",
        "#here we fill 8 missing value as '1.0.0' lowest possible Current version\n",
        "play_store['Android Ver']=play_store['Android Ver'].replace(np.nan,'1.0 and up')\n",
        "\n",
        "play_store.info()"
      ],
      "metadata": {
        "id": "GXFNngi1R6_-"
      },
      "execution_count": null,
      "outputs": []
    }
  ]
}