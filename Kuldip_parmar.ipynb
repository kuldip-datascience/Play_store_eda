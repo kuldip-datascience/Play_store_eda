{
  "nbformat": 4,
  "nbformat_minor": 0,
  "metadata": {
    "colab": {
      "provenance": [],
      "collapsed_sections": [
        "_7J70L7WKhL7",
        "jqLrCJntKu_1",
        "QVu2kmxd7BGn",
        "vw42xryhOZ_v",
        "qNVU7JoCTS5l",
        "yrLy-Lepoys1",
        "ZwG0ts_RnSum"
      ],
      "mount_file_id": "1UcO6tzWvRb4H9ovTuOKI4tdZr9rYgUxq",
      "authorship_tag": "ABX9TyOxAkQCTHcMvRjxjXLp5nSa",
      "include_colab_link": true
    },
    "kernelspec": {
      "name": "python3",
      "display_name": "Python 3"
    },
    "language_info": {
      "name": "python"
    }
  },
  "cells": [
    {
      "cell_type": "markdown",
      "metadata": {
        "id": "view-in-github",
        "colab_type": "text"
      },
      "source": [
        "<a href=\"https://colab.research.google.com/github/kuldip-datascience/Play_store_eda/blob/main/Kuldip_parmar.ipynb\" target=\"_parent\"><img src=\"https://colab.research.google.com/assets/colab-badge.svg\" alt=\"Open In Colab\"/></a>"
      ]
    },
    {
      "cell_type": "markdown",
      "source": [
        "# **1) Import Libraries**"
      ],
      "metadata": {
        "id": "_7J70L7WKhL7"
      }
    },
    {
      "cell_type": "code",
      "execution_count": 111,
      "metadata": {
        "id": "IK3VwtSR6x_u"
      },
      "outputs": [],
      "source": [
        "import pandas as pd\n",
        "import numpy as np"
      ]
    },
    {
      "cell_type": "markdown",
      "source": [
        "# **2) Load DataSet into Pandas**"
      ],
      "metadata": {
        "id": "jqLrCJntKu_1"
      }
    },
    {
      "cell_type": "code",
      "source": [
        "play_store=pd.read_csv('/content/drive/MyDrive/Capstone Projects/play-store review/Copy of Play Store Data.csv')"
      ],
      "metadata": {
        "id": "-hDuNoIFK4YH"
      },
      "execution_count": 112,
      "outputs": []
    },
    {
      "cell_type": "markdown",
      "source": [
        "# **3) ANALYSIS OF DATASET**\n",
        "\n",
        "> we understand first the columns and rows and the information associated within.\n",
        "\n"
      ],
      "metadata": {
        "id": "QVu2kmxd7BGn"
      }
    },
    {
      "cell_type": "code",
      "source": [
        "#now we check the complete dataset\n",
        "play_store.head().T"
      ],
      "metadata": {
        "id": "pu-SUcb8_lel",
        "colab": {
          "base_uri": "https://localhost:8080/",
          "height": 0
        },
        "outputId": "e4b82f01-03aa-4a96-d421-d8892d408016"
      },
      "execution_count": 113,
      "outputs": [
        {
          "output_type": "execute_result",
          "data": {
            "text/plain": [
              "                                                             0  \\\n",
              "App             Photo Editor & Candy Camera & Grid & ScrapBook   \n",
              "Category                                        ART_AND_DESIGN   \n",
              "Rating                                                     4.1   \n",
              "Reviews                                                    159   \n",
              "Size                                                       19M   \n",
              "Installs                                               10,000+   \n",
              "Type                                                      Free   \n",
              "Price                                                        0   \n",
              "Content Rating                                        Everyone   \n",
              "Genres                                            Art & Design   \n",
              "Last Updated                                   January 7, 2018   \n",
              "Current Ver                                              1.0.0   \n",
              "Android Ver                                       4.0.3 and up   \n",
              "\n",
              "                                        1  \\\n",
              "App                   Coloring book moana   \n",
              "Category                   ART_AND_DESIGN   \n",
              "Rating                                3.9   \n",
              "Reviews                               967   \n",
              "Size                                  14M   \n",
              "Installs                         500,000+   \n",
              "Type                                 Free   \n",
              "Price                                   0   \n",
              "Content Rating                   Everyone   \n",
              "Genres          Art & Design;Pretend Play   \n",
              "Last Updated             January 15, 2018   \n",
              "Current Ver                         2.0.0   \n",
              "Android Ver                  4.0.3 and up   \n",
              "\n",
              "                                                                2  \\\n",
              "App             U Launcher Lite – FREE Live Cool Themes, Hide ...   \n",
              "Category                                           ART_AND_DESIGN   \n",
              "Rating                                                        4.7   \n",
              "Reviews                                                     87510   \n",
              "Size                                                         8.7M   \n",
              "Installs                                               5,000,000+   \n",
              "Type                                                         Free   \n",
              "Price                                                           0   \n",
              "Content Rating                                           Everyone   \n",
              "Genres                                               Art & Design   \n",
              "Last Updated                                       August 1, 2018   \n",
              "Current Ver                                                 1.2.4   \n",
              "Android Ver                                          4.0.3 and up   \n",
              "\n",
              "                                    3                                      4  \n",
              "App             Sketch - Draw & Paint  Pixel Draw - Number Art Coloring Book  \n",
              "Category               ART_AND_DESIGN                         ART_AND_DESIGN  \n",
              "Rating                            4.5                                    4.3  \n",
              "Reviews                        215644                                    967  \n",
              "Size                              25M                                   2.8M  \n",
              "Installs                  50,000,000+                               100,000+  \n",
              "Type                             Free                                   Free  \n",
              "Price                               0                                      0  \n",
              "Content Rating                   Teen                               Everyone  \n",
              "Genres                   Art & Design                Art & Design;Creativity  \n",
              "Last Updated             June 8, 2018                          June 20, 2018  \n",
              "Current Ver        Varies with device                                    1.1  \n",
              "Android Ver                4.2 and up                             4.4 and up  "
            ],
            "text/html": [
              "\n",
              "  <div id=\"df-522174d9-c8ce-42dd-b6d4-c9bac3917bb5\">\n",
              "    <div class=\"colab-df-container\">\n",
              "      <div>\n",
              "<style scoped>\n",
              "    .dataframe tbody tr th:only-of-type {\n",
              "        vertical-align: middle;\n",
              "    }\n",
              "\n",
              "    .dataframe tbody tr th {\n",
              "        vertical-align: top;\n",
              "    }\n",
              "\n",
              "    .dataframe thead th {\n",
              "        text-align: right;\n",
              "    }\n",
              "</style>\n",
              "<table border=\"1\" class=\"dataframe\">\n",
              "  <thead>\n",
              "    <tr style=\"text-align: right;\">\n",
              "      <th></th>\n",
              "      <th>0</th>\n",
              "      <th>1</th>\n",
              "      <th>2</th>\n",
              "      <th>3</th>\n",
              "      <th>4</th>\n",
              "    </tr>\n",
              "  </thead>\n",
              "  <tbody>\n",
              "    <tr>\n",
              "      <th>App</th>\n",
              "      <td>Photo Editor &amp; Candy Camera &amp; Grid &amp; ScrapBook</td>\n",
              "      <td>Coloring book moana</td>\n",
              "      <td>U Launcher Lite – FREE Live Cool Themes, Hide ...</td>\n",
              "      <td>Sketch - Draw &amp; Paint</td>\n",
              "      <td>Pixel Draw - Number Art Coloring Book</td>\n",
              "    </tr>\n",
              "    <tr>\n",
              "      <th>Category</th>\n",
              "      <td>ART_AND_DESIGN</td>\n",
              "      <td>ART_AND_DESIGN</td>\n",
              "      <td>ART_AND_DESIGN</td>\n",
              "      <td>ART_AND_DESIGN</td>\n",
              "      <td>ART_AND_DESIGN</td>\n",
              "    </tr>\n",
              "    <tr>\n",
              "      <th>Rating</th>\n",
              "      <td>4.1</td>\n",
              "      <td>3.9</td>\n",
              "      <td>4.7</td>\n",
              "      <td>4.5</td>\n",
              "      <td>4.3</td>\n",
              "    </tr>\n",
              "    <tr>\n",
              "      <th>Reviews</th>\n",
              "      <td>159</td>\n",
              "      <td>967</td>\n",
              "      <td>87510</td>\n",
              "      <td>215644</td>\n",
              "      <td>967</td>\n",
              "    </tr>\n",
              "    <tr>\n",
              "      <th>Size</th>\n",
              "      <td>19M</td>\n",
              "      <td>14M</td>\n",
              "      <td>8.7M</td>\n",
              "      <td>25M</td>\n",
              "      <td>2.8M</td>\n",
              "    </tr>\n",
              "    <tr>\n",
              "      <th>Installs</th>\n",
              "      <td>10,000+</td>\n",
              "      <td>500,000+</td>\n",
              "      <td>5,000,000+</td>\n",
              "      <td>50,000,000+</td>\n",
              "      <td>100,000+</td>\n",
              "    </tr>\n",
              "    <tr>\n",
              "      <th>Type</th>\n",
              "      <td>Free</td>\n",
              "      <td>Free</td>\n",
              "      <td>Free</td>\n",
              "      <td>Free</td>\n",
              "      <td>Free</td>\n",
              "    </tr>\n",
              "    <tr>\n",
              "      <th>Price</th>\n",
              "      <td>0</td>\n",
              "      <td>0</td>\n",
              "      <td>0</td>\n",
              "      <td>0</td>\n",
              "      <td>0</td>\n",
              "    </tr>\n",
              "    <tr>\n",
              "      <th>Content Rating</th>\n",
              "      <td>Everyone</td>\n",
              "      <td>Everyone</td>\n",
              "      <td>Everyone</td>\n",
              "      <td>Teen</td>\n",
              "      <td>Everyone</td>\n",
              "    </tr>\n",
              "    <tr>\n",
              "      <th>Genres</th>\n",
              "      <td>Art &amp; Design</td>\n",
              "      <td>Art &amp; Design;Pretend Play</td>\n",
              "      <td>Art &amp; Design</td>\n",
              "      <td>Art &amp; Design</td>\n",
              "      <td>Art &amp; Design;Creativity</td>\n",
              "    </tr>\n",
              "    <tr>\n",
              "      <th>Last Updated</th>\n",
              "      <td>January 7, 2018</td>\n",
              "      <td>January 15, 2018</td>\n",
              "      <td>August 1, 2018</td>\n",
              "      <td>June 8, 2018</td>\n",
              "      <td>June 20, 2018</td>\n",
              "    </tr>\n",
              "    <tr>\n",
              "      <th>Current Ver</th>\n",
              "      <td>1.0.0</td>\n",
              "      <td>2.0.0</td>\n",
              "      <td>1.2.4</td>\n",
              "      <td>Varies with device</td>\n",
              "      <td>1.1</td>\n",
              "    </tr>\n",
              "    <tr>\n",
              "      <th>Android Ver</th>\n",
              "      <td>4.0.3 and up</td>\n",
              "      <td>4.0.3 and up</td>\n",
              "      <td>4.0.3 and up</td>\n",
              "      <td>4.2 and up</td>\n",
              "      <td>4.4 and up</td>\n",
              "    </tr>\n",
              "  </tbody>\n",
              "</table>\n",
              "</div>\n",
              "      <button class=\"colab-df-convert\" onclick=\"convertToInteractive('df-522174d9-c8ce-42dd-b6d4-c9bac3917bb5')\"\n",
              "              title=\"Convert this dataframe to an interactive table.\"\n",
              "              style=\"display:none;\">\n",
              "        \n",
              "  <svg xmlns=\"http://www.w3.org/2000/svg\" height=\"24px\"viewBox=\"0 0 24 24\"\n",
              "       width=\"24px\">\n",
              "    <path d=\"M0 0h24v24H0V0z\" fill=\"none\"/>\n",
              "    <path d=\"M18.56 5.44l.94 2.06.94-2.06 2.06-.94-2.06-.94-.94-2.06-.94 2.06-2.06.94zm-11 1L8.5 8.5l.94-2.06 2.06-.94-2.06-.94L8.5 2.5l-.94 2.06-2.06.94zm10 10l.94 2.06.94-2.06 2.06-.94-2.06-.94-.94-2.06-.94 2.06-2.06.94z\"/><path d=\"M17.41 7.96l-1.37-1.37c-.4-.4-.92-.59-1.43-.59-.52 0-1.04.2-1.43.59L10.3 9.45l-7.72 7.72c-.78.78-.78 2.05 0 2.83L4 21.41c.39.39.9.59 1.41.59.51 0 1.02-.2 1.41-.59l7.78-7.78 2.81-2.81c.8-.78.8-2.07 0-2.86zM5.41 20L4 18.59l7.72-7.72 1.47 1.35L5.41 20z\"/>\n",
              "  </svg>\n",
              "      </button>\n",
              "      \n",
              "  <style>\n",
              "    .colab-df-container {\n",
              "      display:flex;\n",
              "      flex-wrap:wrap;\n",
              "      gap: 12px;\n",
              "    }\n",
              "\n",
              "    .colab-df-convert {\n",
              "      background-color: #E8F0FE;\n",
              "      border: none;\n",
              "      border-radius: 50%;\n",
              "      cursor: pointer;\n",
              "      display: none;\n",
              "      fill: #1967D2;\n",
              "      height: 32px;\n",
              "      padding: 0 0 0 0;\n",
              "      width: 32px;\n",
              "    }\n",
              "\n",
              "    .colab-df-convert:hover {\n",
              "      background-color: #E2EBFA;\n",
              "      box-shadow: 0px 1px 2px rgba(60, 64, 67, 0.3), 0px 1px 3px 1px rgba(60, 64, 67, 0.15);\n",
              "      fill: #174EA6;\n",
              "    }\n",
              "\n",
              "    [theme=dark] .colab-df-convert {\n",
              "      background-color: #3B4455;\n",
              "      fill: #D2E3FC;\n",
              "    }\n",
              "\n",
              "    [theme=dark] .colab-df-convert:hover {\n",
              "      background-color: #434B5C;\n",
              "      box-shadow: 0px 1px 3px 1px rgba(0, 0, 0, 0.15);\n",
              "      filter: drop-shadow(0px 1px 2px rgba(0, 0, 0, 0.3));\n",
              "      fill: #FFFFFF;\n",
              "    }\n",
              "  </style>\n",
              "\n",
              "      <script>\n",
              "        const buttonEl =\n",
              "          document.querySelector('#df-522174d9-c8ce-42dd-b6d4-c9bac3917bb5 button.colab-df-convert');\n",
              "        buttonEl.style.display =\n",
              "          google.colab.kernel.accessAllowed ? 'block' : 'none';\n",
              "\n",
              "        async function convertToInteractive(key) {\n",
              "          const element = document.querySelector('#df-522174d9-c8ce-42dd-b6d4-c9bac3917bb5');\n",
              "          const dataTable =\n",
              "            await google.colab.kernel.invokeFunction('convertToInteractive',\n",
              "                                                     [key], {});\n",
              "          if (!dataTable) return;\n",
              "\n",
              "          const docLinkHtml = 'Like what you see? Visit the ' +\n",
              "            '<a target=\"_blank\" href=https://colab.research.google.com/notebooks/data_table.ipynb>data table notebook</a>'\n",
              "            + ' to learn more about interactive tables.';\n",
              "          element.innerHTML = '';\n",
              "          dataTable['output_type'] = 'display_data';\n",
              "          await google.colab.output.renderOutput(dataTable, element);\n",
              "          const docLink = document.createElement('div');\n",
              "          docLink.innerHTML = docLinkHtml;\n",
              "          element.appendChild(docLink);\n",
              "        }\n",
              "      </script>\n",
              "    </div>\n",
              "  </div>\n",
              "  "
            ]
          },
          "metadata": {},
          "execution_count": 113
        }
      ]
    },
    {
      "cell_type": "code",
      "source": [
        "# first we get the summary of dataset playstore\n",
        "play_store.info()\n",
        "\n",
        "#dataset has 13 columns and 10841 rows with null values in some columns "
      ],
      "metadata": {
        "colab": {
          "base_uri": "https://localhost:8080/"
        },
        "id": "4Neva7zv7-PY",
        "outputId": "8c4ac364-474a-4f49-cb7d-1396f8e5fac6"
      },
      "execution_count": 114,
      "outputs": [
        {
          "output_type": "stream",
          "name": "stdout",
          "text": [
            "<class 'pandas.core.frame.DataFrame'>\n",
            "RangeIndex: 10841 entries, 0 to 10840\n",
            "Data columns (total 13 columns):\n",
            " #   Column          Non-Null Count  Dtype  \n",
            "---  ------          --------------  -----  \n",
            " 0   App             10841 non-null  object \n",
            " 1   Category        10841 non-null  object \n",
            " 2   Rating          9367 non-null   float64\n",
            " 3   Reviews         10841 non-null  object \n",
            " 4   Size            10841 non-null  object \n",
            " 5   Installs        10841 non-null  object \n",
            " 6   Type            10840 non-null  object \n",
            " 7   Price           10841 non-null  object \n",
            " 8   Content Rating  10840 non-null  object \n",
            " 9   Genres          10841 non-null  object \n",
            " 10  Last Updated    10841 non-null  object \n",
            " 11  Current Ver     10833 non-null  object \n",
            " 12  Android Ver     10838 non-null  object \n",
            "dtypes: float64(1), object(12)\n",
            "memory usage: 1.1+ MB\n"
          ]
        }
      ]
    },
    {
      "cell_type": "markdown",
      "source": [
        "\n",
        "\n",
        "> now we see description of dataset\n",
        "\n",
        "\n"
      ],
      "metadata": {
        "id": "o4SXecBALl_h"
      }
    },
    {
      "cell_type": "code",
      "source": [
        "play_store.describe()"
      ],
      "metadata": {
        "colab": {
          "base_uri": "https://localhost:8080/",
          "height": 0
        },
        "id": "aQfwo7naLuCr",
        "outputId": "c4fbc00f-d972-4746-c26e-ac5239e245c0"
      },
      "execution_count": 115,
      "outputs": [
        {
          "output_type": "execute_result",
          "data": {
            "text/plain": [
              "            Rating\n",
              "count  9367.000000\n",
              "mean      4.193338\n",
              "std       0.537431\n",
              "min       1.000000\n",
              "25%       4.000000\n",
              "50%       4.300000\n",
              "75%       4.500000\n",
              "max      19.000000"
            ],
            "text/html": [
              "\n",
              "  <div id=\"df-a9c439d4-6601-4452-848d-1a119aa8ed1e\">\n",
              "    <div class=\"colab-df-container\">\n",
              "      <div>\n",
              "<style scoped>\n",
              "    .dataframe tbody tr th:only-of-type {\n",
              "        vertical-align: middle;\n",
              "    }\n",
              "\n",
              "    .dataframe tbody tr th {\n",
              "        vertical-align: top;\n",
              "    }\n",
              "\n",
              "    .dataframe thead th {\n",
              "        text-align: right;\n",
              "    }\n",
              "</style>\n",
              "<table border=\"1\" class=\"dataframe\">\n",
              "  <thead>\n",
              "    <tr style=\"text-align: right;\">\n",
              "      <th></th>\n",
              "      <th>Rating</th>\n",
              "    </tr>\n",
              "  </thead>\n",
              "  <tbody>\n",
              "    <tr>\n",
              "      <th>count</th>\n",
              "      <td>9367.000000</td>\n",
              "    </tr>\n",
              "    <tr>\n",
              "      <th>mean</th>\n",
              "      <td>4.193338</td>\n",
              "    </tr>\n",
              "    <tr>\n",
              "      <th>std</th>\n",
              "      <td>0.537431</td>\n",
              "    </tr>\n",
              "    <tr>\n",
              "      <th>min</th>\n",
              "      <td>1.000000</td>\n",
              "    </tr>\n",
              "    <tr>\n",
              "      <th>25%</th>\n",
              "      <td>4.000000</td>\n",
              "    </tr>\n",
              "    <tr>\n",
              "      <th>50%</th>\n",
              "      <td>4.300000</td>\n",
              "    </tr>\n",
              "    <tr>\n",
              "      <th>75%</th>\n",
              "      <td>4.500000</td>\n",
              "    </tr>\n",
              "    <tr>\n",
              "      <th>max</th>\n",
              "      <td>19.000000</td>\n",
              "    </tr>\n",
              "  </tbody>\n",
              "</table>\n",
              "</div>\n",
              "      <button class=\"colab-df-convert\" onclick=\"convertToInteractive('df-a9c439d4-6601-4452-848d-1a119aa8ed1e')\"\n",
              "              title=\"Convert this dataframe to an interactive table.\"\n",
              "              style=\"display:none;\">\n",
              "        \n",
              "  <svg xmlns=\"http://www.w3.org/2000/svg\" height=\"24px\"viewBox=\"0 0 24 24\"\n",
              "       width=\"24px\">\n",
              "    <path d=\"M0 0h24v24H0V0z\" fill=\"none\"/>\n",
              "    <path d=\"M18.56 5.44l.94 2.06.94-2.06 2.06-.94-2.06-.94-.94-2.06-.94 2.06-2.06.94zm-11 1L8.5 8.5l.94-2.06 2.06-.94-2.06-.94L8.5 2.5l-.94 2.06-2.06.94zm10 10l.94 2.06.94-2.06 2.06-.94-2.06-.94-.94-2.06-.94 2.06-2.06.94z\"/><path d=\"M17.41 7.96l-1.37-1.37c-.4-.4-.92-.59-1.43-.59-.52 0-1.04.2-1.43.59L10.3 9.45l-7.72 7.72c-.78.78-.78 2.05 0 2.83L4 21.41c.39.39.9.59 1.41.59.51 0 1.02-.2 1.41-.59l7.78-7.78 2.81-2.81c.8-.78.8-2.07 0-2.86zM5.41 20L4 18.59l7.72-7.72 1.47 1.35L5.41 20z\"/>\n",
              "  </svg>\n",
              "      </button>\n",
              "      \n",
              "  <style>\n",
              "    .colab-df-container {\n",
              "      display:flex;\n",
              "      flex-wrap:wrap;\n",
              "      gap: 12px;\n",
              "    }\n",
              "\n",
              "    .colab-df-convert {\n",
              "      background-color: #E8F0FE;\n",
              "      border: none;\n",
              "      border-radius: 50%;\n",
              "      cursor: pointer;\n",
              "      display: none;\n",
              "      fill: #1967D2;\n",
              "      height: 32px;\n",
              "      padding: 0 0 0 0;\n",
              "      width: 32px;\n",
              "    }\n",
              "\n",
              "    .colab-df-convert:hover {\n",
              "      background-color: #E2EBFA;\n",
              "      box-shadow: 0px 1px 2px rgba(60, 64, 67, 0.3), 0px 1px 3px 1px rgba(60, 64, 67, 0.15);\n",
              "      fill: #174EA6;\n",
              "    }\n",
              "\n",
              "    [theme=dark] .colab-df-convert {\n",
              "      background-color: #3B4455;\n",
              "      fill: #D2E3FC;\n",
              "    }\n",
              "\n",
              "    [theme=dark] .colab-df-convert:hover {\n",
              "      background-color: #434B5C;\n",
              "      box-shadow: 0px 1px 3px 1px rgba(0, 0, 0, 0.15);\n",
              "      filter: drop-shadow(0px 1px 2px rgba(0, 0, 0, 0.3));\n",
              "      fill: #FFFFFF;\n",
              "    }\n",
              "  </style>\n",
              "\n",
              "      <script>\n",
              "        const buttonEl =\n",
              "          document.querySelector('#df-a9c439d4-6601-4452-848d-1a119aa8ed1e button.colab-df-convert');\n",
              "        buttonEl.style.display =\n",
              "          google.colab.kernel.accessAllowed ? 'block' : 'none';\n",
              "\n",
              "        async function convertToInteractive(key) {\n",
              "          const element = document.querySelector('#df-a9c439d4-6601-4452-848d-1a119aa8ed1e');\n",
              "          const dataTable =\n",
              "            await google.colab.kernel.invokeFunction('convertToInteractive',\n",
              "                                                     [key], {});\n",
              "          if (!dataTable) return;\n",
              "\n",
              "          const docLinkHtml = 'Like what you see? Visit the ' +\n",
              "            '<a target=\"_blank\" href=https://colab.research.google.com/notebooks/data_table.ipynb>data table notebook</a>'\n",
              "            + ' to learn more about interactive tables.';\n",
              "          element.innerHTML = '';\n",
              "          dataTable['output_type'] = 'display_data';\n",
              "          await google.colab.output.renderOutput(dataTable, element);\n",
              "          const docLink = document.createElement('div');\n",
              "          docLink.innerHTML = docLinkHtml;\n",
              "          element.appendChild(docLink);\n",
              "        }\n",
              "      </script>\n",
              "    </div>\n",
              "  </div>\n",
              "  "
            ]
          },
          "metadata": {},
          "execution_count": 115
        }
      ]
    },
    {
      "cell_type": "markdown",
      "source": [
        "\n",
        "\n",
        "> now we see available columns are there in dataset\n",
        "\n"
      ],
      "metadata": {
        "id": "yqaqzQ7xLzQm"
      }
    },
    {
      "cell_type": "code",
      "source": [
        "play_store.columns"
      ],
      "metadata": {
        "colab": {
          "base_uri": "https://localhost:8080/"
        },
        "id": "F2A2qa9vLyqG",
        "outputId": "40958128-b5ee-46e1-e938-931eda865440"
      },
      "execution_count": 116,
      "outputs": [
        {
          "output_type": "execute_result",
          "data": {
            "text/plain": [
              "Index(['App', 'Category', 'Rating', 'Reviews', 'Size', 'Installs', 'Type',\n",
              "       'Price', 'Content Rating', 'Genres', 'Last Updated', 'Current Ver',\n",
              "       'Android Ver'],\n",
              "      dtype='object')"
            ]
          },
          "metadata": {},
          "execution_count": 116
        }
      ]
    },
    {
      "cell_type": "markdown",
      "source": [
        "# **4) DATA CLEANING AND FILL MISSING DATA** "
      ],
      "metadata": {
        "id": "vw42xryhOZ_v"
      }
    },
    {
      "cell_type": "markdown",
      "source": [
        "\n",
        "\n",
        "> Let's first find Null values presented in each column.\n",
        "\n"
      ],
      "metadata": {
        "id": "rQSC2FKCVmwK"
      }
    },
    {
      "cell_type": "code",
      "source": [
        "#play_store.shape[0]\n",
        "#null_value_check=pd.dataframe(\"\")\n",
        "\n",
        "NaN_Checker = pd.DataFrame({\"Total Values\": play_store.shape[0] , \"No of NaN values\":play_store.isnull().sum() })\n",
        "NaN_Checker.sort_values(\"No of NaN values\" , ascending = False)"
      ],
      "metadata": {
        "colab": {
          "base_uri": "https://localhost:8080/",
          "height": 0
        },
        "id": "bIKPLU_tV46d",
        "outputId": "5a46de10-e64e-4c16-ccf2-401b99871fd5"
      },
      "execution_count": 117,
      "outputs": [
        {
          "output_type": "execute_result",
          "data": {
            "text/plain": [
              "                Total Values  No of NaN values\n",
              "Rating                 10841              1474\n",
              "Current Ver            10841                 8\n",
              "Android Ver            10841                 3\n",
              "Type                   10841                 1\n",
              "Content Rating         10841                 1\n",
              "App                    10841                 0\n",
              "Category               10841                 0\n",
              "Reviews                10841                 0\n",
              "Size                   10841                 0\n",
              "Installs               10841                 0\n",
              "Price                  10841                 0\n",
              "Genres                 10841                 0\n",
              "Last Updated           10841                 0"
            ],
            "text/html": [
              "\n",
              "  <div id=\"df-7a09d30a-4974-44f3-a7a5-d9ab57de452e\">\n",
              "    <div class=\"colab-df-container\">\n",
              "      <div>\n",
              "<style scoped>\n",
              "    .dataframe tbody tr th:only-of-type {\n",
              "        vertical-align: middle;\n",
              "    }\n",
              "\n",
              "    .dataframe tbody tr th {\n",
              "        vertical-align: top;\n",
              "    }\n",
              "\n",
              "    .dataframe thead th {\n",
              "        text-align: right;\n",
              "    }\n",
              "</style>\n",
              "<table border=\"1\" class=\"dataframe\">\n",
              "  <thead>\n",
              "    <tr style=\"text-align: right;\">\n",
              "      <th></th>\n",
              "      <th>Total Values</th>\n",
              "      <th>No of NaN values</th>\n",
              "    </tr>\n",
              "  </thead>\n",
              "  <tbody>\n",
              "    <tr>\n",
              "      <th>Rating</th>\n",
              "      <td>10841</td>\n",
              "      <td>1474</td>\n",
              "    </tr>\n",
              "    <tr>\n",
              "      <th>Current Ver</th>\n",
              "      <td>10841</td>\n",
              "      <td>8</td>\n",
              "    </tr>\n",
              "    <tr>\n",
              "      <th>Android Ver</th>\n",
              "      <td>10841</td>\n",
              "      <td>3</td>\n",
              "    </tr>\n",
              "    <tr>\n",
              "      <th>Type</th>\n",
              "      <td>10841</td>\n",
              "      <td>1</td>\n",
              "    </tr>\n",
              "    <tr>\n",
              "      <th>Content Rating</th>\n",
              "      <td>10841</td>\n",
              "      <td>1</td>\n",
              "    </tr>\n",
              "    <tr>\n",
              "      <th>App</th>\n",
              "      <td>10841</td>\n",
              "      <td>0</td>\n",
              "    </tr>\n",
              "    <tr>\n",
              "      <th>Category</th>\n",
              "      <td>10841</td>\n",
              "      <td>0</td>\n",
              "    </tr>\n",
              "    <tr>\n",
              "      <th>Reviews</th>\n",
              "      <td>10841</td>\n",
              "      <td>0</td>\n",
              "    </tr>\n",
              "    <tr>\n",
              "      <th>Size</th>\n",
              "      <td>10841</td>\n",
              "      <td>0</td>\n",
              "    </tr>\n",
              "    <tr>\n",
              "      <th>Installs</th>\n",
              "      <td>10841</td>\n",
              "      <td>0</td>\n",
              "    </tr>\n",
              "    <tr>\n",
              "      <th>Price</th>\n",
              "      <td>10841</td>\n",
              "      <td>0</td>\n",
              "    </tr>\n",
              "    <tr>\n",
              "      <th>Genres</th>\n",
              "      <td>10841</td>\n",
              "      <td>0</td>\n",
              "    </tr>\n",
              "    <tr>\n",
              "      <th>Last Updated</th>\n",
              "      <td>10841</td>\n",
              "      <td>0</td>\n",
              "    </tr>\n",
              "  </tbody>\n",
              "</table>\n",
              "</div>\n",
              "      <button class=\"colab-df-convert\" onclick=\"convertToInteractive('df-7a09d30a-4974-44f3-a7a5-d9ab57de452e')\"\n",
              "              title=\"Convert this dataframe to an interactive table.\"\n",
              "              style=\"display:none;\">\n",
              "        \n",
              "  <svg xmlns=\"http://www.w3.org/2000/svg\" height=\"24px\"viewBox=\"0 0 24 24\"\n",
              "       width=\"24px\">\n",
              "    <path d=\"M0 0h24v24H0V0z\" fill=\"none\"/>\n",
              "    <path d=\"M18.56 5.44l.94 2.06.94-2.06 2.06-.94-2.06-.94-.94-2.06-.94 2.06-2.06.94zm-11 1L8.5 8.5l.94-2.06 2.06-.94-2.06-.94L8.5 2.5l-.94 2.06-2.06.94zm10 10l.94 2.06.94-2.06 2.06-.94-2.06-.94-.94-2.06-.94 2.06-2.06.94z\"/><path d=\"M17.41 7.96l-1.37-1.37c-.4-.4-.92-.59-1.43-.59-.52 0-1.04.2-1.43.59L10.3 9.45l-7.72 7.72c-.78.78-.78 2.05 0 2.83L4 21.41c.39.39.9.59 1.41.59.51 0 1.02-.2 1.41-.59l7.78-7.78 2.81-2.81c.8-.78.8-2.07 0-2.86zM5.41 20L4 18.59l7.72-7.72 1.47 1.35L5.41 20z\"/>\n",
              "  </svg>\n",
              "      </button>\n",
              "      \n",
              "  <style>\n",
              "    .colab-df-container {\n",
              "      display:flex;\n",
              "      flex-wrap:wrap;\n",
              "      gap: 12px;\n",
              "    }\n",
              "\n",
              "    .colab-df-convert {\n",
              "      background-color: #E8F0FE;\n",
              "      border: none;\n",
              "      border-radius: 50%;\n",
              "      cursor: pointer;\n",
              "      display: none;\n",
              "      fill: #1967D2;\n",
              "      height: 32px;\n",
              "      padding: 0 0 0 0;\n",
              "      width: 32px;\n",
              "    }\n",
              "\n",
              "    .colab-df-convert:hover {\n",
              "      background-color: #E2EBFA;\n",
              "      box-shadow: 0px 1px 2px rgba(60, 64, 67, 0.3), 0px 1px 3px 1px rgba(60, 64, 67, 0.15);\n",
              "      fill: #174EA6;\n",
              "    }\n",
              "\n",
              "    [theme=dark] .colab-df-convert {\n",
              "      background-color: #3B4455;\n",
              "      fill: #D2E3FC;\n",
              "    }\n",
              "\n",
              "    [theme=dark] .colab-df-convert:hover {\n",
              "      background-color: #434B5C;\n",
              "      box-shadow: 0px 1px 3px 1px rgba(0, 0, 0, 0.15);\n",
              "      filter: drop-shadow(0px 1px 2px rgba(0, 0, 0, 0.3));\n",
              "      fill: #FFFFFF;\n",
              "    }\n",
              "  </style>\n",
              "\n",
              "      <script>\n",
              "        const buttonEl =\n",
              "          document.querySelector('#df-7a09d30a-4974-44f3-a7a5-d9ab57de452e button.colab-df-convert');\n",
              "        buttonEl.style.display =\n",
              "          google.colab.kernel.accessAllowed ? 'block' : 'none';\n",
              "\n",
              "        async function convertToInteractive(key) {\n",
              "          const element = document.querySelector('#df-7a09d30a-4974-44f3-a7a5-d9ab57de452e');\n",
              "          const dataTable =\n",
              "            await google.colab.kernel.invokeFunction('convertToInteractive',\n",
              "                                                     [key], {});\n",
              "          if (!dataTable) return;\n",
              "\n",
              "          const docLinkHtml = 'Like what you see? Visit the ' +\n",
              "            '<a target=\"_blank\" href=https://colab.research.google.com/notebooks/data_table.ipynb>data table notebook</a>'\n",
              "            + ' to learn more about interactive tables.';\n",
              "          element.innerHTML = '';\n",
              "          dataTable['output_type'] = 'display_data';\n",
              "          await google.colab.output.renderOutput(dataTable, element);\n",
              "          const docLink = document.createElement('div');\n",
              "          docLink.innerHTML = docLinkHtml;\n",
              "          element.appendChild(docLink);\n",
              "        }\n",
              "      </script>\n",
              "    </div>\n",
              "  </div>\n",
              "  "
            ]
          },
          "metadata": {},
          "execution_count": 117
        }
      ]
    },
    {
      "cell_type": "markdown",
      "source": [
        "\n",
        "\n",
        "> Now, we replace some columns name which have space between their name.\n",
        "\n"
      ],
      "metadata": {
        "id": "HdD3VKkLNOBw"
      }
    },
    {
      "cell_type": "code",
      "source": [
        "print(\"Before updating columns name :\\n\\n\",play_store.columns)"
      ],
      "metadata": {
        "id": "K1ZT-A5zSK_q",
        "colab": {
          "base_uri": "https://localhost:8080/"
        },
        "outputId": "8c14044e-2432-4983-e5b7-68a976f65879"
      },
      "execution_count": 118,
      "outputs": [
        {
          "output_type": "stream",
          "name": "stdout",
          "text": [
            "Before updating columns name :\n",
            "\n",
            " Index(['App', 'Category', 'Rating', 'Reviews', 'Size', 'Installs', 'Type',\n",
            "       'Price', 'Content Rating', 'Genres', 'Last Updated', 'Current Ver',\n",
            "       'Android Ver'],\n",
            "      dtype='object')\n"
          ]
        }
      ]
    },
    {
      "cell_type": "code",
      "source": [
        "play_store.columns = [col_name.replace(' ','_') for col_name in play_store.columns]\n",
        "\n",
        "print(\"After updating columns name :\\n\\n\",play_store.columns)"
      ],
      "metadata": {
        "id": "WP5P7YuANm4D",
        "colab": {
          "base_uri": "https://localhost:8080/"
        },
        "outputId": "525c97ba-9ba4-47b2-b3f5-e96ad53f7c7c"
      },
      "execution_count": 119,
      "outputs": [
        {
          "output_type": "stream",
          "name": "stdout",
          "text": [
            "After updating columns name :\n",
            "\n",
            " Index(['App', 'Category', 'Rating', 'Reviews', 'Size', 'Installs', 'Type',\n",
            "       'Price', 'Content_Rating', 'Genres', 'Last_Updated', 'Current_Ver',\n",
            "       'Android_Ver'],\n",
            "      dtype='object')\n"
          ]
        }
      ]
    },
    {
      "cell_type": "markdown",
      "source": [
        "\n",
        "\n",
        "> now we do some cleaning and replace null and missing values of columns one by one.\n",
        "\n"
      ],
      "metadata": {
        "id": "UOPNnbIvOSwz"
      }
    },
    {
      "cell_type": "markdown",
      "source": [
        "# 4.1 - *Installs* Column Cleaning \n",
        "\n",
        "\n",
        "\n"
      ],
      "metadata": {
        "id": "qNVU7JoCTS5l"
      }
    },
    {
      "cell_type": "code",
      "source": [
        "# type of installs column\n",
        "play_store['Installs'].head()"
      ],
      "metadata": {
        "colab": {
          "base_uri": "https://localhost:8080/"
        },
        "id": "AYMLhG-eWyJX",
        "outputId": "2b31871c-a931-44d5-be08-a20abe827636"
      },
      "execution_count": 120,
      "outputs": [
        {
          "output_type": "execute_result",
          "data": {
            "text/plain": [
              "0        10,000+\n",
              "1       500,000+\n",
              "2     5,000,000+\n",
              "3    50,000,000+\n",
              "4       100,000+\n",
              "Name: Installs, dtype: object"
            ]
          },
          "metadata": {},
          "execution_count": 120
        }
      ]
    },
    {
      "cell_type": "markdown",
      "source": [
        "\n",
        "\n",
        " **4.1.1  Cleaning of data**\n",
        "\n"
      ],
      "metadata": {
        "id": "eUlTX-dncn8P"
      }
    },
    {
      "cell_type": "markdown",
      "source": [
        "\n",
        "\n",
        "> \" Installs datatype is str , so column might have some string value let's check it \"\n",
        "\n"
      ],
      "metadata": {
        "id": "YBPNS9bqez6N"
      }
    },
    {
      "cell_type": "code",
      "source": [
        "play_store.Installs.value_counts()"
      ],
      "metadata": {
        "id": "ON_uePmZd5Af",
        "colab": {
          "base_uri": "https://localhost:8080/"
        },
        "outputId": "223025ba-3772-48e5-fe59-331deb8e62ab"
      },
      "execution_count": 121,
      "outputs": [
        {
          "output_type": "execute_result",
          "data": {
            "text/plain": [
              "1,000,000+        1579\n",
              "10,000,000+       1252\n",
              "100,000+          1169\n",
              "10,000+           1054\n",
              "1,000+             907\n",
              "5,000,000+         752\n",
              "100+               719\n",
              "500,000+           539\n",
              "50,000+            479\n",
              "5,000+             477\n",
              "100,000,000+       409\n",
              "10+                386\n",
              "500+               330\n",
              "50,000,000+        289\n",
              "50+                205\n",
              "5+                  82\n",
              "500,000,000+        72\n",
              "1+                  67\n",
              "1,000,000,000+      58\n",
              "0+                  14\n",
              "0                    1\n",
              "Free                 1\n",
              "Name: Installs, dtype: int64"
            ]
          },
          "metadata": {},
          "execution_count": 121
        }
      ]
    },
    {
      "cell_type": "markdown",
      "source": [
        "\n",
        "\n",
        "> As we can see there is 1 value Free and it has no meaning so drop it. \n",
        "\n"
      ],
      "metadata": {
        "id": "leXBWnCUZsxe"
      }
    },
    {
      "cell_type": "code",
      "source": [
        "play_store.drop(play_store[play_store['Installs'] == 'Free'].index, inplace = True)          #this will drop whole row in dataset so total rows becomes 10480\n",
        "\n",
        "\n",
        "play_store.Installs.value_counts()"
      ],
      "metadata": {
        "id": "Oz6dMRV7aEWb",
        "colab": {
          "base_uri": "https://localhost:8080/"
        },
        "outputId": "6c91888f-ebd2-4351-8d2d-212f7834f9c3"
      },
      "execution_count": 122,
      "outputs": [
        {
          "output_type": "execute_result",
          "data": {
            "text/plain": [
              "1,000,000+        1579\n",
              "10,000,000+       1252\n",
              "100,000+          1169\n",
              "10,000+           1054\n",
              "1,000+             907\n",
              "5,000,000+         752\n",
              "100+               719\n",
              "500,000+           539\n",
              "50,000+            479\n",
              "5,000+             477\n",
              "100,000,000+       409\n",
              "10+                386\n",
              "500+               330\n",
              "50,000,000+        289\n",
              "50+                205\n",
              "5+                  82\n",
              "500,000,000+        72\n",
              "1+                  67\n",
              "1,000,000,000+      58\n",
              "0+                  14\n",
              "0                    1\n",
              "Name: Installs, dtype: int64"
            ]
          },
          "metadata": {},
          "execution_count": 122
        }
      ]
    },
    {
      "cell_type": "markdown",
      "source": [
        "\n",
        "\n",
        "> now remove  '+'  and ' , '  sign .\n",
        "\n"
      ],
      "metadata": {
        "id": "Gp4R2_Nne7P_"
      }
    },
    {
      "cell_type": "code",
      "source": [
        "#for every value changes we use map and lambda function\n",
        "play_store['Installs'] = play_store['Installs'].map(lambda x: x.replace('+' , \"\"))\n",
        "\n",
        "\n",
        "#as we can see there is ',' is making problem to convert into int so we remove it.\n",
        "play_store['Installs'] = play_store['Installs'].map(lambda x: x.replace(',' , ''))"
      ],
      "metadata": {
        "id": "195YoFrBfMc6"
      },
      "execution_count": 123,
      "outputs": []
    },
    {
      "cell_type": "markdown",
      "source": [
        "**4.1.2  Datatype Conversion**"
      ],
      "metadata": {
        "id": "NUIunJcFlxpa"
      }
    },
    {
      "cell_type": "code",
      "source": [
        "#changing str to int\n",
        "play_store['Installs'] = play_store['Installs'].astype(np.int64)\n",
        "\n",
        "\n",
        "#now we can see we have done cleaning and make column int64 type as well. 0\n",
        "play_store.Installs.head()"
      ],
      "metadata": {
        "id": "ftrhjsvul9uH",
        "colab": {
          "base_uri": "https://localhost:8080/"
        },
        "outputId": "177279c9-f8f7-4aae-92d8-58e8c3571f27"
      },
      "execution_count": 124,
      "outputs": [
        {
          "output_type": "execute_result",
          "data": {
            "text/plain": [
              "0       10000\n",
              "1      500000\n",
              "2     5000000\n",
              "3    50000000\n",
              "4      100000\n",
              "Name: Installs, dtype: int64"
            ]
          },
          "metadata": {},
          "execution_count": 124
        }
      ]
    },
    {
      "cell_type": "code",
      "source": [
        "play_store.info()"
      ],
      "metadata": {
        "colab": {
          "base_uri": "https://localhost:8080/"
        },
        "id": "SSkz4sATDdEk",
        "outputId": "1204f5df-edaa-4821-b1e8-a289ffa9f5f2"
      },
      "execution_count": 125,
      "outputs": [
        {
          "output_type": "stream",
          "name": "stdout",
          "text": [
            "<class 'pandas.core.frame.DataFrame'>\n",
            "Int64Index: 10840 entries, 0 to 10840\n",
            "Data columns (total 13 columns):\n",
            " #   Column          Non-Null Count  Dtype  \n",
            "---  ------          --------------  -----  \n",
            " 0   App             10840 non-null  object \n",
            " 1   Category        10840 non-null  object \n",
            " 2   Rating          9366 non-null   float64\n",
            " 3   Reviews         10840 non-null  object \n",
            " 4   Size            10840 non-null  object \n",
            " 5   Installs        10840 non-null  int64  \n",
            " 6   Type            10839 non-null  object \n",
            " 7   Price           10840 non-null  object \n",
            " 8   Content_Rating  10840 non-null  object \n",
            " 9   Genres          10840 non-null  object \n",
            " 10  Last_Updated    10840 non-null  object \n",
            " 11  Current_Ver     10832 non-null  object \n",
            " 12  Android_Ver     10838 non-null  object \n",
            "dtypes: float64(1), int64(1), object(11)\n",
            "memory usage: 1.2+ MB\n"
          ]
        }
      ]
    },
    {
      "cell_type": "markdown",
      "source": [
        "# 4.2 - *Price* column cleaning"
      ],
      "metadata": {
        "id": "yrLy-Lepoys1"
      }
    },
    {
      "cell_type": "code",
      "source": [
        "play_store['Price'].unique()"
      ],
      "metadata": {
        "id": "SIuIsRS0z6Fx",
        "colab": {
          "base_uri": "https://localhost:8080/"
        },
        "outputId": "6b22a619-71e3-4934-8307-947727d43f09"
      },
      "execution_count": 126,
      "outputs": [
        {
          "output_type": "execute_result",
          "data": {
            "text/plain": [
              "array(['0', '$4.99', '$3.99', '$6.99', '$1.49', '$2.99', '$7.99', '$5.99',\n",
              "       '$3.49', '$1.99', '$9.99', '$7.49', '$0.99', '$9.00', '$5.49',\n",
              "       '$10.00', '$24.99', '$11.99', '$79.99', '$16.99', '$14.99',\n",
              "       '$1.00', '$29.99', '$12.99', '$2.49', '$10.99', '$1.50', '$19.99',\n",
              "       '$15.99', '$33.99', '$74.99', '$39.99', '$3.95', '$4.49', '$1.70',\n",
              "       '$8.99', '$2.00', '$3.88', '$25.99', '$399.99', '$17.99',\n",
              "       '$400.00', '$3.02', '$1.76', '$4.84', '$4.77', '$1.61', '$2.50',\n",
              "       '$1.59', '$6.49', '$1.29', '$5.00', '$13.99', '$299.99', '$379.99',\n",
              "       '$37.99', '$18.99', '$389.99', '$19.90', '$8.49', '$1.75',\n",
              "       '$14.00', '$4.85', '$46.99', '$109.99', '$154.99', '$3.08',\n",
              "       '$2.59', '$4.80', '$1.96', '$19.40', '$3.90', '$4.59', '$15.46',\n",
              "       '$3.04', '$4.29', '$2.60', '$3.28', '$4.60', '$28.99', '$2.95',\n",
              "       '$2.90', '$1.97', '$200.00', '$89.99', '$2.56', '$30.99', '$3.61',\n",
              "       '$394.99', '$1.26', '$1.20', '$1.04'], dtype=object)"
            ]
          },
          "metadata": {},
          "execution_count": 126
        }
      ]
    },
    {
      "cell_type": "markdown",
      "source": [
        "**4.2.1 Data cleaning and Datatype conversion**"
      ],
      "metadata": {
        "id": "YQDnKzSe7iHu"
      }
    },
    {
      "cell_type": "markdown",
      "source": [
        "\n",
        "\n",
        "> for removing $ symbol we have to convert float64 to string datatype then back to float64 for calculations.\n",
        "\n",
        "\n",
        "\n"
      ],
      "metadata": {
        "id": "xSJzX7Pg19HP"
      }
    },
    {
      "cell_type": "code",
      "source": [
        "#float to str \n",
        "play_store['Price']=play_store['Price'].astype(str)\n",
        "\n",
        "\n",
        "#removing '$' from column and converting to float back.\n",
        "play_store['Price']=play_store['Price'].map(lambda x: x.replace('$' , \"\"))\n",
        "\n",
        "\n",
        "play_store['Price']=pd.to_numeric(play_store['Price'])"
      ],
      "metadata": {
        "id": "a5lAclkU2mc5"
      },
      "execution_count": 127,
      "outputs": []
    },
    {
      "cell_type": "markdown",
      "source": [
        "****"
      ],
      "metadata": {
        "id": "MfwBEwockh0A"
      }
    },
    {
      "cell_type": "markdown",
      "source": [
        "#4.3 - *Review* Column Cleaning\n",
        "\n",
        "\n",
        "\n",
        "\n",
        "\n"
      ],
      "metadata": {
        "id": "ZwG0ts_RnSum"
      }
    },
    {
      "cell_type": "markdown",
      "source": [
        "\n",
        "\n",
        "> 4.3.1 check data type and value of that.\n",
        "\n"
      ],
      "metadata": {
        "id": "Ia0FDiBhvDnm"
      }
    },
    {
      "cell_type": "code",
      "source": [
        "play_store.info()\n",
        "# as we can see there is no null/missing value exists.\n",
        "\n",
        "print('\\ndatatype of reviews column is :',play_store['Reviews'].dtype)\n",
        "# reviews datatype is object but column contains  numeric values "
      ],
      "metadata": {
        "id": "VZW-zxB7wgVy",
        "colab": {
          "base_uri": "https://localhost:8080/"
        },
        "outputId": "2e3cecfd-1225-4fdc-9793-167e8db2f4e7"
      },
      "execution_count": 128,
      "outputs": [
        {
          "output_type": "stream",
          "name": "stdout",
          "text": [
            "<class 'pandas.core.frame.DataFrame'>\n",
            "Int64Index: 10840 entries, 0 to 10840\n",
            "Data columns (total 13 columns):\n",
            " #   Column          Non-Null Count  Dtype  \n",
            "---  ------          --------------  -----  \n",
            " 0   App             10840 non-null  object \n",
            " 1   Category        10840 non-null  object \n",
            " 2   Rating          9366 non-null   float64\n",
            " 3   Reviews         10840 non-null  object \n",
            " 4   Size            10840 non-null  object \n",
            " 5   Installs        10840 non-null  int64  \n",
            " 6   Type            10839 non-null  object \n",
            " 7   Price           10840 non-null  float64\n",
            " 8   Content_Rating  10840 non-null  object \n",
            " 9   Genres          10840 non-null  object \n",
            " 10  Last_Updated    10840 non-null  object \n",
            " 11  Current_Ver     10832 non-null  object \n",
            " 12  Android_Ver     10838 non-null  object \n",
            "dtypes: float64(2), int64(1), object(10)\n",
            "memory usage: 1.2+ MB\n",
            "\n",
            "datatype of reviews column is : object\n"
          ]
        }
      ]
    },
    {
      "cell_type": "code",
      "source": [
        "# check wether column contains any string or other types of values or not.\n",
        "lst=[i for i in play_store['Reviews'] ]\n",
        "chk=[j for j in lst if j.isalpha()]\n",
        "\n",
        "print(chk)\n",
        "print(len(chk))          #we can see here there is 10840 values/rows presented."
      ],
      "metadata": {
        "id": "km7m__u5wuSR",
        "colab": {
          "base_uri": "https://localhost:8080/"
        },
        "outputId": "610d8fbb-332a-4b31-a592-1c833852aee9"
      },
      "execution_count": 129,
      "outputs": [
        {
          "output_type": "stream",
          "name": "stdout",
          "text": [
            "[]\n",
            "0\n"
          ]
        }
      ]
    },
    {
      "cell_type": "markdown",
      "source": [
        "\n",
        "\n",
        "> 4.3.2 data conversion \n",
        "\n"
      ],
      "metadata": {
        "id": "rRr7XSGbyMZI"
      }
    },
    {
      "cell_type": "code",
      "source": [
        "play_store['Reviews'] = pd.to_numeric(play_store[\"Reviews\"])\n",
        "\n",
        "print('\\ndatatype of reviews column is :',play_store['Reviews'].dtype)"
      ],
      "metadata": {
        "colab": {
          "base_uri": "https://localhost:8080/"
        },
        "id": "HLtt-hfEyTZr",
        "outputId": "54efde46-a9ab-4ab6-cb8a-7b9fe7274b0f"
      },
      "execution_count": 130,
      "outputs": [
        {
          "output_type": "stream",
          "name": "stdout",
          "text": [
            "\n",
            "datatype of reviews column is : int64\n"
          ]
        }
      ]
    },
    {
      "cell_type": "markdown",
      "source": [
        "# 4.4 - *size* Column Cleaning "
      ],
      "metadata": {
        "id": "ix4H8NTnAjHV"
      }
    },
    {
      "cell_type": "markdown",
      "source": [
        "\n",
        "\n",
        "> 4.4.1 check datatype and values of column\n",
        "\n"
      ],
      "metadata": {
        "id": "OiwBg4e3FI6y"
      }
    },
    {
      "cell_type": "code",
      "source": [
        "play_store['Size'].head(15).reset_index()"
      ],
      "metadata": {
        "id": "FtQTf9o-FHeO",
        "colab": {
          "base_uri": "https://localhost:8080/",
          "height": 520
        },
        "outputId": "8bd824be-deaa-4dc4-b564-0563d8cb5ea1"
      },
      "execution_count": 131,
      "outputs": [
        {
          "output_type": "execute_result",
          "data": {
            "text/plain": [
              "    index  Size\n",
              "0       0   19M\n",
              "1       1   14M\n",
              "2       2  8.7M\n",
              "3       3   25M\n",
              "4       4  2.8M\n",
              "5       5  5.6M\n",
              "6       6   19M\n",
              "7       7   29M\n",
              "8       8   33M\n",
              "9       9  3.1M\n",
              "10     10   28M\n",
              "11     11   12M\n",
              "12     12   20M\n",
              "13     13   21M\n",
              "14     14   37M"
            ],
            "text/html": [
              "\n",
              "  <div id=\"df-caab565f-588e-4d35-b57e-03c85a8b938c\">\n",
              "    <div class=\"colab-df-container\">\n",
              "      <div>\n",
              "<style scoped>\n",
              "    .dataframe tbody tr th:only-of-type {\n",
              "        vertical-align: middle;\n",
              "    }\n",
              "\n",
              "    .dataframe tbody tr th {\n",
              "        vertical-align: top;\n",
              "    }\n",
              "\n",
              "    .dataframe thead th {\n",
              "        text-align: right;\n",
              "    }\n",
              "</style>\n",
              "<table border=\"1\" class=\"dataframe\">\n",
              "  <thead>\n",
              "    <tr style=\"text-align: right;\">\n",
              "      <th></th>\n",
              "      <th>index</th>\n",
              "      <th>Size</th>\n",
              "    </tr>\n",
              "  </thead>\n",
              "  <tbody>\n",
              "    <tr>\n",
              "      <th>0</th>\n",
              "      <td>0</td>\n",
              "      <td>19M</td>\n",
              "    </tr>\n",
              "    <tr>\n",
              "      <th>1</th>\n",
              "      <td>1</td>\n",
              "      <td>14M</td>\n",
              "    </tr>\n",
              "    <tr>\n",
              "      <th>2</th>\n",
              "      <td>2</td>\n",
              "      <td>8.7M</td>\n",
              "    </tr>\n",
              "    <tr>\n",
              "      <th>3</th>\n",
              "      <td>3</td>\n",
              "      <td>25M</td>\n",
              "    </tr>\n",
              "    <tr>\n",
              "      <th>4</th>\n",
              "      <td>4</td>\n",
              "      <td>2.8M</td>\n",
              "    </tr>\n",
              "    <tr>\n",
              "      <th>5</th>\n",
              "      <td>5</td>\n",
              "      <td>5.6M</td>\n",
              "    </tr>\n",
              "    <tr>\n",
              "      <th>6</th>\n",
              "      <td>6</td>\n",
              "      <td>19M</td>\n",
              "    </tr>\n",
              "    <tr>\n",
              "      <th>7</th>\n",
              "      <td>7</td>\n",
              "      <td>29M</td>\n",
              "    </tr>\n",
              "    <tr>\n",
              "      <th>8</th>\n",
              "      <td>8</td>\n",
              "      <td>33M</td>\n",
              "    </tr>\n",
              "    <tr>\n",
              "      <th>9</th>\n",
              "      <td>9</td>\n",
              "      <td>3.1M</td>\n",
              "    </tr>\n",
              "    <tr>\n",
              "      <th>10</th>\n",
              "      <td>10</td>\n",
              "      <td>28M</td>\n",
              "    </tr>\n",
              "    <tr>\n",
              "      <th>11</th>\n",
              "      <td>11</td>\n",
              "      <td>12M</td>\n",
              "    </tr>\n",
              "    <tr>\n",
              "      <th>12</th>\n",
              "      <td>12</td>\n",
              "      <td>20M</td>\n",
              "    </tr>\n",
              "    <tr>\n",
              "      <th>13</th>\n",
              "      <td>13</td>\n",
              "      <td>21M</td>\n",
              "    </tr>\n",
              "    <tr>\n",
              "      <th>14</th>\n",
              "      <td>14</td>\n",
              "      <td>37M</td>\n",
              "    </tr>\n",
              "  </tbody>\n",
              "</table>\n",
              "</div>\n",
              "      <button class=\"colab-df-convert\" onclick=\"convertToInteractive('df-caab565f-588e-4d35-b57e-03c85a8b938c')\"\n",
              "              title=\"Convert this dataframe to an interactive table.\"\n",
              "              style=\"display:none;\">\n",
              "        \n",
              "  <svg xmlns=\"http://www.w3.org/2000/svg\" height=\"24px\"viewBox=\"0 0 24 24\"\n",
              "       width=\"24px\">\n",
              "    <path d=\"M0 0h24v24H0V0z\" fill=\"none\"/>\n",
              "    <path d=\"M18.56 5.44l.94 2.06.94-2.06 2.06-.94-2.06-.94-.94-2.06-.94 2.06-2.06.94zm-11 1L8.5 8.5l.94-2.06 2.06-.94-2.06-.94L8.5 2.5l-.94 2.06-2.06.94zm10 10l.94 2.06.94-2.06 2.06-.94-2.06-.94-.94-2.06-.94 2.06-2.06.94z\"/><path d=\"M17.41 7.96l-1.37-1.37c-.4-.4-.92-.59-1.43-.59-.52 0-1.04.2-1.43.59L10.3 9.45l-7.72 7.72c-.78.78-.78 2.05 0 2.83L4 21.41c.39.39.9.59 1.41.59.51 0 1.02-.2 1.41-.59l7.78-7.78 2.81-2.81c.8-.78.8-2.07 0-2.86zM5.41 20L4 18.59l7.72-7.72 1.47 1.35L5.41 20z\"/>\n",
              "  </svg>\n",
              "      </button>\n",
              "      \n",
              "  <style>\n",
              "    .colab-df-container {\n",
              "      display:flex;\n",
              "      flex-wrap:wrap;\n",
              "      gap: 12px;\n",
              "    }\n",
              "\n",
              "    .colab-df-convert {\n",
              "      background-color: #E8F0FE;\n",
              "      border: none;\n",
              "      border-radius: 50%;\n",
              "      cursor: pointer;\n",
              "      display: none;\n",
              "      fill: #1967D2;\n",
              "      height: 32px;\n",
              "      padding: 0 0 0 0;\n",
              "      width: 32px;\n",
              "    }\n",
              "\n",
              "    .colab-df-convert:hover {\n",
              "      background-color: #E2EBFA;\n",
              "      box-shadow: 0px 1px 2px rgba(60, 64, 67, 0.3), 0px 1px 3px 1px rgba(60, 64, 67, 0.15);\n",
              "      fill: #174EA6;\n",
              "    }\n",
              "\n",
              "    [theme=dark] .colab-df-convert {\n",
              "      background-color: #3B4455;\n",
              "      fill: #D2E3FC;\n",
              "    }\n",
              "\n",
              "    [theme=dark] .colab-df-convert:hover {\n",
              "      background-color: #434B5C;\n",
              "      box-shadow: 0px 1px 3px 1px rgba(0, 0, 0, 0.15);\n",
              "      filter: drop-shadow(0px 1px 2px rgba(0, 0, 0, 0.3));\n",
              "      fill: #FFFFFF;\n",
              "    }\n",
              "  </style>\n",
              "\n",
              "      <script>\n",
              "        const buttonEl =\n",
              "          document.querySelector('#df-caab565f-588e-4d35-b57e-03c85a8b938c button.colab-df-convert');\n",
              "        buttonEl.style.display =\n",
              "          google.colab.kernel.accessAllowed ? 'block' : 'none';\n",
              "\n",
              "        async function convertToInteractive(key) {\n",
              "          const element = document.querySelector('#df-caab565f-588e-4d35-b57e-03c85a8b938c');\n",
              "          const dataTable =\n",
              "            await google.colab.kernel.invokeFunction('convertToInteractive',\n",
              "                                                     [key], {});\n",
              "          if (!dataTable) return;\n",
              "\n",
              "          const docLinkHtml = 'Like what you see? Visit the ' +\n",
              "            '<a target=\"_blank\" href=https://colab.research.google.com/notebooks/data_table.ipynb>data table notebook</a>'\n",
              "            + ' to learn more about interactive tables.';\n",
              "          element.innerHTML = '';\n",
              "          dataTable['output_type'] = 'display_data';\n",
              "          await google.colab.output.renderOutput(dataTable, element);\n",
              "          const docLink = document.createElement('div');\n",
              "          docLink.innerHTML = docLinkHtml;\n",
              "          element.appendChild(docLink);\n",
              "        }\n",
              "      </script>\n",
              "    </div>\n",
              "  </div>\n",
              "  "
            ]
          },
          "metadata": {},
          "execution_count": 131
        }
      ]
    },
    {
      "cell_type": "code",
      "source": [
        "#datatype of size\n",
        "print(\"datatype of size :\",play_store['Size'].dtype,\"\\n\")\n",
        "\n",
        "#unique values presents in size column\n",
        "play_store.Size.unique()"
      ],
      "metadata": {
        "id": "FOrfICuNGGm-",
        "colab": {
          "base_uri": "https://localhost:8080/"
        },
        "outputId": "1147bfca-0225-40ee-e5f6-d6d6a0888fea"
      },
      "execution_count": 132,
      "outputs": [
        {
          "output_type": "stream",
          "name": "stdout",
          "text": [
            "datatype of size : object \n",
            "\n"
          ]
        },
        {
          "output_type": "execute_result",
          "data": {
            "text/plain": [
              "array(['19M', '14M', '8.7M', '25M', '2.8M', '5.6M', '29M', '33M', '3.1M',\n",
              "       '28M', '12M', '20M', '21M', '37M', '2.7M', '5.5M', '17M', '39M',\n",
              "       '31M', '4.2M', '7.0M', '23M', '6.0M', '6.1M', '4.6M', '9.2M',\n",
              "       '5.2M', '11M', '24M', 'Varies with device', '9.4M', '15M', '10M',\n",
              "       '1.2M', '26M', '8.0M', '7.9M', '56M', '57M', '35M', '54M', '201k',\n",
              "       '3.6M', '5.7M', '8.6M', '2.4M', '27M', '2.5M', '16M', '3.4M',\n",
              "       '8.9M', '3.9M', '2.9M', '38M', '32M', '5.4M', '18M', '1.1M',\n",
              "       '2.2M', '4.5M', '9.8M', '52M', '9.0M', '6.7M', '30M', '2.6M',\n",
              "       '7.1M', '3.7M', '22M', '7.4M', '6.4M', '3.2M', '8.2M', '9.9M',\n",
              "       '4.9M', '9.5M', '5.0M', '5.9M', '13M', '73M', '6.8M', '3.5M',\n",
              "       '4.0M', '2.3M', '7.2M', '2.1M', '42M', '7.3M', '9.1M', '55M',\n",
              "       '23k', '6.5M', '1.5M', '7.5M', '51M', '41M', '48M', '8.5M', '46M',\n",
              "       '8.3M', '4.3M', '4.7M', '3.3M', '40M', '7.8M', '8.8M', '6.6M',\n",
              "       '5.1M', '61M', '66M', '79k', '8.4M', '118k', '44M', '695k', '1.6M',\n",
              "       '6.2M', '18k', '53M', '1.4M', '3.0M', '5.8M', '3.8M', '9.6M',\n",
              "       '45M', '63M', '49M', '77M', '4.4M', '4.8M', '70M', '6.9M', '9.3M',\n",
              "       '10.0M', '8.1M', '36M', '84M', '97M', '2.0M', '1.9M', '1.8M',\n",
              "       '5.3M', '47M', '556k', '526k', '76M', '7.6M', '59M', '9.7M', '78M',\n",
              "       '72M', '43M', '7.7M', '6.3M', '334k', '34M', '93M', '65M', '79M',\n",
              "       '100M', '58M', '50M', '68M', '64M', '67M', '60M', '94M', '232k',\n",
              "       '99M', '624k', '95M', '8.5k', '41k', '292k', '11k', '80M', '1.7M',\n",
              "       '74M', '62M', '69M', '75M', '98M', '85M', '82M', '96M', '87M',\n",
              "       '71M', '86M', '91M', '81M', '92M', '83M', '88M', '704k', '862k',\n",
              "       '899k', '378k', '266k', '375k', '1.3M', '975k', '980k', '4.1M',\n",
              "       '89M', '696k', '544k', '525k', '920k', '779k', '853k', '720k',\n",
              "       '713k', '772k', '318k', '58k', '241k', '196k', '857k', '51k',\n",
              "       '953k', '865k', '251k', '930k', '540k', '313k', '746k', '203k',\n",
              "       '26k', '314k', '239k', '371k', '220k', '730k', '756k', '91k',\n",
              "       '293k', '17k', '74k', '14k', '317k', '78k', '924k', '902k', '818k',\n",
              "       '81k', '939k', '169k', '45k', '475k', '965k', '90M', '545k', '61k',\n",
              "       '283k', '655k', '714k', '93k', '872k', '121k', '322k', '1.0M',\n",
              "       '976k', '172k', '238k', '549k', '206k', '954k', '444k', '717k',\n",
              "       '210k', '609k', '308k', '705k', '306k', '904k', '473k', '175k',\n",
              "       '350k', '383k', '454k', '421k', '70k', '812k', '442k', '842k',\n",
              "       '417k', '412k', '459k', '478k', '335k', '782k', '721k', '430k',\n",
              "       '429k', '192k', '200k', '460k', '728k', '496k', '816k', '414k',\n",
              "       '506k', '887k', '613k', '243k', '569k', '778k', '683k', '592k',\n",
              "       '319k', '186k', '840k', '647k', '191k', '373k', '437k', '598k',\n",
              "       '716k', '585k', '982k', '222k', '219k', '55k', '948k', '323k',\n",
              "       '691k', '511k', '951k', '963k', '25k', '554k', '351k', '27k',\n",
              "       '82k', '208k', '913k', '514k', '551k', '29k', '103k', '898k',\n",
              "       '743k', '116k', '153k', '209k', '353k', '499k', '173k', '597k',\n",
              "       '809k', '122k', '411k', '400k', '801k', '787k', '237k', '50k',\n",
              "       '643k', '986k', '97k', '516k', '837k', '780k', '961k', '269k',\n",
              "       '20k', '498k', '600k', '749k', '642k', '881k', '72k', '656k',\n",
              "       '601k', '221k', '228k', '108k', '940k', '176k', '33k', '663k',\n",
              "       '34k', '942k', '259k', '164k', '458k', '245k', '629k', '28k',\n",
              "       '288k', '775k', '785k', '636k', '916k', '994k', '309k', '485k',\n",
              "       '914k', '903k', '608k', '500k', '54k', '562k', '847k', '957k',\n",
              "       '688k', '811k', '270k', '48k', '329k', '523k', '921k', '874k',\n",
              "       '981k', '784k', '280k', '24k', '518k', '754k', '892k', '154k',\n",
              "       '860k', '364k', '387k', '626k', '161k', '879k', '39k', '970k',\n",
              "       '170k', '141k', '160k', '144k', '143k', '190k', '376k', '193k',\n",
              "       '246k', '73k', '658k', '992k', '253k', '420k', '404k', '470k',\n",
              "       '226k', '240k', '89k', '234k', '257k', '861k', '467k', '157k',\n",
              "       '44k', '676k', '67k', '552k', '885k', '1020k', '582k', '619k'],\n",
              "      dtype=object)"
            ]
          },
          "metadata": {},
          "execution_count": 132
        }
      ]
    },
    {
      "cell_type": "markdown",
      "source": [
        "\n",
        "\n",
        "> 4.4.2 data conversion and cleaning\n",
        "\n"
      ],
      "metadata": {
        "id": "wsVNoxPLIpik"
      }
    },
    {
      "cell_type": "code",
      "source": [
        "# as we seen there is 1 value 'Varies with device' has no meaning so we'll replace it by nan.\n",
        "play_store['Size']= play_store['Size'].replace('Varies with device',np.nan)"
      ],
      "metadata": {
        "id": "yRUj-36gIiH1"
      },
      "execution_count": 135,
      "outputs": []
    },
    {
      "cell_type": "code",
      "source": [
        "# there is M represents MB and K represents KB        1MB = 1024kB \n",
        "# we have to convert it into numerical value for calculation and remove M and K from it.\n",
        "\n",
        "play_store['Size'] = play_store['Size'].astype(str)    \n",
        "\n",
        "print(play_store['Size'].dtype)\n",
        "\n",
        "def mbconverter(val):\n",
        "      mb= 'M'\n",
        "      kb= 'k'\n",
        "      if mb in val:\n",
        "         mb_conv=val.replace(mb,'')\n",
        "         return float(mb_conv)\n",
        "      elif kb in val:\n",
        "        kb_conv=val.replace(kb,'')\n",
        "        return (float(kb_conv)/1024)\n",
        "      else:\n",
        "        return float(val) \n",
        "\n",
        "play_store['Size'] = play_store['Size'].apply(mbconverter).astype(np.float32)      \n",
        "#play_store['Size'] = play_store['Size'].apply(lambda xy: mbconverter(xy['val']))\n",
        "\n",
        "play_store['Size'].head()\n",
        "\n",
        "play_store['Size'].unique()"
      ],
      "metadata": {
        "id": "RPQKkc8jF5xL",
        "colab": {
          "base_uri": "https://localhost:8080/"
        },
        "outputId": "7f1533df-3065-4723-879a-c4ac4936aa60"
      },
      "execution_count": 157,
      "outputs": [
        {
          "output_type": "stream",
          "name": "stdout",
          "text": [
            "object\n"
          ]
        },
        {
          "output_type": "execute_result",
          "data": {
            "text/plain": [
              "array([1.90000000e+01, 1.40000000e+01, 8.69999981e+00, 2.50000000e+01,\n",
              "       2.79999995e+00, 5.59999990e+00, 2.90000000e+01, 3.30000000e+01,\n",
              "       3.09999990e+00, 2.80000000e+01, 1.20000000e+01, 2.00000000e+01,\n",
              "       2.10000000e+01, 3.70000000e+01, 2.70000005e+00, 5.50000000e+00,\n",
              "       1.70000000e+01, 3.90000000e+01, 3.10000000e+01, 4.19999981e+00,\n",
              "       7.00000000e+00, 2.30000000e+01, 6.00000000e+00, 6.09999990e+00,\n",
              "       4.59999990e+00, 9.19999981e+00, 5.19999981e+00, 1.10000000e+01,\n",
              "       2.40000000e+01,            nan, 9.39999962e+00, 1.50000000e+01,\n",
              "       1.00000000e+01, 1.20000005e+00, 2.60000000e+01, 8.00000000e+00,\n",
              "       7.90000010e+00, 5.60000000e+01, 5.70000000e+01, 3.50000000e+01,\n",
              "       5.40000000e+01, 1.96289062e-01, 3.59999990e+00, 5.69999981e+00,\n",
              "       8.60000038e+00, 2.40000010e+00, 2.70000000e+01, 2.50000000e+00,\n",
              "       1.60000000e+01, 3.40000010e+00, 8.89999962e+00, 3.90000010e+00,\n",
              "       2.90000010e+00, 3.80000000e+01, 3.20000000e+01, 5.40000010e+00,\n",
              "       1.80000000e+01, 1.10000002e+00, 2.20000005e+00, 4.50000000e+00,\n",
              "       9.80000019e+00, 5.20000000e+01, 9.00000000e+00, 6.69999981e+00,\n",
              "       3.00000000e+01, 2.59999990e+00, 7.09999990e+00, 3.70000005e+00,\n",
              "       2.20000000e+01, 7.40000010e+00, 6.40000010e+00, 3.20000005e+00,\n",
              "       8.19999981e+00, 9.89999962e+00, 4.90000010e+00, 9.50000000e+00,\n",
              "       5.00000000e+00, 5.90000010e+00, 1.30000000e+01, 7.30000000e+01,\n",
              "       6.80000019e+00, 3.50000000e+00, 4.00000000e+00, 2.29999995e+00,\n",
              "       7.19999981e+00, 2.09999990e+00, 4.20000000e+01, 7.30000019e+00,\n",
              "       9.10000038e+00, 5.50000000e+01, 2.24609375e-02, 6.50000000e+00,\n",
              "       1.50000000e+00, 7.50000000e+00, 5.10000000e+01, 4.10000000e+01,\n",
              "       4.80000000e+01, 8.50000000e+00, 4.60000000e+01, 8.30000019e+00,\n",
              "       4.30000019e+00, 4.69999981e+00, 3.29999995e+00, 4.00000000e+01,\n",
              "       7.80000019e+00, 8.80000019e+00, 6.59999990e+00, 5.09999990e+00,\n",
              "       6.10000000e+01, 6.60000000e+01, 7.71484375e-02, 8.39999962e+00,\n",
              "       1.15234375e-01, 4.40000000e+01, 6.78710938e-01, 1.60000002e+00,\n",
              "       6.19999981e+00, 1.75781250e-02, 5.30000000e+01, 1.39999998e+00,\n",
              "       3.00000000e+00, 5.80000019e+00, 3.79999995e+00, 9.60000038e+00,\n",
              "       4.50000000e+01, 6.30000000e+01, 4.90000000e+01, 7.70000000e+01,\n",
              "       4.40000010e+00, 4.80000019e+00, 7.00000000e+01, 6.90000010e+00,\n",
              "       9.30000019e+00, 8.10000038e+00, 3.60000000e+01, 8.40000000e+01,\n",
              "       9.70000000e+01, 2.00000000e+00, 1.89999998e+00, 1.79999995e+00,\n",
              "       5.30000019e+00, 4.70000000e+01, 5.42968750e-01, 5.13671875e-01,\n",
              "       7.60000000e+01, 7.59999990e+00, 5.90000000e+01, 9.69999981e+00,\n",
              "       7.80000000e+01, 7.20000000e+01, 4.30000000e+01, 7.69999981e+00,\n",
              "       6.30000019e+00, 3.26171875e-01, 3.40000000e+01, 9.30000000e+01,\n",
              "       6.50000000e+01, 7.90000000e+01, 1.00000000e+02, 5.80000000e+01,\n",
              "       5.00000000e+01, 6.80000000e+01, 6.40000000e+01, 6.70000000e+01,\n",
              "       6.00000000e+01, 9.40000000e+01, 2.26562500e-01, 9.90000000e+01,\n",
              "       6.09375000e-01, 9.50000000e+01, 8.30078125e-03, 4.00390625e-02,\n",
              "       2.85156250e-01, 1.07421875e-02, 8.00000000e+01, 1.70000005e+00,\n",
              "       7.40000000e+01, 6.20000000e+01, 6.90000000e+01, 7.50000000e+01,\n",
              "       9.80000000e+01, 8.50000000e+01, 8.20000000e+01, 9.60000000e+01,\n",
              "       8.70000000e+01, 7.10000000e+01, 8.60000000e+01, 9.10000000e+01,\n",
              "       8.10000000e+01, 9.20000000e+01, 8.30000000e+01, 8.80000000e+01,\n",
              "       6.87500000e-01, 8.41796875e-01, 8.77929688e-01, 3.69140625e-01,\n",
              "       2.59765625e-01, 3.66210938e-01, 1.29999995e+00, 9.52148438e-01,\n",
              "       9.57031250e-01, 4.09999990e+00, 8.90000000e+01, 6.79687500e-01,\n",
              "       5.31250000e-01, 5.12695312e-01, 8.98437500e-01, 7.60742188e-01,\n",
              "       8.33007812e-01, 7.03125000e-01, 6.96289062e-01, 7.53906250e-01,\n",
              "       3.10546875e-01, 5.66406250e-02, 2.35351562e-01, 1.91406250e-01,\n",
              "       8.36914062e-01, 4.98046875e-02, 9.30664062e-01, 8.44726562e-01,\n",
              "       2.45117188e-01, 9.08203125e-01, 5.27343750e-01, 3.05664062e-01,\n",
              "       7.28515625e-01, 1.98242188e-01, 2.53906250e-02, 3.06640625e-01,\n",
              "       2.33398438e-01, 3.62304688e-01, 2.14843750e-01, 7.12890625e-01,\n",
              "       7.38281250e-01, 8.88671875e-02, 2.86132812e-01, 1.66015625e-02,\n",
              "       7.22656250e-02, 1.36718750e-02, 3.09570312e-01, 7.61718750e-02,\n",
              "       9.02343750e-01, 8.80859375e-01, 7.98828125e-01, 7.91015625e-02,\n",
              "       9.16992188e-01, 1.65039062e-01, 4.39453125e-02, 4.63867188e-01,\n",
              "       9.42382812e-01, 9.00000000e+01, 5.32226562e-01, 5.95703125e-02,\n",
              "       2.76367188e-01, 6.39648438e-01, 6.97265625e-01, 9.08203125e-02,\n",
              "       8.51562500e-01, 1.18164062e-01, 3.14453125e-01, 1.00000000e+00,\n",
              "       9.53125000e-01, 1.67968750e-01, 2.32421875e-01, 5.36132812e-01,\n",
              "       2.01171875e-01, 9.31640625e-01, 4.33593750e-01, 7.00195312e-01,\n",
              "       2.05078125e-01, 5.94726562e-01, 3.00781250e-01, 6.88476562e-01,\n",
              "       2.98828125e-01, 8.82812500e-01, 4.61914062e-01, 1.70898438e-01,\n",
              "       3.41796875e-01, 3.74023438e-01, 4.43359375e-01, 4.11132812e-01,\n",
              "       6.83593750e-02, 7.92968750e-01, 4.31640625e-01, 8.22265625e-01,\n",
              "       4.07226562e-01, 4.02343750e-01, 4.48242188e-01, 4.66796875e-01,\n",
              "       3.27148438e-01, 7.63671875e-01, 7.04101562e-01, 4.19921875e-01,\n",
              "       4.18945312e-01, 1.87500000e-01, 1.95312500e-01, 4.49218750e-01,\n",
              "       7.10937500e-01, 4.84375000e-01, 7.96875000e-01, 4.04296875e-01,\n",
              "       4.94140625e-01, 8.66210938e-01, 5.98632812e-01, 2.37304688e-01,\n",
              "       5.55664062e-01, 7.59765625e-01, 6.66992188e-01, 5.78125000e-01,\n",
              "       3.11523438e-01, 1.81640625e-01, 8.20312500e-01, 6.31835938e-01,\n",
              "       1.86523438e-01, 3.64257812e-01, 4.26757812e-01, 5.83984375e-01,\n",
              "       6.99218750e-01, 5.71289062e-01, 9.58984375e-01, 2.16796875e-01,\n",
              "       2.13867188e-01, 5.37109375e-02, 9.25781250e-01, 3.15429688e-01,\n",
              "       6.74804688e-01, 4.99023438e-01, 9.28710938e-01, 9.40429688e-01,\n",
              "       2.44140625e-02, 5.41015625e-01, 3.42773438e-01, 2.63671875e-02,\n",
              "       8.00781250e-02, 2.03125000e-01, 8.91601562e-01, 5.01953125e-01,\n",
              "       5.38085938e-01, 2.83203125e-02, 1.00585938e-01, 8.76953125e-01,\n",
              "       7.25585938e-01, 1.13281250e-01, 1.49414062e-01, 2.04101562e-01,\n",
              "       3.44726562e-01, 4.87304688e-01, 1.68945312e-01, 5.83007812e-01,\n",
              "       7.90039062e-01, 1.19140625e-01, 4.01367188e-01, 3.90625000e-01,\n",
              "       7.82226562e-01, 7.68554688e-01, 2.31445312e-01, 4.88281250e-02,\n",
              "       6.27929688e-01, 9.62890625e-01, 9.47265625e-02, 5.03906250e-01,\n",
              "       8.17382812e-01, 7.61718750e-01, 9.38476562e-01, 2.62695312e-01,\n",
              "       1.95312500e-02, 4.86328125e-01, 5.85937500e-01, 7.31445312e-01,\n",
              "       6.26953125e-01, 8.60351562e-01, 7.03125000e-02, 6.40625000e-01,\n",
              "       5.86914062e-01, 2.15820312e-01, 2.22656250e-01, 1.05468750e-01,\n",
              "       9.17968750e-01, 1.71875000e-01, 3.22265625e-02, 6.47460938e-01,\n",
              "       3.32031250e-02, 9.19921875e-01, 2.52929688e-01, 1.60156250e-01,\n",
              "       4.47265625e-01, 2.39257812e-01, 6.14257812e-01, 2.73437500e-02,\n",
              "       2.81250000e-01, 7.56835938e-01, 7.66601562e-01, 6.21093750e-01,\n",
              "       8.94531250e-01, 9.70703125e-01, 3.01757812e-01, 4.73632812e-01,\n",
              "       8.92578125e-01, 8.81835938e-01, 5.93750000e-01, 4.88281250e-01,\n",
              "       5.27343750e-02, 5.48828125e-01, 8.27148438e-01, 9.34570312e-01,\n",
              "       6.71875000e-01, 7.91992188e-01, 2.63671875e-01, 4.68750000e-02,\n",
              "       3.21289062e-01, 5.10742188e-01, 8.99414062e-01, 8.53515625e-01,\n",
              "       9.58007812e-01, 7.65625000e-01, 2.73437500e-01, 2.34375000e-02,\n",
              "       5.05859375e-01, 7.36328125e-01, 8.71093750e-01, 1.50390625e-01,\n",
              "       8.39843750e-01, 3.55468750e-01, 3.77929688e-01, 6.11328125e-01,\n",
              "       1.57226562e-01, 8.58398438e-01, 3.80859375e-02, 9.47265625e-01,\n",
              "       1.66015625e-01, 1.37695312e-01, 1.56250000e-01, 1.40625000e-01,\n",
              "       1.39648438e-01, 1.85546875e-01, 3.67187500e-01, 1.88476562e-01,\n",
              "       2.40234375e-01, 7.12890625e-02, 6.42578125e-01, 9.68750000e-01,\n",
              "       2.47070312e-01, 4.10156250e-01, 3.94531250e-01, 4.58984375e-01,\n",
              "       2.20703125e-01, 2.34375000e-01, 8.69140625e-02, 2.28515625e-01,\n",
              "       2.50976562e-01, 8.40820312e-01, 4.56054688e-01, 1.53320312e-01,\n",
              "       4.29687500e-02, 6.60156250e-01, 6.54296875e-02, 5.39062500e-01,\n",
              "       8.64257812e-01, 9.96093750e-01, 5.68359375e-01, 6.04492188e-01],\n",
              "      dtype=float32)"
            ]
          },
          "metadata": {},
          "execution_count": 157
        }
      ]
    },
    {
      "cell_type": "markdown",
      "source": [
        "# **5) DATA OPERATIONS AND  VISUALIZATION**"
      ],
      "metadata": {
        "id": "3SED4sVspa3N"
      }
    },
    {
      "cell_type": "markdown",
      "source": [
        "# **Now we will analyse the following questions and do data visualization on them**\n",
        "\n",
        "\n",
        "*   find the category of evey application and count how many application of same category.\n",
        "*   find the top 10 record of Rating above 4 and top 10 lowest Rating equals to \n",
        "\n",
        "*   15 Most reviewed applications list.\n",
        "*   apllications which has highest downloads and category of them.\n",
        "\n",
        "\n",
        "*   number of free and expensive application downloaded by users. \n",
        "*   \n",
        "\n",
        "\n",
        "\n",
        "\n",
        "\n"
      ],
      "metadata": {
        "id": "BvTL2GGYnZYU"
      }
    }
  ]
}