{
  "nbformat": 4,
  "nbformat_minor": 0,
  "metadata": {
    "colab": {
      "name": "Kuldip_parmar.ipynb",
      "provenance": [],
      "collapsed_sections": [],
      "mount_file_id": "1UcO6tzWvRb4H9ovTuOKI4tdZr9rYgUxq",
      "authorship_tag": "ABX9TyP6b4oZHwqQhwpdwfeOCKrl",
      "include_colab_link": true
    },
    "kernelspec": {
      "name": "python3",
      "display_name": "Python 3"
    },
    "language_info": {
      "name": "python"
    }
  },
  "cells": [
    {
      "cell_type": "markdown",
      "metadata": {
        "id": "view-in-github",
        "colab_type": "text"
      },
      "source": [
        "<a href=\"https://colab.research.google.com/github/kuldip-datascience/Play_store_eda/blob/main/Kuldip_parmar.ipynb\" target=\"_parent\"><img src=\"https://colab.research.google.com/assets/colab-badge.svg\" alt=\"Open In Colab\"/></a>"
      ]
    },
    {
      "cell_type": "markdown",
      "source": [
        "# **1) Import Libraries**"
      ],
      "metadata": {
        "id": "_7J70L7WKhL7"
      }
    },
    {
      "cell_type": "code",
      "execution_count": 2,
      "metadata": {
        "id": "IK3VwtSR6x_u"
      },
      "outputs": [],
      "source": [
        "import pandas as pd\n",
        "import numpy as np"
      ]
    },
    {
      "cell_type": "markdown",
      "source": [
        "# **2) Load DataSet into Pandas**"
      ],
      "metadata": {
        "id": "jqLrCJntKu_1"
      }
    },
    {
      "cell_type": "code",
      "source": [
        "play_store=pd.read_csv('/content/drive/MyDrive/Capstone Projects/play-store review/Copy of Play Store Data.csv')"
      ],
      "metadata": {
        "id": "-hDuNoIFK4YH"
      },
      "execution_count": 3,
      "outputs": []
    },
    {
      "cell_type": "markdown",
      "source": [
        "# **3) ANALYSIS OF DATASET**\n",
        "\n",
        "> we understand first the columns and rows and the information associated within.\n",
        "\n"
      ],
      "metadata": {
        "id": "QVu2kmxd7BGn"
      }
    },
    {
      "cell_type": "code",
      "source": [
        "#now we check the complete dataset\n",
        "play_store.head().T"
      ],
      "metadata": {
        "colab": {
          "base_uri": "https://localhost:8080/",
          "height": 457
        },
        "id": "pu-SUcb8_lel",
        "outputId": "f7c77590-1aba-4900-f4f6-17b8f38a73b7"
      },
      "execution_count": 4,
      "outputs": [
        {
          "output_type": "execute_result",
          "data": {
            "text/plain": [
              "                                                             0  \\\n",
              "App             Photo Editor & Candy Camera & Grid & ScrapBook   \n",
              "Category                                        ART_AND_DESIGN   \n",
              "Rating                                                     4.1   \n",
              "Reviews                                                    159   \n",
              "Size                                                       19M   \n",
              "Installs                                               10,000+   \n",
              "Type                                                      Free   \n",
              "Price                                                        0   \n",
              "Content Rating                                        Everyone   \n",
              "Genres                                            Art & Design   \n",
              "Last Updated                                   January 7, 2018   \n",
              "Current Ver                                              1.0.0   \n",
              "Android Ver                                       4.0.3 and up   \n",
              "\n",
              "                                        1  \\\n",
              "App                   Coloring book moana   \n",
              "Category                   ART_AND_DESIGN   \n",
              "Rating                                3.9   \n",
              "Reviews                               967   \n",
              "Size                                  14M   \n",
              "Installs                         500,000+   \n",
              "Type                                 Free   \n",
              "Price                                   0   \n",
              "Content Rating                   Everyone   \n",
              "Genres          Art & Design;Pretend Play   \n",
              "Last Updated             January 15, 2018   \n",
              "Current Ver                         2.0.0   \n",
              "Android Ver                  4.0.3 and up   \n",
              "\n",
              "                                                                2  \\\n",
              "App             U Launcher Lite – FREE Live Cool Themes, Hide ...   \n",
              "Category                                           ART_AND_DESIGN   \n",
              "Rating                                                        4.7   \n",
              "Reviews                                                     87510   \n",
              "Size                                                         8.7M   \n",
              "Installs                                               5,000,000+   \n",
              "Type                                                         Free   \n",
              "Price                                                           0   \n",
              "Content Rating                                           Everyone   \n",
              "Genres                                               Art & Design   \n",
              "Last Updated                                       August 1, 2018   \n",
              "Current Ver                                                 1.2.4   \n",
              "Android Ver                                          4.0.3 and up   \n",
              "\n",
              "                                    3                                      4  \n",
              "App             Sketch - Draw & Paint  Pixel Draw - Number Art Coloring Book  \n",
              "Category               ART_AND_DESIGN                         ART_AND_DESIGN  \n",
              "Rating                            4.5                                    4.3  \n",
              "Reviews                        215644                                    967  \n",
              "Size                              25M                                   2.8M  \n",
              "Installs                  50,000,000+                               100,000+  \n",
              "Type                             Free                                   Free  \n",
              "Price                               0                                      0  \n",
              "Content Rating                   Teen                               Everyone  \n",
              "Genres                   Art & Design                Art & Design;Creativity  \n",
              "Last Updated             June 8, 2018                          June 20, 2018  \n",
              "Current Ver        Varies with device                                    1.1  \n",
              "Android Ver                4.2 and up                             4.4 and up  "
            ],
            "text/html": [
              "\n",
              "  <div id=\"df-788c39e6-c9ce-4e0d-a171-e7bfe42adad7\">\n",
              "    <div class=\"colab-df-container\">\n",
              "      <div>\n",
              "<style scoped>\n",
              "    .dataframe tbody tr th:only-of-type {\n",
              "        vertical-align: middle;\n",
              "    }\n",
              "\n",
              "    .dataframe tbody tr th {\n",
              "        vertical-align: top;\n",
              "    }\n",
              "\n",
              "    .dataframe thead th {\n",
              "        text-align: right;\n",
              "    }\n",
              "</style>\n",
              "<table border=\"1\" class=\"dataframe\">\n",
              "  <thead>\n",
              "    <tr style=\"text-align: right;\">\n",
              "      <th></th>\n",
              "      <th>0</th>\n",
              "      <th>1</th>\n",
              "      <th>2</th>\n",
              "      <th>3</th>\n",
              "      <th>4</th>\n",
              "    </tr>\n",
              "  </thead>\n",
              "  <tbody>\n",
              "    <tr>\n",
              "      <th>App</th>\n",
              "      <td>Photo Editor &amp; Candy Camera &amp; Grid &amp; ScrapBook</td>\n",
              "      <td>Coloring book moana</td>\n",
              "      <td>U Launcher Lite – FREE Live Cool Themes, Hide ...</td>\n",
              "      <td>Sketch - Draw &amp; Paint</td>\n",
              "      <td>Pixel Draw - Number Art Coloring Book</td>\n",
              "    </tr>\n",
              "    <tr>\n",
              "      <th>Category</th>\n",
              "      <td>ART_AND_DESIGN</td>\n",
              "      <td>ART_AND_DESIGN</td>\n",
              "      <td>ART_AND_DESIGN</td>\n",
              "      <td>ART_AND_DESIGN</td>\n",
              "      <td>ART_AND_DESIGN</td>\n",
              "    </tr>\n",
              "    <tr>\n",
              "      <th>Rating</th>\n",
              "      <td>4.1</td>\n",
              "      <td>3.9</td>\n",
              "      <td>4.7</td>\n",
              "      <td>4.5</td>\n",
              "      <td>4.3</td>\n",
              "    </tr>\n",
              "    <tr>\n",
              "      <th>Reviews</th>\n",
              "      <td>159</td>\n",
              "      <td>967</td>\n",
              "      <td>87510</td>\n",
              "      <td>215644</td>\n",
              "      <td>967</td>\n",
              "    </tr>\n",
              "    <tr>\n",
              "      <th>Size</th>\n",
              "      <td>19M</td>\n",
              "      <td>14M</td>\n",
              "      <td>8.7M</td>\n",
              "      <td>25M</td>\n",
              "      <td>2.8M</td>\n",
              "    </tr>\n",
              "    <tr>\n",
              "      <th>Installs</th>\n",
              "      <td>10,000+</td>\n",
              "      <td>500,000+</td>\n",
              "      <td>5,000,000+</td>\n",
              "      <td>50,000,000+</td>\n",
              "      <td>100,000+</td>\n",
              "    </tr>\n",
              "    <tr>\n",
              "      <th>Type</th>\n",
              "      <td>Free</td>\n",
              "      <td>Free</td>\n",
              "      <td>Free</td>\n",
              "      <td>Free</td>\n",
              "      <td>Free</td>\n",
              "    </tr>\n",
              "    <tr>\n",
              "      <th>Price</th>\n",
              "      <td>0</td>\n",
              "      <td>0</td>\n",
              "      <td>0</td>\n",
              "      <td>0</td>\n",
              "      <td>0</td>\n",
              "    </tr>\n",
              "    <tr>\n",
              "      <th>Content Rating</th>\n",
              "      <td>Everyone</td>\n",
              "      <td>Everyone</td>\n",
              "      <td>Everyone</td>\n",
              "      <td>Teen</td>\n",
              "      <td>Everyone</td>\n",
              "    </tr>\n",
              "    <tr>\n",
              "      <th>Genres</th>\n",
              "      <td>Art &amp; Design</td>\n",
              "      <td>Art &amp; Design;Pretend Play</td>\n",
              "      <td>Art &amp; Design</td>\n",
              "      <td>Art &amp; Design</td>\n",
              "      <td>Art &amp; Design;Creativity</td>\n",
              "    </tr>\n",
              "    <tr>\n",
              "      <th>Last Updated</th>\n",
              "      <td>January 7, 2018</td>\n",
              "      <td>January 15, 2018</td>\n",
              "      <td>August 1, 2018</td>\n",
              "      <td>June 8, 2018</td>\n",
              "      <td>June 20, 2018</td>\n",
              "    </tr>\n",
              "    <tr>\n",
              "      <th>Current Ver</th>\n",
              "      <td>1.0.0</td>\n",
              "      <td>2.0.0</td>\n",
              "      <td>1.2.4</td>\n",
              "      <td>Varies with device</td>\n",
              "      <td>1.1</td>\n",
              "    </tr>\n",
              "    <tr>\n",
              "      <th>Android Ver</th>\n",
              "      <td>4.0.3 and up</td>\n",
              "      <td>4.0.3 and up</td>\n",
              "      <td>4.0.3 and up</td>\n",
              "      <td>4.2 and up</td>\n",
              "      <td>4.4 and up</td>\n",
              "    </tr>\n",
              "  </tbody>\n",
              "</table>\n",
              "</div>\n",
              "      <button class=\"colab-df-convert\" onclick=\"convertToInteractive('df-788c39e6-c9ce-4e0d-a171-e7bfe42adad7')\"\n",
              "              title=\"Convert this dataframe to an interactive table.\"\n",
              "              style=\"display:none;\">\n",
              "        \n",
              "  <svg xmlns=\"http://www.w3.org/2000/svg\" height=\"24px\"viewBox=\"0 0 24 24\"\n",
              "       width=\"24px\">\n",
              "    <path d=\"M0 0h24v24H0V0z\" fill=\"none\"/>\n",
              "    <path d=\"M18.56 5.44l.94 2.06.94-2.06 2.06-.94-2.06-.94-.94-2.06-.94 2.06-2.06.94zm-11 1L8.5 8.5l.94-2.06 2.06-.94-2.06-.94L8.5 2.5l-.94 2.06-2.06.94zm10 10l.94 2.06.94-2.06 2.06-.94-2.06-.94-.94-2.06-.94 2.06-2.06.94z\"/><path d=\"M17.41 7.96l-1.37-1.37c-.4-.4-.92-.59-1.43-.59-.52 0-1.04.2-1.43.59L10.3 9.45l-7.72 7.72c-.78.78-.78 2.05 0 2.83L4 21.41c.39.39.9.59 1.41.59.51 0 1.02-.2 1.41-.59l7.78-7.78 2.81-2.81c.8-.78.8-2.07 0-2.86zM5.41 20L4 18.59l7.72-7.72 1.47 1.35L5.41 20z\"/>\n",
              "  </svg>\n",
              "      </button>\n",
              "      \n",
              "  <style>\n",
              "    .colab-df-container {\n",
              "      display:flex;\n",
              "      flex-wrap:wrap;\n",
              "      gap: 12px;\n",
              "    }\n",
              "\n",
              "    .colab-df-convert {\n",
              "      background-color: #E8F0FE;\n",
              "      border: none;\n",
              "      border-radius: 50%;\n",
              "      cursor: pointer;\n",
              "      display: none;\n",
              "      fill: #1967D2;\n",
              "      height: 32px;\n",
              "      padding: 0 0 0 0;\n",
              "      width: 32px;\n",
              "    }\n",
              "\n",
              "    .colab-df-convert:hover {\n",
              "      background-color: #E2EBFA;\n",
              "      box-shadow: 0px 1px 2px rgba(60, 64, 67, 0.3), 0px 1px 3px 1px rgba(60, 64, 67, 0.15);\n",
              "      fill: #174EA6;\n",
              "    }\n",
              "\n",
              "    [theme=dark] .colab-df-convert {\n",
              "      background-color: #3B4455;\n",
              "      fill: #D2E3FC;\n",
              "    }\n",
              "\n",
              "    [theme=dark] .colab-df-convert:hover {\n",
              "      background-color: #434B5C;\n",
              "      box-shadow: 0px 1px 3px 1px rgba(0, 0, 0, 0.15);\n",
              "      filter: drop-shadow(0px 1px 2px rgba(0, 0, 0, 0.3));\n",
              "      fill: #FFFFFF;\n",
              "    }\n",
              "  </style>\n",
              "\n",
              "      <script>\n",
              "        const buttonEl =\n",
              "          document.querySelector('#df-788c39e6-c9ce-4e0d-a171-e7bfe42adad7 button.colab-df-convert');\n",
              "        buttonEl.style.display =\n",
              "          google.colab.kernel.accessAllowed ? 'block' : 'none';\n",
              "\n",
              "        async function convertToInteractive(key) {\n",
              "          const element = document.querySelector('#df-788c39e6-c9ce-4e0d-a171-e7bfe42adad7');\n",
              "          const dataTable =\n",
              "            await google.colab.kernel.invokeFunction('convertToInteractive',\n",
              "                                                     [key], {});\n",
              "          if (!dataTable) return;\n",
              "\n",
              "          const docLinkHtml = 'Like what you see? Visit the ' +\n",
              "            '<a target=\"_blank\" href=https://colab.research.google.com/notebooks/data_table.ipynb>data table notebook</a>'\n",
              "            + ' to learn more about interactive tables.';\n",
              "          element.innerHTML = '';\n",
              "          dataTable['output_type'] = 'display_data';\n",
              "          await google.colab.output.renderOutput(dataTable, element);\n",
              "          const docLink = document.createElement('div');\n",
              "          docLink.innerHTML = docLinkHtml;\n",
              "          element.appendChild(docLink);\n",
              "        }\n",
              "      </script>\n",
              "    </div>\n",
              "  </div>\n",
              "  "
            ]
          },
          "metadata": {},
          "execution_count": 4
        }
      ]
    },
    {
      "cell_type": "code",
      "source": [
        "# first we get the summary of dataset playstore\n",
        "play_store.info()\n",
        "\n",
        "#dataset has 13 columns and 10841 rows with null values in some columns "
      ],
      "metadata": {
        "colab": {
          "base_uri": "https://localhost:8080/"
        },
        "id": "4Neva7zv7-PY",
        "outputId": "128933a6-4749-4905-b6a7-eb9b7d164a79"
      },
      "execution_count": null,
      "outputs": [
        {
          "output_type": "stream",
          "name": "stdout",
          "text": [
            "<class 'pandas.core.frame.DataFrame'>\n",
            "RangeIndex: 10841 entries, 0 to 10840\n",
            "Data columns (total 13 columns):\n",
            " #   Column          Non-Null Count  Dtype  \n",
            "---  ------          --------------  -----  \n",
            " 0   App             10841 non-null  object \n",
            " 1   Category        10841 non-null  object \n",
            " 2   Rating          9367 non-null   float64\n",
            " 3   Reviews         10841 non-null  object \n",
            " 4   Size            10841 non-null  object \n",
            " 5   Installs        10841 non-null  object \n",
            " 6   Type            10840 non-null  object \n",
            " 7   Price           10841 non-null  object \n",
            " 8   Content Rating  10840 non-null  object \n",
            " 9   Genres          10841 non-null  object \n",
            " 10  Last Updated    10841 non-null  object \n",
            " 11  Current Ver     10833 non-null  object \n",
            " 12  Android Ver     10838 non-null  object \n",
            "dtypes: float64(1), object(12)\n",
            "memory usage: 1.1+ MB\n"
          ]
        }
      ]
    },
    {
      "cell_type": "markdown",
      "source": [
        "\n",
        "\n",
        "> now we see description of dataset\n",
        "\n",
        "\n"
      ],
      "metadata": {
        "id": "o4SXecBALl_h"
      }
    },
    {
      "cell_type": "code",
      "source": [
        "play_store.describe()"
      ],
      "metadata": {
        "colab": {
          "base_uri": "https://localhost:8080/",
          "height": 300
        },
        "id": "aQfwo7naLuCr",
        "outputId": "ff703644-7e85-4bdd-8e91-f74e02a8bbaa"
      },
      "execution_count": null,
      "outputs": [
        {
          "output_type": "execute_result",
          "data": {
            "text/plain": [
              "            Rating\n",
              "count  9367.000000\n",
              "mean      4.193338\n",
              "std       0.537431\n",
              "min       1.000000\n",
              "25%       4.000000\n",
              "50%       4.300000\n",
              "75%       4.500000\n",
              "max      19.000000"
            ],
            "text/html": [
              "\n",
              "  <div id=\"df-bee0f5bd-6e57-4c40-bc73-b1b3528bdc75\">\n",
              "    <div class=\"colab-df-container\">\n",
              "      <div>\n",
              "<style scoped>\n",
              "    .dataframe tbody tr th:only-of-type {\n",
              "        vertical-align: middle;\n",
              "    }\n",
              "\n",
              "    .dataframe tbody tr th {\n",
              "        vertical-align: top;\n",
              "    }\n",
              "\n",
              "    .dataframe thead th {\n",
              "        text-align: right;\n",
              "    }\n",
              "</style>\n",
              "<table border=\"1\" class=\"dataframe\">\n",
              "  <thead>\n",
              "    <tr style=\"text-align: right;\">\n",
              "      <th></th>\n",
              "      <th>Rating</th>\n",
              "    </tr>\n",
              "  </thead>\n",
              "  <tbody>\n",
              "    <tr>\n",
              "      <th>count</th>\n",
              "      <td>9367.000000</td>\n",
              "    </tr>\n",
              "    <tr>\n",
              "      <th>mean</th>\n",
              "      <td>4.193338</td>\n",
              "    </tr>\n",
              "    <tr>\n",
              "      <th>std</th>\n",
              "      <td>0.537431</td>\n",
              "    </tr>\n",
              "    <tr>\n",
              "      <th>min</th>\n",
              "      <td>1.000000</td>\n",
              "    </tr>\n",
              "    <tr>\n",
              "      <th>25%</th>\n",
              "      <td>4.000000</td>\n",
              "    </tr>\n",
              "    <tr>\n",
              "      <th>50%</th>\n",
              "      <td>4.300000</td>\n",
              "    </tr>\n",
              "    <tr>\n",
              "      <th>75%</th>\n",
              "      <td>4.500000</td>\n",
              "    </tr>\n",
              "    <tr>\n",
              "      <th>max</th>\n",
              "      <td>19.000000</td>\n",
              "    </tr>\n",
              "  </tbody>\n",
              "</table>\n",
              "</div>\n",
              "      <button class=\"colab-df-convert\" onclick=\"convertToInteractive('df-bee0f5bd-6e57-4c40-bc73-b1b3528bdc75')\"\n",
              "              title=\"Convert this dataframe to an interactive table.\"\n",
              "              style=\"display:none;\">\n",
              "        \n",
              "  <svg xmlns=\"http://www.w3.org/2000/svg\" height=\"24px\"viewBox=\"0 0 24 24\"\n",
              "       width=\"24px\">\n",
              "    <path d=\"M0 0h24v24H0V0z\" fill=\"none\"/>\n",
              "    <path d=\"M18.56 5.44l.94 2.06.94-2.06 2.06-.94-2.06-.94-.94-2.06-.94 2.06-2.06.94zm-11 1L8.5 8.5l.94-2.06 2.06-.94-2.06-.94L8.5 2.5l-.94 2.06-2.06.94zm10 10l.94 2.06.94-2.06 2.06-.94-2.06-.94-.94-2.06-.94 2.06-2.06.94z\"/><path d=\"M17.41 7.96l-1.37-1.37c-.4-.4-.92-.59-1.43-.59-.52 0-1.04.2-1.43.59L10.3 9.45l-7.72 7.72c-.78.78-.78 2.05 0 2.83L4 21.41c.39.39.9.59 1.41.59.51 0 1.02-.2 1.41-.59l7.78-7.78 2.81-2.81c.8-.78.8-2.07 0-2.86zM5.41 20L4 18.59l7.72-7.72 1.47 1.35L5.41 20z\"/>\n",
              "  </svg>\n",
              "      </button>\n",
              "      \n",
              "  <style>\n",
              "    .colab-df-container {\n",
              "      display:flex;\n",
              "      flex-wrap:wrap;\n",
              "      gap: 12px;\n",
              "    }\n",
              "\n",
              "    .colab-df-convert {\n",
              "      background-color: #E8F0FE;\n",
              "      border: none;\n",
              "      border-radius: 50%;\n",
              "      cursor: pointer;\n",
              "      display: none;\n",
              "      fill: #1967D2;\n",
              "      height: 32px;\n",
              "      padding: 0 0 0 0;\n",
              "      width: 32px;\n",
              "    }\n",
              "\n",
              "    .colab-df-convert:hover {\n",
              "      background-color: #E2EBFA;\n",
              "      box-shadow: 0px 1px 2px rgba(60, 64, 67, 0.3), 0px 1px 3px 1px rgba(60, 64, 67, 0.15);\n",
              "      fill: #174EA6;\n",
              "    }\n",
              "\n",
              "    [theme=dark] .colab-df-convert {\n",
              "      background-color: #3B4455;\n",
              "      fill: #D2E3FC;\n",
              "    }\n",
              "\n",
              "    [theme=dark] .colab-df-convert:hover {\n",
              "      background-color: #434B5C;\n",
              "      box-shadow: 0px 1px 3px 1px rgba(0, 0, 0, 0.15);\n",
              "      filter: drop-shadow(0px 1px 2px rgba(0, 0, 0, 0.3));\n",
              "      fill: #FFFFFF;\n",
              "    }\n",
              "  </style>\n",
              "\n",
              "      <script>\n",
              "        const buttonEl =\n",
              "          document.querySelector('#df-bee0f5bd-6e57-4c40-bc73-b1b3528bdc75 button.colab-df-convert');\n",
              "        buttonEl.style.display =\n",
              "          google.colab.kernel.accessAllowed ? 'block' : 'none';\n",
              "\n",
              "        async function convertToInteractive(key) {\n",
              "          const element = document.querySelector('#df-bee0f5bd-6e57-4c40-bc73-b1b3528bdc75');\n",
              "          const dataTable =\n",
              "            await google.colab.kernel.invokeFunction('convertToInteractive',\n",
              "                                                     [key], {});\n",
              "          if (!dataTable) return;\n",
              "\n",
              "          const docLinkHtml = 'Like what you see? Visit the ' +\n",
              "            '<a target=\"_blank\" href=https://colab.research.google.com/notebooks/data_table.ipynb>data table notebook</a>'\n",
              "            + ' to learn more about interactive tables.';\n",
              "          element.innerHTML = '';\n",
              "          dataTable['output_type'] = 'display_data';\n",
              "          await google.colab.output.renderOutput(dataTable, element);\n",
              "          const docLink = document.createElement('div');\n",
              "          docLink.innerHTML = docLinkHtml;\n",
              "          element.appendChild(docLink);\n",
              "        }\n",
              "      </script>\n",
              "    </div>\n",
              "  </div>\n",
              "  "
            ]
          },
          "metadata": {},
          "execution_count": 5
        }
      ]
    },
    {
      "cell_type": "markdown",
      "source": [
        "\n",
        "\n",
        "> now we see available columns are there in dataset\n",
        "\n"
      ],
      "metadata": {
        "id": "yqaqzQ7xLzQm"
      }
    },
    {
      "cell_type": "code",
      "source": [
        "play_store.columns"
      ],
      "metadata": {
        "colab": {
          "base_uri": "https://localhost:8080/"
        },
        "id": "F2A2qa9vLyqG",
        "outputId": "af19a59a-f82d-46d5-8722-4b0ad9776614"
      },
      "execution_count": null,
      "outputs": [
        {
          "output_type": "execute_result",
          "data": {
            "text/plain": [
              "Index(['App', 'Category', 'Rating', 'Reviews', 'Size', 'Installs', 'Type',\n",
              "       'Price', 'Content Rating', 'Genres', 'Last Updated', 'Current Ver',\n",
              "       'Android Ver'],\n",
              "      dtype='object')"
            ]
          },
          "metadata": {},
          "execution_count": 6
        }
      ]
    },
    {
      "cell_type": "markdown",
      "source": [
        "# **4) DATA CLEANING AND FILL MISSING DATA** "
      ],
      "metadata": {
        "id": "vw42xryhOZ_v"
      }
    },
    {
      "cell_type": "markdown",
      "source": [
        "\n",
        "\n",
        "> we replace some columns name which have space between their name.\n",
        "\n"
      ],
      "metadata": {
        "id": "HdD3VKkLNOBw"
      }
    },
    {
      "cell_type": "code",
      "source": [
        "print(\"Before updating columns name :\\n\\n\",play_store.columns)"
      ],
      "metadata": {
        "id": "K1ZT-A5zSK_q",
        "colab": {
          "base_uri": "https://localhost:8080/"
        },
        "outputId": "3a20c75c-eae3-470c-e5a2-108efc9e9b48"
      },
      "execution_count": 5,
      "outputs": [
        {
          "output_type": "stream",
          "name": "stdout",
          "text": [
            "Before updating columns name :\n",
            "\n",
            " Index(['App', 'Category', 'Rating', 'Reviews', 'Size', 'Installs', 'Type',\n",
            "       'Price', 'Content Rating', 'Genres', 'Last Updated', 'Current Ver',\n",
            "       'Android Ver'],\n",
            "      dtype='object')\n"
          ]
        }
      ]
    },
    {
      "cell_type": "code",
      "source": [
        "play_store.columns = [col_name.replace(' ','_') for col_name in play_store.columns]\n",
        "\n",
        "print(\"After updating columns name :\\n\\n\",play_store.columns)"
      ],
      "metadata": {
        "id": "WP5P7YuANm4D",
        "colab": {
          "base_uri": "https://localhost:8080/"
        },
        "outputId": "2fa925fb-476d-4e87-f94b-30d678a48b1a"
      },
      "execution_count": 6,
      "outputs": [
        {
          "output_type": "stream",
          "name": "stdout",
          "text": [
            "After updating columns name :\n",
            "\n",
            " Index(['App', 'Category', 'Rating', 'Reviews', 'Size', 'Installs', 'Type',\n",
            "       'Price', 'Content_Rating', 'Genres', 'Last_Updated', 'Current_Ver',\n",
            "       'Android_Ver'],\n",
            "      dtype='object')\n"
          ]
        }
      ]
    },
    {
      "cell_type": "code",
      "source": [
        ""
      ],
      "metadata": {
        "id": "-9YTAkaFoLFI"
      },
      "execution_count": null,
      "outputs": []
    },
    {
      "cell_type": "markdown",
      "source": [
        "\n",
        "\n",
        "> now we do some cleaning and replace null and missing values of columns one by one.\n",
        "\n"
      ],
      "metadata": {
        "id": "UOPNnbIvOSwz"
      }
    },
    {
      "cell_type": "markdown",
      "source": [
        "# 4.1  *Installs* column cleaning \n",
        "\n",
        "\n",
        "\n"
      ],
      "metadata": {
        "id": "qNVU7JoCTS5l"
      }
    },
    {
      "cell_type": "code",
      "source": [
        "# type of installs column\n",
        "play_store['Installs'].head()"
      ],
      "metadata": {
        "colab": {
          "base_uri": "https://localhost:8080/"
        },
        "id": "AYMLhG-eWyJX",
        "outputId": "a3e9e6e8-0897-41d7-f3b8-483d22f9a504"
      },
      "execution_count": 7,
      "outputs": [
        {
          "output_type": "execute_result",
          "data": {
            "text/plain": [
              "0        10,000+\n",
              "1       500,000+\n",
              "2     5,000,000+\n",
              "3    50,000,000+\n",
              "4       100,000+\n",
              "Name: Installs, dtype: object"
            ]
          },
          "metadata": {},
          "execution_count": 7
        }
      ]
    },
    {
      "cell_type": "markdown",
      "source": [
        "\n",
        "\n",
        " **4.1.1  cleaning of data**\n",
        "\n"
      ],
      "metadata": {
        "id": "eUlTX-dncn8P"
      }
    },
    {
      "cell_type": "markdown",
      "source": [
        "\n",
        "\n",
        "> \" Installs datatype is str , so column might have some string value let's check it \"\n",
        "\n"
      ],
      "metadata": {
        "id": "YBPNS9bqez6N"
      }
    },
    {
      "cell_type": "code",
      "source": [
        "play_store.Installs.value_counts()"
      ],
      "metadata": {
        "id": "ON_uePmZd5Af",
        "colab": {
          "base_uri": "https://localhost:8080/"
        },
        "outputId": "cc652ea1-cd76-4896-aebf-96b35a3cf887"
      },
      "execution_count": 8,
      "outputs": [
        {
          "output_type": "execute_result",
          "data": {
            "text/plain": [
              "1,000,000+        1579\n",
              "10,000,000+       1252\n",
              "100,000+          1169\n",
              "10,000+           1054\n",
              "1,000+             907\n",
              "5,000,000+         752\n",
              "100+               719\n",
              "500,000+           539\n",
              "50,000+            479\n",
              "5,000+             477\n",
              "100,000,000+       409\n",
              "10+                386\n",
              "500+               330\n",
              "50,000,000+        289\n",
              "50+                205\n",
              "5+                  82\n",
              "500,000,000+        72\n",
              "1+                  67\n",
              "1,000,000,000+      58\n",
              "0+                  14\n",
              "0                    1\n",
              "Free                 1\n",
              "Name: Installs, dtype: int64"
            ]
          },
          "metadata": {},
          "execution_count": 8
        }
      ]
    },
    {
      "cell_type": "markdown",
      "source": [
        "\n",
        "\n",
        "> As we can see there is 1 value Free and it has no meaning so drop it. \n",
        "\n"
      ],
      "metadata": {
        "id": "leXBWnCUZsxe"
      }
    },
    {
      "cell_type": "code",
      "source": [
        "play_store.drop(play_store[play_store['Installs'] == 'Free'].index, inplace = True)\n",
        "\n",
        "\n",
        "play_store.Installs.value_counts()"
      ],
      "metadata": {
        "id": "Oz6dMRV7aEWb"
      },
      "execution_count": null,
      "outputs": []
    },
    {
      "cell_type": "markdown",
      "source": [
        "\n",
        "\n",
        "> now remove  '+'  and ' , '  sign .\n",
        "\n"
      ],
      "metadata": {
        "id": "Gp4R2_Nne7P_"
      }
    },
    {
      "cell_type": "code",
      "source": [
        "#for every value changes we use map and lambda function\n",
        "play_store['Installs'] = play_store['Installs'].map(lambda x: x.replace('+' , \"\"))\n",
        "\n",
        "\n",
        "#as we can see there is ',' is making problem to convert into int so we remove it.\n",
        "play_store['Installs'] = play_store['Installs'].map(lambda x: x.replace(',' , ''))"
      ],
      "metadata": {
        "colab": {
          "base_uri": "https://localhost:8080/"
        },
        "id": "195YoFrBfMc6",
        "outputId": "23599741-b3aa-45ff-f56e-4234c6170690"
      },
      "execution_count": 22,
      "outputs": [
        {
          "output_type": "execute_result",
          "data": {
            "text/plain": [
              "0       10000\n",
              "1      500000\n",
              "2     5000000\n",
              "3    50000000\n",
              "4      100000\n",
              "Name: Installs, dtype: int64"
            ]
          },
          "metadata": {},
          "execution_count": 22
        }
      ]
    },
    {
      "cell_type": "markdown",
      "source": [
        "**4.1.2  datatype conversion**"
      ],
      "metadata": {
        "id": "NUIunJcFlxpa"
      }
    },
    {
      "cell_type": "code",
      "source": [
        "#changing str to int\n",
        "play_store['Installs'] = play_store['Installs'].astype(np.int64)\n",
        "\n",
        "\n",
        "#now we can see we have done cleaning and make column int64 type as well. 0\n",
        "play_store.Installs.head()"
      ],
      "metadata": {
        "id": "ftrhjsvul9uH"
      },
      "execution_count": null,
      "outputs": []
    },
    {
      "cell_type": "markdown",
      "source": [
        "# 4.2  *Price* column cleaning"
      ],
      "metadata": {
        "id": "yrLy-Lepoys1"
      }
    },
    {
      "cell_type": "code",
      "source": [
        "#here we replaced null to 0 in  Rating column which has float datatype\n",
        "play_store['Rating']=play_store['Rating'].replace(np.nan,0)\n",
        "\n",
        "#here we fill 1 missing value as 'Unknown'\n",
        "play_store['Type']=play_store['Type'].replace(np.nan,'Unknown')\n",
        "\n",
        "#here we fill 1 missing value as 'Unknown'\n",
        "play_store['Content_Rating']=play_store['Content_Rating'].replace(np.nan,'Unknown')\n",
        "\n",
        "#here we fill 8 missing value as '1.0.0' lowest possible Current version\n",
        "play_store['Current_Ver']=play_store['Current_Ver'].replace(np.nan,'1.0.0')\n",
        "\n",
        "#here we fill 8 missing value as '1.0.0' lowest possible Current version\n",
        "play_store['Android_Ver']=play_store['Android_Ver'].replace(np.nan,'1.0 and up')\n",
        "\n",
        "\n",
        "\n",
        "play_store.info()"
      ],
      "metadata": {
        "id": "GXFNngi1R6_-",
        "colab": {
          "base_uri": "https://localhost:8080/"
        },
        "outputId": "a524d9b1-fea7-4c09-cbfb-c7cb543c622a"
      },
      "execution_count": null,
      "outputs": [
        {
          "output_type": "stream",
          "name": "stdout",
          "text": [
            "<class 'pandas.core.frame.DataFrame'>\n",
            "RangeIndex: 10841 entries, 0 to 10840\n",
            "Data columns (total 13 columns):\n",
            " #   Column          Non-Null Count  Dtype  \n",
            "---  ------          --------------  -----  \n",
            " 0   App             10841 non-null  object \n",
            " 1   Category        10841 non-null  object \n",
            " 2   Rating          10841 non-null  float64\n",
            " 3   Reviews         10841 non-null  object \n",
            " 4   Size            10841 non-null  object \n",
            " 5   Installs        10841 non-null  object \n",
            " 6   Type            10841 non-null  object \n",
            " 7   Price           10841 non-null  object \n",
            " 8   Content_Rating  10841 non-null  object \n",
            " 9   Genres          10841 non-null  object \n",
            " 10  Last_Updated    10841 non-null  object \n",
            " 11  Current_Ver     10841 non-null  object \n",
            " 12  Android_Ver     10841 non-null  object \n",
            "dtypes: float64(1), object(12)\n",
            "memory usage: 1.1+ MB\n"
          ]
        }
      ]
    },
    {
      "cell_type": "code",
      "source": [
        "x=play_store['App'].duplicated()\n",
        "x.sum()"
      ],
      "metadata": {
        "colab": {
          "base_uri": "https://localhost:8080/"
        },
        "id": "DyK-gSIVUV5q",
        "outputId": "cfec59d8-b63f-495f-f135-36aa6ffceca9"
      },
      "execution_count": null,
      "outputs": [
        {
          "output_type": "execute_result",
          "data": {
            "text/plain": [
              "1181"
            ]
          },
          "metadata": {},
          "execution_count": 22
        }
      ]
    },
    {
      "cell_type": "markdown",
      "source": [
        "# **5) DATA OPERATIONS AND  VISUALIZATION**"
      ],
      "metadata": {
        "id": "3SED4sVspa3N"
      }
    },
    {
      "cell_type": "code",
      "source": [
        ""
      ],
      "metadata": {
        "id": "h6lNcYkVqM3V"
      },
      "execution_count": null,
      "outputs": []
    },
    {
      "cell_type": "markdown",
      "source": [
        "# **Now we will analyse the following questions and do data visualization on them**\n",
        "\n",
        "\n",
        "*   find the category of evey application and count how many application of same category.\n",
        "*   find the top 10 record of Rating above 4 and top 10 lowest Rating equals to \n",
        "\n",
        "*   15 Most reviewed applications list.\n",
        "*   apllications which has highest downloads and category of them.\n",
        "\n",
        "\n",
        "*   number of free and expensive application downloaded by users. \n",
        "*   \n",
        "\n",
        "\n",
        "\n",
        "\n",
        "\n"
      ],
      "metadata": {
        "id": "BvTL2GGYnZYU"
      }
    }
  ]
}